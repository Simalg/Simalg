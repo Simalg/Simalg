{
  "nbformat": 4,
  "nbformat_minor": 0,
  "metadata": {
    "colab": {
      "provenance": [],
      "gpuType": "T4",
      "mount_file_id": "1gP8XStnYS7awGUSLUN_VN6uUL4XanJs4",
      "authorship_tag": "ABX9TyOkyC27DVie7k01jO3pCHaV",
      "include_colab_link": true
    },
    "kernelspec": {
      "name": "python3",
      "display_name": "Python 3"
    },
    "language_info": {
      "name": "python"
    },
    "accelerator": "GPU"
  },
  "cells": [
    {
      "cell_type": "markdown",
      "metadata": {
        "id": "view-in-github",
        "colab_type": "text"
      },
      "source": [
        "<a href=\"https://colab.research.google.com/github/Simalg/Simalg/blob/main/Covid19VGG19.ipynb\" target=\"_parent\"><img src=\"https://colab.research.google.com/assets/colab-badge.svg\" alt=\"Open In Colab\"/></a>"
      ]
    },
    {
      "cell_type": "code",
      "execution_count": null,
      "metadata": {
        "id": "jSnFjbvFMMXs"
      },
      "outputs": [],
      "source": []
    },
    {
      "cell_type": "code",
      "source": [
        "from google.colab import drive\n",
        "drive.mount('/content/drive')"
      ],
      "metadata": {
        "colab": {
          "base_uri": "https://localhost:8080/"
        },
        "id": "vw6lzuW4MSya",
        "outputId": "a6b8abab-8df7-4a46-d23e-add27981fb55"
      },
      "execution_count": null,
      "outputs": [
        {
          "output_type": "stream",
          "name": "stdout",
          "text": [
            "Drive already mounted at /content/drive; to attempt to forcibly remount, call drive.mount(\"/content/drive\", force_remount=True).\n"
          ]
        }
      ]
    },
    {
      "cell_type": "code",
      "source": [
        "import tensorflow as tf\n",
        "from tensorflow.keras import layers\n",
        "from tensorflow.keras.callbacks import TensorBoard\n",
        "from tensorflow.keras.models import Model\n",
        "from tensorflow.keras.layers import Input, Dense\n",
        "from tensorflow.keras.applications import VGG19\n",
        "from tensorflow.keras.layers import Input, Conv2D, MaxPooling2D, Flatten, Dense\n",
        "from tensorflow.keras.models import Model\n",
        "\n",
        "from keras.preprocessing.image import ImageDataGenerator\n",
        "from keras.models import Model, load_model\n",
        "from keras.preprocessing import image\n",
        "from keras.utils import load_img, img_to_array\n",
        "\n",
        "from sklearn.metrics import confusion_matrix\n",
        "from sklearn.metrics import classification_report"
      ],
      "metadata": {
        "id": "WYTd3Om1M78i"
      },
      "execution_count": null,
      "outputs": []
    },
    {
      "cell_type": "code",
      "source": [
        "import pandas as pd\n",
        "import numpy as np\n",
        "import matplotlib.pyplot as plt"
      ],
      "metadata": {
        "id": "M_hLShwvNBwm"
      },
      "execution_count": null,
      "outputs": []
    },
    {
      "cell_type": "code",
      "source": [
        "train_path = \"/content/drive/MyDrive/Data/train\""
      ],
      "metadata": {
        "id": "kKuMZTlRNCf0"
      },
      "execution_count": null,
      "outputs": []
    },
    {
      "cell_type": "code",
      "source": [
        "test_path = \"/content/drive/MyDrive/Data/test\""
      ],
      "metadata": {
        "id": "7GAzM6dyNFYF"
      },
      "execution_count": null,
      "outputs": []
    },
    {
      "cell_type": "code",
      "source": [
        "data_gen = ImageDataGenerator(rescale=1./255)"
      ],
      "metadata": {
        "id": "-xcCAEEGNWB-"
      },
      "execution_count": null,
      "outputs": []
    },
    {
      "cell_type": "code",
      "source": [
        "train_generator = data_gen.flow_from_directory(\n",
        "  train_path,\n",
        "  target_size=(224, 224),\n",
        "  batch_size=4,\n",
        "  class_mode='categorical',\n",
        "  shuffle=True)"
      ],
      "metadata": {
        "colab": {
          "base_uri": "https://localhost:8080/"
        },
        "id": "JWSSfF_ENa2w",
        "outputId": "96632356-93e1-4e0c-cbd3-f828e53a7b25"
      },
      "execution_count": null,
      "outputs": [
        {
          "output_type": "stream",
          "name": "stdout",
          "text": [
            "Found 5144 images belonging to 3 classes.\n"
          ]
        }
      ]
    },
    {
      "cell_type": "code",
      "source": [
        "test_generator = data_gen.flow_from_directory(\n",
        "  test_path,\n",
        "  target_size=(224, 224),\n",
        "  batch_size=16, #görüntüleri daha küçük şekilde parçalara böler\n",
        "  class_mode='categorical',\n",
        "  shuffle=False)"
      ],
      "metadata": {
        "colab": {
          "base_uri": "https://localhost:8080/"
        },
        "id": "PDMT3gilOAgg",
        "outputId": "e9464a7c-199c-4bec-e359-1529b499b645"
      },
      "execution_count": null,
      "outputs": [
        {
          "output_type": "stream",
          "name": "stdout",
          "text": [
            "Found 1288 images belonging to 3 classes.\n"
          ]
        }
      ]
    },
    {
      "cell_type": "code",
      "source": [
        "input_shape, num_classes = (224, 224, 3), 3"
      ],
      "metadata": {
        "id": "raRAHLsGO3dq"
      },
      "execution_count": null,
      "outputs": []
    },
    {
      "cell_type": "code",
      "source": [
        "input = Input(shape=input_shape)\n",
        "\n",
        "base_model = VGG19(include_top=False, pooling=\"avg\", weights=\"imagenet\")(input)\n",
        "dense_layer = Dense(64, activation='relu')(base_model)\n",
        "output_layer = Dense(num_classes, activation='softmax')(dense_layer)\n",
        "\n",
        "model = Model(inputs=input, outputs=output_layer)\n",
        "model.layers[0].trainable = False"
      ],
      "metadata": {
        "id": "75pZs1FFPGPv",
        "colab": {
          "base_uri": "https://localhost:8080/"
        },
        "outputId": "835655f5-0d16-483e-fb96-84a637029c31"
      },
      "execution_count": null,
      "outputs": [
        {
          "output_type": "stream",
          "name": "stdout",
          "text": [
            "Downloading data from https://storage.googleapis.com/tensorflow/keras-applications/vgg19/vgg19_weights_tf_dim_ordering_tf_kernels_notop.h5\n",
            "80134624/80134624 [==============================] - 0s 0us/step\n"
          ]
        }
      ]
    },
    {
      "cell_type": "code",
      "source": [
        "model.summary()"
      ],
      "metadata": {
        "colab": {
          "base_uri": "https://localhost:8080/"
        },
        "id": "JtOD73EFPgcz",
        "outputId": "8c0d19d1-522f-45ab-8ba0-07b5396f0693"
      },
      "execution_count": null,
      "outputs": [
        {
          "output_type": "stream",
          "name": "stdout",
          "text": [
            "Model: \"model\"\n",
            "_________________________________________________________________\n",
            " Layer (type)                Output Shape              Param #   \n",
            "=================================================================\n",
            " input_1 (InputLayer)        [(None, 224, 224, 3)]     0         \n",
            "                                                                 \n",
            " vgg19 (Functional)          (None, 512)               20024384  \n",
            "                                                                 \n",
            " dense (Dense)               (None, 64)                32832     \n",
            "                                                                 \n",
            " dense_1 (Dense)             (None, 3)                 195       \n",
            "                                                                 \n",
            "=================================================================\n",
            "Total params: 20057411 (76.51 MB)\n",
            "Trainable params: 20057411 (76.51 MB)\n",
            "Non-trainable params: 0 (0.00 Byte)\n",
            "_________________________________________________________________\n"
          ]
        }
      ]
    },
    {
      "cell_type": "code",
      "source": [
        "optimizer = tf.keras.optimizers.SGD(learning_rate=0.01)"
      ],
      "metadata": {
        "id": "xsfSA6X8Pnmc"
      },
      "execution_count": null,
      "outputs": []
    },
    {
      "cell_type": "code",
      "source": [
        "model.compile(optimizer=optimizer, loss=\"categorical_crossentropy\", metrics=[\"accuracy\", tf.keras.metrics.Precision(), tf.keras.metrics.Recall()])"
      ],
      "metadata": {
        "id": "rhaiITJXPvbO"
      },
      "execution_count": null,
      "outputs": []
    },
    {
      "cell_type": "code",
      "source": [
        "fit_history = model.fit_generator(\n",
        "    train_generator,\n",
        "    epochs=20,\n",
        "    validation_data=test_generator,\n",
        ")"
      ],
      "metadata": {
        "colab": {
          "base_uri": "https://localhost:8080/"
        },
        "id": "h08_-RNePzW2",
        "outputId": "60549609-0931-4e0f-e747-adda1740fac2"
      },
      "execution_count": null,
      "outputs": [
        {
          "output_type": "stream",
          "name": "stderr",
          "text": [
            "<ipython-input-14-2e5dbd1feb0c>:1: UserWarning: `Model.fit_generator` is deprecated and will be removed in a future version. Please use `Model.fit`, which supports generators.\n",
            "  fit_history = model.fit_generator(\n"
          ]
        },
        {
          "output_type": "stream",
          "name": "stdout",
          "text": [
            "Epoch 1/20\n",
            "1286/1286 [==============================] - 1694s 1s/step - loss: 0.4146 - accuracy: 0.8320 - precision: 0.8435 - recall: 0.8184 - val_loss: 0.1568 - val_accuracy: 0.9550 - val_precision: 0.9562 - val_recall: 0.9488\n",
            "Epoch 2/20\n",
            "1286/1286 [==============================] - 155s 121ms/step - loss: 0.1677 - accuracy: 0.9360 - precision: 0.9379 - recall: 0.9339 - val_loss: 0.1638 - val_accuracy: 0.9371 - val_precision: 0.9399 - val_recall: 0.9348\n",
            "Epoch 3/20\n",
            "1286/1286 [==============================] - 155s 120ms/step - loss: 0.1166 - accuracy: 0.9594 - precision: 0.9599 - recall: 0.9586 - val_loss: 0.1423 - val_accuracy: 0.9573 - val_precision: 0.9573 - val_recall: 0.9573\n",
            "Epoch 4/20\n",
            "1286/1286 [==============================] - 155s 120ms/step - loss: 0.1361 - accuracy: 0.9528 - precision: 0.9545 - recall: 0.9510 - val_loss: 0.0880 - val_accuracy: 0.9689 - val_precision: 0.9689 - val_recall: 0.9682\n",
            "Epoch 5/20\n",
            "1286/1286 [==============================] - 155s 120ms/step - loss: 0.0908 - accuracy: 0.9638 - precision: 0.9642 - recall: 0.9633 - val_loss: 0.0600 - val_accuracy: 0.9759 - val_precision: 0.9759 - val_recall: 0.9759\n",
            "Epoch 6/20\n",
            "1286/1286 [==============================] - 155s 120ms/step - loss: 0.0771 - accuracy: 0.9718 - precision: 0.9720 - recall: 0.9714 - val_loss: 0.0815 - val_accuracy: 0.9682 - val_precision: 0.9681 - val_recall: 0.9674\n",
            "Epoch 7/20\n",
            "1286/1286 [==============================] - 154s 120ms/step - loss: 0.0624 - accuracy: 0.9753 - precision: 0.9755 - recall: 0.9753 - val_loss: 0.2239 - val_accuracy: 0.9224 - val_precision: 0.9238 - val_recall: 0.9224\n",
            "Epoch 8/20\n",
            "1286/1286 [==============================] - 156s 121ms/step - loss: 0.0565 - accuracy: 0.9798 - precision: 0.9798 - recall: 0.9792 - val_loss: 0.1281 - val_accuracy: 0.9643 - val_precision: 0.9643 - val_recall: 0.9643\n",
            "Epoch 9/20\n",
            "1286/1286 [==============================] - 158s 123ms/step - loss: 0.0450 - accuracy: 0.9841 - precision: 0.9841 - recall: 0.9841 - val_loss: 0.0959 - val_accuracy: 0.9682 - val_precision: 0.9696 - val_recall: 0.9674\n",
            "Epoch 10/20\n",
            "1286/1286 [==============================] - 156s 121ms/step - loss: 0.0450 - accuracy: 0.9846 - precision: 0.9852 - recall: 0.9846 - val_loss: 0.0774 - val_accuracy: 0.9759 - val_precision: 0.9759 - val_recall: 0.9759\n",
            "Epoch 11/20\n",
            "1286/1286 [==============================] - 155s 121ms/step - loss: 0.0460 - accuracy: 0.9844 - precision: 0.9846 - recall: 0.9841 - val_loss: 0.1159 - val_accuracy: 0.9550 - val_precision: 0.9550 - val_recall: 0.9550\n",
            "Epoch 12/20\n",
            "1286/1286 [==============================] - 156s 121ms/step - loss: 0.0252 - accuracy: 0.9916 - precision: 0.9920 - recall: 0.9916 - val_loss: 0.0840 - val_accuracy: 0.9752 - val_precision: 0.9752 - val_recall: 0.9752\n",
            "Epoch 13/20\n",
            "1286/1286 [==============================] - 155s 121ms/step - loss: 0.0251 - accuracy: 0.9903 - precision: 0.9903 - recall: 0.9903 - val_loss: 0.1095 - val_accuracy: 0.9720 - val_precision: 0.9720 - val_recall: 0.9713\n",
            "Epoch 14/20\n",
            "1286/1286 [==============================] - 155s 121ms/step - loss: 0.0251 - accuracy: 0.9897 - precision: 0.9899 - recall: 0.9897 - val_loss: 0.0973 - val_accuracy: 0.9744 - val_precision: 0.9744 - val_recall: 0.9744\n",
            "Epoch 15/20\n",
            "1286/1286 [==============================] - 155s 121ms/step - loss: 0.0299 - accuracy: 0.9918 - precision: 0.9918 - recall: 0.9916 - val_loss: 0.0778 - val_accuracy: 0.9759 - val_precision: 0.9759 - val_recall: 0.9759\n",
            "Epoch 16/20\n",
            "1286/1286 [==============================] - 155s 121ms/step - loss: 0.0137 - accuracy: 0.9953 - precision: 0.9953 - recall: 0.9953 - val_loss: 0.2397 - val_accuracy: 0.9387 - val_precision: 0.9394 - val_recall: 0.9387\n",
            "Epoch 17/20\n",
            "1286/1286 [==============================] - 158s 123ms/step - loss: 0.0167 - accuracy: 0.9942 - precision: 0.9942 - recall: 0.9942 - val_loss: 0.1225 - val_accuracy: 0.9612 - val_precision: 0.9627 - val_recall: 0.9612\n",
            "Epoch 18/20\n",
            "1286/1286 [==============================] - 156s 121ms/step - loss: 0.0310 - accuracy: 0.9897 - precision: 0.9901 - recall: 0.9893 - val_loss: 0.0811 - val_accuracy: 0.9798 - val_precision: 0.9798 - val_recall: 0.9798\n",
            "Epoch 19/20\n",
            "1286/1286 [==============================] - 156s 121ms/step - loss: 0.0067 - accuracy: 0.9984 - precision: 0.9984 - recall: 0.9984 - val_loss: 0.1202 - val_accuracy: 0.9705 - val_precision: 0.9705 - val_recall: 0.9705\n",
            "Epoch 20/20\n",
            "1286/1286 [==============================] - 156s 121ms/step - loss: 0.0099 - accuracy: 0.9971 - precision: 0.9971 - recall: 0.9971 - val_loss: 0.1009 - val_accuracy: 0.9744 - val_precision: 0.9744 - val_recall: 0.9744\n"
          ]
        }
      ]
    },
    {
      "cell_type": "code",
      "source": [
        "model.save('model.h5')"
      ],
      "metadata": {
        "id": "4AWeEhMNQYpi",
        "colab": {
          "base_uri": "https://localhost:8080/"
        },
        "outputId": "3dd27182-ffbb-495b-fdff-abdfd6c41944"
      },
      "execution_count": null,
      "outputs": [
        {
          "output_type": "stream",
          "name": "stderr",
          "text": [
            "/usr/local/lib/python3.10/dist-packages/keras/src/engine/training.py:3103: UserWarning: You are saving your model as an HDF5 file via `model.save()`. This file format is considered legacy. We recommend using instead the native Keras format, e.g. `model.save('my_model.keras')`.\n",
            "  saving_api.save_model(\n"
          ]
        }
      ]
    },
    {
      "cell_type": "code",
      "source": [
        "plt.plot(fit_history.history['accuracy'])\n",
        "plt.plot(fit_history.history['val_accuracy'])\n",
        "plt.title('Model Olasılığı')\n",
        "plt.ylabel('Olasılık')\n",
        "plt.xlabel('Epoch')\n",
        "plt.legend(['Eğitim', 'Doğrulama'], loc='upper left')\n",
        "plt.show()"
      ],
      "metadata": {
        "id": "79Du2jRPQdcA",
        "colab": {
          "base_uri": "https://localhost:8080/",
          "height": 472
        },
        "outputId": "20f25544-9f5f-47db-9675-32735aeb2707"
      },
      "execution_count": null,
      "outputs": [
        {
          "output_type": "display_data",
          "data": {
            "text/plain": [
              "<Figure size 640x480 with 1 Axes>"
            ],
            "image/png": "[encoded data removed]"
          },
          "metadata": {}
        }
      ]
    },
    {
      "cell_type": "code",
      "source": [
        "plt.plot(fit_history.history['loss'])\n",
        "plt.plot(fit_history.history['val_loss'])\n",
        "plt.title('Model Kaybı')\n",
        "plt.ylabel('Kayıp (Loss)')\n",
        "plt.xlabel('Epoch')\n",
        "plt.legend(['Eğitim', 'Doğrulama'], loc='upper left')\n",
        "plt.show()"
      ],
      "metadata": {
        "id": "Z1CkkdoGQghx",
        "colab": {
          "base_uri": "https://localhost:8080/",
          "height": 472
        },
        "outputId": "304fcb20-4a1c-4718-9e57-2684fa7243b2"
      },
      "execution_count": null,
      "outputs": [
        {
          "output_type": "display_data",
          "data": {
            "text/plain": [
              "<Figure size 640x480 with 1 Axes>"
            ],
            "image/png": "[encoded data removed]"
          },
          "metadata": {}
        }
      ]
    },
    {
      "cell_type": "code",
      "source": [
        "loss, accuracy, precision, recall = model.evaluate(test_generator)"
      ],
      "metadata": {
        "id": "akVR4CY0QmlF",
        "colab": {
          "base_uri": "https://localhost:8080/"
        },
        "outputId": "911b4ee5-c488-4e27-f92b-b3b022666244"
      },
      "execution_count": null,
      "outputs": [
        {
          "output_type": "stream",
          "name": "stdout",
          "text": [
            "81/81 [==============================] - 20s 228ms/step - loss: 0.1009 - accuracy: 0.9744 - precision: 0.9744 - recall: 0.9744\n"
          ]
        }
      ]
    },
    {
      "cell_type": "code",
      "source": [
        "F1_Skoru = ((precision * recall) / (precision + recall)) * 2\n",
        "F1_Skoru"
      ],
      "metadata": {
        "id": "t71dzooHQv-7",
        "colab": {
          "base_uri": "https://localhost:8080/"
        },
        "outputId": "e4956311-20fb-49c7-829f-0c1a6d463ab9"
      },
      "execution_count": null,
      "outputs": [
        {
          "output_type": "execute_result",
          "data": {
            "text/plain": [
              "0.9743788838386536"
            ]
          },
          "metadata": {},
          "execution_count": 19
        }
      ]
    },
    {
      "cell_type": "code",
      "source": [
        "y_true = test_generator.classes\n",
        "pred = model.predict(test_generator)\n",
        "pred = np.argmax(pred, axis=1)\n",
        "\n",
        "cm = confusion_matrix(y_true, pred)"
      ],
      "metadata": {
        "id": "9OVzGA9XQ1m8",
        "colab": {
          "base_uri": "https://localhost:8080/"
        },
        "outputId": "420f4df4-13fc-48d8-8386-5674ed2f6f3d"
      },
      "execution_count": null,
      "outputs": [
        {
          "output_type": "stream",
          "name": "stdout",
          "text": [
            "81/81 [==============================] - 19s 231ms/step\n"
          ]
        }
      ]
    },
    {
      "cell_type": "code",
      "source": [
        "report = classification_report(y_true, pred)\n",
        "print(\"\\nClassification Report:\")\n",
        "print(report)"
      ],
      "metadata": {
        "colab": {
          "base_uri": "https://localhost:8080/"
        },
        "id": "2FvftWr1J8Sx",
        "outputId": "042977d2-b197-4337-b6ed-5fb5593de9ef"
      },
      "execution_count": null,
      "outputs": [
        {
          "output_type": "stream",
          "name": "stdout",
          "text": [
            "\n",
            "Classification Report:\n",
            "              precision    recall  f1-score   support\n",
            "\n",
            "           0       0.99      0.99      0.99       116\n",
            "           1       0.93      0.97      0.95       317\n",
            "           2       0.99      0.97      0.98       855\n",
            "\n",
            "    accuracy                           0.97      1288\n",
            "   macro avg       0.97      0.98      0.97      1288\n",
            "weighted avg       0.98      0.97      0.97      1288\n",
            "\n"
          ]
        }
      ]
    },
    {
      "cell_type": "code",
      "source": [
        "print(\"Confusion Matrix:\")\n",
        "print(cm)"
      ],
      "metadata": {
        "id": "NB_zbL8jQ4BW",
        "colab": {
          "base_uri": "https://localhost:8080/"
        },
        "outputId": "03b120a3-1bab-407a-9ddf-f83c63787250"
      },
      "execution_count": null,
      "outputs": [
        {
          "output_type": "stream",
          "name": "stdout",
          "text": [
            "Confusion Matrix:\n",
            "[[115   0   1]\n",
            " [  1 309   7]\n",
            " [  0  24 831]]\n"
          ]
        }
      ]
    }
  ]
}