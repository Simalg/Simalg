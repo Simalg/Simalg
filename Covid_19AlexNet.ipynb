{
  "nbformat": 4,
  "nbformat_minor": 0,
  "metadata": {
    "colab": {
      "provenance": [],
      "gpuType": "T4",
      "include_colab_link": true
    },
    "kernelspec": {
      "name": "python3",
      "display_name": "Python 3"
    },
    "language_info": {
      "name": "python"
    },
    "accelerator": "GPU"
  },
  "cells": [
    {
      "cell_type": "markdown",
      "metadata": {
        "id": "view-in-github",
        "colab_type": "text"
      },
      "source": [
        "<a href=\"https://colab.research.google.com/github/Simalg/Simalg/blob/main/Covid_19AlexNet.ipynb\" target=\"_parent\"><img src=\"https://colab.research.google.com/assets/colab-badge.svg\" alt=\"Open In Colab\"/></a>"
      ]
    },
    {
      "cell_type": "code",
      "source": [
        "from google.colab import drive\n",
        "drive.mount('/content/drive')"
      ],
      "metadata": {
        "colab": {
          "base_uri": "https://localhost:8080/"
        },
        "id": "sEOfZxtLEJQL",
        "outputId": "e6d377d6-88cd-4fc5-9b6c-eb13be1cb53a"
      },
      "execution_count": null,
      "outputs": [
        {
          "output_type": "stream",
          "name": "stdout",
          "text": [
            "Drive already mounted at /content/drive; to attempt to forcibly remount, call drive.mount(\"/content/drive\", force_remount=True).\n"
          ]
        }
      ]
    },
    {
      "cell_type": "code",
      "source": [
        "import tensorflow as tf\n",
        "from tensorflow.keras import layers\n",
        "from tensorflow.keras.callbacks import TensorBoard\n",
        "from tensorflow.keras.layers import Input, Conv2D, MaxPooling2D, Flatten, Dense\n",
        "from tensorflow.keras.models import Model\n",
        "\n",
        "from keras.preprocessing.image import ImageDataGenerator\n",
        "from keras.models import Model, load_model\n",
        "from keras.preprocessing import image\n",
        "from keras.utils import load_img, img_to_array\n",
        "\n",
        "from sklearn.metrics import confusion_matrix"
      ],
      "metadata": {
        "id": "AYQZFQ5CtnUc"
      },
      "execution_count": null,
      "outputs": []
    },
    {
      "cell_type": "code",
      "source": [
        "import pandas as pd\n",
        "import numpy as np\n",
        "import matplotlib.pyplot as plt"
      ],
      "metadata": {
        "id": "4X8km8SSuJ_9"
      },
      "execution_count": null,
      "outputs": []
    },
    {
      "cell_type": "code",
      "source": [
        "train_path = \"/content/drive/MyDrive/Data/train\""
      ],
      "metadata": {
        "id": "i19HLl6RudA5"
      },
      "execution_count": null,
      "outputs": []
    },
    {
      "cell_type": "code",
      "source": [
        "test_path = \"/content/drive/MyDrive/Data/test\""
      ],
      "metadata": {
        "id": "H_y5jJ5uuidR"
      },
      "execution_count": null,
      "outputs": []
    },
    {
      "cell_type": "code",
      "source": [
        "data_gen = ImageDataGenerator(rescale=1./255) #resmi normalize eder"
      ],
      "metadata": {
        "id": "Ctd15YjauxGe"
      },
      "execution_count": null,
      "outputs": []
    },
    {
      "cell_type": "code",
      "source": [
        "train_generator = data_gen.flow_from_directory(\n",
        "  train_path,\n",
        "  target_size=(224, 224),\n",
        "  batch_size=4,\n",
        "  class_mode='categorical',\n",
        "  shuffle=True)"
      ],
      "metadata": {
        "colab": {
          "base_uri": "https://localhost:8080/"
        },
        "id": "EV6S1i15u5ar",
        "outputId": "dc81bd8e-2391-4664-a4c6-a56e3431bb8d"
      },
      "execution_count": null,
      "outputs": [
        {
          "output_type": "stream",
          "name": "stdout",
          "text": [
            "Found 251 images belonging to 3 classes.\n"
          ]
        }
      ]
    },
    {
      "cell_type": "code",
      "source": [
        "test_generator = data_gen.flow_from_directory(\n",
        "  test_path,\n",
        "  target_size=(224, 224),\n",
        "  batch_size=2, #görüntüleri daha küçük şekilde parçalara böler\n",
        "  class_mode='categorical',\n",
        "  shuffle=False)"
      ],
      "metadata": {
        "colab": {
          "base_uri": "https://localhost:8080/"
        },
        "id": "qOsuRCc7vDTa",
        "outputId": "e7c71920-7873-4ade-ee1e-f61ebd74285e"
      },
      "execution_count": null,
      "outputs": [
        {
          "output_type": "stream",
          "name": "stdout",
          "text": [
            "Found 66 images belonging to 3 classes.\n"
          ]
        }
      ]
    },
    {
      "cell_type": "code",
      "source": [
        "input_shape, num_classes = (224, 224, 3), 3"
      ],
      "metadata": {
        "id": "R5O7iv29vRCL"
      },
      "execution_count": null,
      "outputs": []
    },
    {
      "cell_type": "code",
      "source": [
        "input = Input(shape=input_shape)\n",
        "\n",
        "x = Conv2D(96, (11, 11), strides=(4, 4), activation='relu')(input)\n",
        "x = MaxPooling2D((3, 3), strides=(2, 2))(x)\n",
        "x = Conv2D(256, (5, 5), activation='relu')(x)\n",
        "x = MaxPooling2D((3, 3), strides=(2, 2))(x)\n",
        "x = Conv2D(384, (3, 3), activation='relu')(x)\n",
        "x = Conv2D(384, (3, 3), activation='relu')(x)\n",
        "x = Conv2D(256, (3, 3), activation='relu')(x)\n",
        "x = MaxPooling2D((3, 3), strides=(2, 2))(x)\n",
        "x = Flatten()(x)\n",
        "x = Dense(4096, activation='relu')(x)\n",
        "x = Dense(4096, activation='relu')(x)\n",
        "\n",
        "output_layer = Dense(num_classes, activation='softmax')(x)\n",
        "model = Model(inputs=input, outputs=output_layer)"
      ],
      "metadata": {
        "id": "uSuP_VX0vaq9"
      },
      "execution_count": null,
      "outputs": []
    },
    {
      "cell_type": "code",
      "source": [
        "model.summary()"
      ],
      "metadata": {
        "colab": {
          "base_uri": "https://localhost:8080/"
        },
        "id": "-K93SlwUwNkz",
        "outputId": "db6a9868-be8a-43ab-99f7-78f7246dc3d8"
      },
      "execution_count": null,
      "outputs": [
        {
          "output_type": "stream",
          "name": "stdout",
          "text": [
            "Model: \"model\"\n",
            "_________________________________________________________________\n",
            " Layer (type)                Output Shape              Param #   \n",
            "=================================================================\n",
            " input_1 (InputLayer)        [(None, 224, 224, 3)]     0         \n",
            "                                                                 \n",
            " conv2d (Conv2D)             (None, 54, 54, 96)        34944     \n",
            "                                                                 \n",
            " max_pooling2d (MaxPooling2  (None, 26, 26, 96)        0         \n",
            " D)                                                              \n",
            "                                                                 \n",
            " conv2d_1 (Conv2D)           (None, 22, 22, 256)       614656    \n",
            "                                                                 \n",
            " max_pooling2d_1 (MaxPoolin  (None, 10, 10, 256)       0         \n",
            " g2D)                                                            \n",
            "                                                                 \n",
            " conv2d_2 (Conv2D)           (None, 8, 8, 384)         885120    \n",
            "                                                                 \n",
            " conv2d_3 (Conv2D)           (None, 6, 6, 384)         1327488   \n",
            "                                                                 \n",
            " conv2d_4 (Conv2D)           (None, 4, 4, 256)         884992    \n",
            "                                                                 \n",
            " max_pooling2d_2 (MaxPoolin  (None, 1, 1, 256)         0         \n",
            " g2D)                                                            \n",
            "                                                                 \n",
            " flatten (Flatten)           (None, 256)               0         \n",
            "                                                                 \n",
            " dense (Dense)               (None, 4096)              1052672   \n",
            "                                                                 \n",
            " dense_1 (Dense)             (None, 4096)              16781312  \n",
            "                                                                 \n",
            " dense_2 (Dense)             (None, 3)                 12291     \n",
            "                                                                 \n",
            "=================================================================\n",
            "Total params: 21593475 (82.37 MB)\n",
            "Trainable params: 21593475 (82.37 MB)\n",
            "Non-trainable params: 0 (0.00 Byte)\n",
            "_________________________________________________________________\n"
          ]
        }
      ]
    },
    {
      "cell_type": "code",
      "source": [
        "optimizer = tf.keras.optimizers.SGD(learning_rate=0.01)"
      ],
      "metadata": {
        "id": "0c8ymnKowlxw"
      },
      "execution_count": null,
      "outputs": []
    },
    {
      "cell_type": "code",
      "source": [
        "model.compile(optimizer=optimizer, loss=\"categorical_crossentropy\", metrics=[\"accuracy\", tf.keras.metrics.Precision(), tf.keras.metrics.Recall()])"
      ],
      "metadata": {
        "id": "mnjr7HDWwaXs"
      },
      "execution_count": null,
      "outputs": []
    },
    {
      "cell_type": "code",
      "source": [
        "fit_history = model.fit_generator(\n",
        "    train_generator,\n",
        "    epochs=100,\n",
        "    validation_data=test_generator,\n",
        ")"
      ],
      "metadata": {
        "colab": {
          "base_uri": "https://localhost:8080/"
        },
        "id": "MuayUFoYwtP5",
        "outputId": "c42d335f-ea22-4d45-ffeb-6c5aa51a6c36"
      },
      "execution_count": null,
      "outputs": [
        {
          "output_type": "stream",
          "name": "stderr",
          "text": [
            "<ipython-input-17-0c5a84407213>:1: UserWarning: `Model.fit_generator` is deprecated and will be removed in a future version. Please use `Model.fit`, which supports generators.\n",
            "  fit_history = model.fit_generator(\n"
          ]
        },
        {
          "output_type": "stream",
          "name": "stdout",
          "text": [
            "Epoch 1/100\n",
            "63/63 [==============================] - 307s 5s/step - loss: 1.0889 - accuracy: 0.4223 - precision: 0.0000e+00 - recall: 0.0000e+00 - val_loss: 1.0900 - val_accuracy: 0.3939 - val_precision: 0.0000e+00 - val_recall: 0.0000e+00\n",
            "Epoch 2/100\n",
            "63/63 [==============================] - 6s 100ms/step - loss: 1.0769 - accuracy: 0.4422 - precision: 0.0000e+00 - recall: 0.0000e+00 - val_loss: 1.0865 - val_accuracy: 0.3939 - val_precision: 0.0000e+00 - val_recall: 0.0000e+00\n",
            "Epoch 3/100\n",
            "63/63 [==============================] - 10s 155ms/step - loss: 1.0695 - accuracy: 0.4422 - precision: 0.0000e+00 - recall: 0.0000e+00 - val_loss: 1.0760 - val_accuracy: 0.3939 - val_precision: 0.0000e+00 - val_recall: 0.0000e+00\n",
            "Epoch 4/100\n",
            "63/63 [==============================] - 8s 122ms/step - loss: 1.0605 - accuracy: 0.4422 - precision: 0.0000e+00 - recall: 0.0000e+00 - val_loss: 1.0609 - val_accuracy: 0.3939 - val_precision: 0.0000e+00 - val_recall: 0.0000e+00\n",
            "Epoch 5/100\n",
            "63/63 [==============================] - 7s 118ms/step - loss: 1.0372 - accuracy: 0.4781 - precision: 0.5312 - recall: 0.0677 - val_loss: 1.0169 - val_accuracy: 0.4242 - val_precision: 0.0000e+00 - val_recall: 0.0000e+00\n",
            "Epoch 6/100\n",
            "63/63 [==============================] - 7s 108ms/step - loss: 1.0052 - accuracy: 0.5458 - precision: 0.6406 - recall: 0.1633 - val_loss: 1.0090 - val_accuracy: 0.5000 - val_precision: 0.8750 - val_recall: 0.3182\n",
            "Epoch 7/100\n",
            "63/63 [==============================] - 10s 167ms/step - loss: 0.9093 - accuracy: 0.6215 - precision: 0.7200 - recall: 0.3586 - val_loss: 0.8060 - val_accuracy: 0.6970 - val_precision: 0.7222 - val_recall: 0.3939\n",
            "Epoch 8/100\n",
            "63/63 [==============================] - 12s 186ms/step - loss: 0.8870 - accuracy: 0.6215 - precision: 0.6642 - recall: 0.3546 - val_loss: 0.9397 - val_accuracy: 0.5455 - val_precision: 0.6562 - val_recall: 0.3182\n",
            "Epoch 9/100\n",
            "63/63 [==============================] - 10s 154ms/step - loss: 0.7213 - accuracy: 0.7251 - precision: 0.7716 - recall: 0.6056 - val_loss: 0.5929 - val_accuracy: 0.8485 - val_precision: 0.8644 - val_recall: 0.7727\n",
            "Epoch 10/100\n",
            "63/63 [==============================] - 6s 102ms/step - loss: 0.7747 - accuracy: 0.6892 - precision: 0.7500 - recall: 0.5857 - val_loss: 0.9243 - val_accuracy: 0.5909 - val_precision: 0.7273 - val_recall: 0.2424\n",
            "Epoch 11/100\n",
            "63/63 [==============================] - 8s 133ms/step - loss: 0.7335 - accuracy: 0.7131 - precision: 0.7817 - recall: 0.6135 - val_loss: 0.5742 - val_accuracy: 0.8030 - val_precision: 0.8333 - val_recall: 0.7576\n",
            "Epoch 12/100\n",
            "63/63 [==============================] - 7s 104ms/step - loss: 0.6086 - accuracy: 0.7291 - precision: 0.7532 - recall: 0.6932 - val_loss: 0.4952 - val_accuracy: 0.7879 - val_precision: 0.7937 - val_recall: 0.7576\n",
            "Epoch 13/100\n",
            "63/63 [==============================] - 12s 187ms/step - loss: 0.5175 - accuracy: 0.7769 - precision: 0.7958 - recall: 0.7610 - val_loss: 0.5255 - val_accuracy: 0.7727 - val_precision: 0.7727 - val_recall: 0.7727\n",
            "Epoch 14/100\n",
            "63/63 [==============================] - 10s 156ms/step - loss: 0.4828 - accuracy: 0.8048 - precision: 0.8138 - recall: 0.8008 - val_loss: 0.6887 - val_accuracy: 0.6818 - val_precision: 0.6719 - val_recall: 0.6515\n",
            "Epoch 15/100\n",
            "63/63 [==============================] - 8s 119ms/step - loss: 0.4024 - accuracy: 0.8327 - precision: 0.8519 - recall: 0.8247 - val_loss: 0.3928 - val_accuracy: 0.7879 - val_precision: 0.8125 - val_recall: 0.7879\n",
            "Epoch 16/100\n",
            "63/63 [==============================] - 9s 141ms/step - loss: 0.4810 - accuracy: 0.8088 - precision: 0.8097 - recall: 0.7968 - val_loss: 0.8683 - val_accuracy: 0.6515 - val_precision: 0.6429 - val_recall: 0.4091\n",
            "Epoch 17/100\n",
            "63/63 [==============================] - 7s 105ms/step - loss: 0.5169 - accuracy: 0.7888 - precision: 0.8261 - recall: 0.7570 - val_loss: 0.6741 - val_accuracy: 0.7121 - val_precision: 0.7121 - val_recall: 0.7121\n",
            "Epoch 18/100\n",
            "63/63 [==============================] - 8s 126ms/step - loss: 0.3741 - accuracy: 0.8406 - precision: 0.8455 - recall: 0.8287 - val_loss: 0.5894 - val_accuracy: 0.7273 - val_precision: 0.7344 - val_recall: 0.7121\n",
            "Epoch 19/100\n",
            "63/63 [==============================] - 7s 113ms/step - loss: 0.4571 - accuracy: 0.8127 - precision: 0.8326 - recall: 0.7928 - val_loss: 0.4928 - val_accuracy: 0.7879 - val_precision: 0.8167 - val_recall: 0.7424\n",
            "Epoch 20/100\n",
            "63/63 [==============================] - 7s 114ms/step - loss: 0.3197 - accuracy: 0.8566 - precision: 0.8648 - recall: 0.8406 - val_loss: 0.3861 - val_accuracy: 0.8333 - val_precision: 0.8333 - val_recall: 0.8333\n",
            "Epoch 21/100\n",
            "63/63 [==============================] - 6s 101ms/step - loss: 0.3287 - accuracy: 0.8645 - precision: 0.8715 - recall: 0.8645 - val_loss: 0.6126 - val_accuracy: 0.6818 - val_precision: 0.6818 - val_recall: 0.6818\n",
            "Epoch 22/100\n",
            "63/63 [==============================] - 8s 122ms/step - loss: 0.3387 - accuracy: 0.8845 - precision: 0.8840 - recall: 0.8805 - val_loss: 0.5396 - val_accuracy: 0.7727 - val_precision: 0.7692 - val_recall: 0.7576\n",
            "Epoch 23/100\n",
            "63/63 [==============================] - 8s 123ms/step - loss: 0.2752 - accuracy: 0.9084 - precision: 0.9080 - recall: 0.9044 - val_loss: 0.4457 - val_accuracy: 0.7727 - val_precision: 0.7846 - val_recall: 0.7727\n",
            "Epoch 24/100\n",
            "63/63 [==============================] - 8s 117ms/step - loss: 0.2318 - accuracy: 0.9124 - precision: 0.9160 - recall: 0.9124 - val_loss: 1.3746 - val_accuracy: 0.3939 - val_precision: 0.4364 - val_recall: 0.3636\n",
            "Epoch 25/100\n",
            "63/63 [==============================] - 9s 136ms/step - loss: 0.3256 - accuracy: 0.8685 - precision: 0.8780 - recall: 0.8606 - val_loss: 0.4642 - val_accuracy: 0.7879 - val_precision: 0.8000 - val_recall: 0.7879\n",
            "Epoch 26/100\n",
            "63/63 [==============================] - 6s 103ms/step - loss: 0.2841 - accuracy: 0.8924 - precision: 0.8996 - recall: 0.8924 - val_loss: 0.5157 - val_accuracy: 0.7879 - val_precision: 0.8000 - val_recall: 0.7879\n",
            "Epoch 27/100\n",
            "63/63 [==============================] - 7s 116ms/step - loss: 0.2442 - accuracy: 0.8884 - precision: 0.8943 - recall: 0.8765 - val_loss: 0.4930 - val_accuracy: 0.8030 - val_precision: 0.8000 - val_recall: 0.7879\n",
            "Epoch 28/100\n",
            "63/63 [==============================] - 7s 111ms/step - loss: 0.2246 - accuracy: 0.9124 - precision: 0.9124 - recall: 0.9124 - val_loss: 0.9608 - val_accuracy: 0.6818 - val_precision: 0.6719 - val_recall: 0.6515\n",
            "Epoch 29/100\n",
            "63/63 [==============================] - 8s 124ms/step - loss: 0.1867 - accuracy: 0.9203 - precision: 0.9240 - recall: 0.9203 - val_loss: 0.4395 - val_accuracy: 0.7879 - val_precision: 0.7846 - val_recall: 0.7727\n",
            "Epoch 30/100\n",
            "63/63 [==============================] - 7s 105ms/step - loss: 0.2351 - accuracy: 0.9004 - precision: 0.9073 - recall: 0.8964 - val_loss: 0.4607 - val_accuracy: 0.7576 - val_precision: 0.7692 - val_recall: 0.7576\n",
            "Epoch 31/100\n",
            "63/63 [==============================] - 6s 103ms/step - loss: 0.2147 - accuracy: 0.9203 - precision: 0.9203 - recall: 0.9203 - val_loss: 0.3449 - val_accuracy: 0.8333 - val_precision: 0.8689 - val_recall: 0.8030\n",
            "Epoch 32/100\n",
            "63/63 [==============================] - 8s 128ms/step - loss: 0.1963 - accuracy: 0.9084 - precision: 0.9116 - recall: 0.9044 - val_loss: 0.5088 - val_accuracy: 0.8030 - val_precision: 0.8030 - val_recall: 0.8030\n",
            "Epoch 33/100\n",
            "63/63 [==============================] - 16s 254ms/step - loss: 0.1844 - accuracy: 0.9243 - precision: 0.9280 - recall: 0.9243 - val_loss: 0.3095 - val_accuracy: 0.8939 - val_precision: 0.8939 - val_recall: 0.8939\n",
            "Epoch 34/100\n",
            "63/63 [==============================] - 10s 156ms/step - loss: 0.1624 - accuracy: 0.9363 - precision: 0.9400 - recall: 0.9363 - val_loss: 0.3606 - val_accuracy: 0.8939 - val_precision: 0.9062 - val_recall: 0.8788\n",
            "Epoch 35/100\n",
            "63/63 [==============================] - 7s 111ms/step - loss: 0.1520 - accuracy: 0.9402 - precision: 0.9476 - recall: 0.9363 - val_loss: 0.2997 - val_accuracy: 0.8636 - val_precision: 0.8906 - val_recall: 0.8636\n",
            "Epoch 36/100\n",
            "63/63 [==============================] - 7s 119ms/step - loss: 0.2141 - accuracy: 0.9203 - precision: 0.9197 - recall: 0.9124 - val_loss: 0.3039 - val_accuracy: 0.8485 - val_precision: 0.8485 - val_recall: 0.8485\n",
            "Epoch 37/100\n",
            "63/63 [==============================] - 7s 118ms/step - loss: 0.1459 - accuracy: 0.9442 - precision: 0.9480 - recall: 0.9442 - val_loss: 0.3224 - val_accuracy: 0.8636 - val_precision: 0.8594 - val_recall: 0.8333\n",
            "Epoch 38/100\n",
            "63/63 [==============================] - 7s 107ms/step - loss: 0.1372 - accuracy: 0.9482 - precision: 0.9520 - recall: 0.9482 - val_loss: 0.2694 - val_accuracy: 0.8788 - val_precision: 0.8788 - val_recall: 0.8788\n",
            "Epoch 39/100\n",
            "63/63 [==============================] - 6s 102ms/step - loss: 0.0846 - accuracy: 0.9761 - precision: 0.9761 - recall: 0.9761 - val_loss: 0.3314 - val_accuracy: 0.8788 - val_precision: 0.8788 - val_recall: 0.8788\n",
            "Epoch 40/100\n",
            "63/63 [==============================] - 8s 127ms/step - loss: 0.1638 - accuracy: 0.9363 - precision: 0.9400 - recall: 0.9363 - val_loss: 0.2997 - val_accuracy: 0.8939 - val_precision: 0.8939 - val_recall: 0.8939\n",
            "Epoch 41/100\n",
            "63/63 [==============================] - 7s 106ms/step - loss: 0.0750 - accuracy: 0.9681 - precision: 0.9720 - recall: 0.9681 - val_loss: 0.8324 - val_accuracy: 0.7576 - val_precision: 0.7576 - val_recall: 0.7576\n",
            "Epoch 42/100\n",
            "63/63 [==============================] - 7s 116ms/step - loss: 0.0660 - accuracy: 0.9801 - precision: 0.9801 - recall: 0.9801 - val_loss: 0.6335 - val_accuracy: 0.8333 - val_precision: 0.8333 - val_recall: 0.8333\n",
            "Epoch 43/100\n",
            "63/63 [==============================] - 8s 129ms/step - loss: 0.1269 - accuracy: 0.9482 - precision: 0.9520 - recall: 0.9482 - val_loss: 0.3899 - val_accuracy: 0.8939 - val_precision: 0.8939 - val_recall: 0.8939\n",
            "Epoch 44/100\n",
            "63/63 [==============================] - 7s 117ms/step - loss: 0.0824 - accuracy: 0.9761 - precision: 0.9761 - recall: 0.9761 - val_loss: 0.2156 - val_accuracy: 0.9242 - val_precision: 0.9385 - val_recall: 0.9242\n",
            "Epoch 45/100\n",
            "63/63 [==============================] - 7s 111ms/step - loss: 0.0855 - accuracy: 0.9761 - precision: 0.9760 - recall: 0.9721 - val_loss: 0.3991 - val_accuracy: 0.8939 - val_precision: 0.8939 - val_recall: 0.8939\n",
            "Epoch 46/100\n",
            "63/63 [==============================] - 8s 128ms/step - loss: 0.0742 - accuracy: 0.9761 - precision: 0.9761 - recall: 0.9761 - val_loss: 0.2830 - val_accuracy: 0.9242 - val_precision: 0.9242 - val_recall: 0.9242\n",
            "Epoch 47/100\n",
            "63/63 [==============================] - 7s 118ms/step - loss: 0.0304 - accuracy: 0.9880 - precision: 0.9880 - recall: 0.9880 - val_loss: 0.3185 - val_accuracy: 0.8788 - val_precision: 0.8788 - val_recall: 0.8788\n",
            "Epoch 48/100\n",
            "63/63 [==============================] - 6s 101ms/step - loss: 0.0707 - accuracy: 0.9721 - precision: 0.9799 - recall: 0.9721 - val_loss: 0.3554 - val_accuracy: 0.8788 - val_precision: 0.8788 - val_recall: 0.8788\n",
            "Epoch 49/100\n",
            "63/63 [==============================] - 9s 143ms/step - loss: 0.1530 - accuracy: 0.9442 - precision: 0.9442 - recall: 0.9442 - val_loss: 0.2239 - val_accuracy: 0.9242 - val_precision: 0.9242 - val_recall: 0.9242\n",
            "Epoch 50/100\n",
            "63/63 [==============================] - 7s 112ms/step - loss: 0.0878 - accuracy: 0.9681 - precision: 0.9680 - recall: 0.9641 - val_loss: 0.3051 - val_accuracy: 0.9091 - val_precision: 0.9091 - val_recall: 0.9091\n",
            "Epoch 51/100\n",
            "63/63 [==============================] - 8s 126ms/step - loss: 0.0226 - accuracy: 0.9960 - precision: 0.9960 - recall: 0.9960 - val_loss: 0.2981 - val_accuracy: 0.9242 - val_precision: 0.9242 - val_recall: 0.9242\n",
            "Epoch 52/100\n",
            "63/63 [==============================] - 6s 102ms/step - loss: 0.0066 - accuracy: 1.0000 - precision: 1.0000 - recall: 1.0000 - val_loss: 0.3356 - val_accuracy: 0.9242 - val_precision: 0.9242 - val_recall: 0.9242\n",
            "Epoch 53/100\n",
            "63/63 [==============================] - 8s 134ms/step - loss: 0.0040 - accuracy: 1.0000 - precision: 1.0000 - recall: 1.0000 - val_loss: 0.2874 - val_accuracy: 0.9394 - val_precision: 0.9394 - val_recall: 0.9394\n",
            "Epoch 54/100\n",
            "63/63 [==============================] - 7s 108ms/step - loss: 0.0032 - accuracy: 1.0000 - precision: 1.0000 - recall: 1.0000 - val_loss: 0.3962 - val_accuracy: 0.9242 - val_precision: 0.9242 - val_recall: 0.9242\n",
            "Epoch 55/100\n",
            "63/63 [==============================] - 7s 112ms/step - loss: 0.0024 - accuracy: 1.0000 - precision: 1.0000 - recall: 1.0000 - val_loss: 0.3498 - val_accuracy: 0.9394 - val_precision: 0.9394 - val_recall: 0.9394\n",
            "Epoch 56/100\n",
            "63/63 [==============================] - 9s 138ms/step - loss: 0.0017 - accuracy: 1.0000 - precision: 1.0000 - recall: 1.0000 - val_loss: 0.4288 - val_accuracy: 0.9242 - val_precision: 0.9242 - val_recall: 0.9242\n",
            "Epoch 57/100\n",
            "63/63 [==============================] - 7s 104ms/step - loss: 0.0016 - accuracy: 1.0000 - precision: 1.0000 - recall: 1.0000 - val_loss: 0.3460 - val_accuracy: 0.9394 - val_precision: 0.9394 - val_recall: 0.9394\n",
            "Epoch 58/100\n",
            "63/63 [==============================] - 8s 127ms/step - loss: 0.0015 - accuracy: 1.0000 - precision: 1.0000 - recall: 1.0000 - val_loss: 0.3591 - val_accuracy: 0.9394 - val_precision: 0.9394 - val_recall: 0.9394\n",
            "Epoch 59/100\n",
            "63/63 [==============================] - 8s 122ms/step - loss: 0.0012 - accuracy: 1.0000 - precision: 1.0000 - recall: 1.0000 - val_loss: 0.4264 - val_accuracy: 0.9242 - val_precision: 0.9242 - val_recall: 0.9242\n",
            "Epoch 60/100\n",
            "63/63 [==============================] - 7s 104ms/step - loss: 0.0010 - accuracy: 1.0000 - precision: 1.0000 - recall: 1.0000 - val_loss: 0.3652 - val_accuracy: 0.9394 - val_precision: 0.9394 - val_recall: 0.9394\n",
            "Epoch 61/100\n",
            "63/63 [==============================] - 8s 130ms/step - loss: 9.3988e-04 - accuracy: 1.0000 - precision: 1.0000 - recall: 1.0000 - val_loss: 0.3985 - val_accuracy: 0.9394 - val_precision: 0.9394 - val_recall: 0.9394\n",
            "Epoch 62/100\n",
            "63/63 [==============================] - 7s 110ms/step - loss: 8.0496e-04 - accuracy: 1.0000 - precision: 1.0000 - recall: 1.0000 - val_loss: 0.3934 - val_accuracy: 0.9394 - val_precision: 0.9394 - val_recall: 0.9394\n",
            "Epoch 63/100\n",
            "63/63 [==============================] - 9s 138ms/step - loss: 7.6097e-04 - accuracy: 1.0000 - precision: 1.0000 - recall: 1.0000 - val_loss: 0.4149 - val_accuracy: 0.9394 - val_precision: 0.9394 - val_recall: 0.9394\n",
            "Epoch 64/100\n",
            "63/63 [==============================] - 7s 117ms/step - loss: 6.7178e-04 - accuracy: 1.0000 - precision: 1.0000 - recall: 1.0000 - val_loss: 0.4095 - val_accuracy: 0.9394 - val_precision: 0.9394 - val_recall: 0.9394\n",
            "Epoch 65/100\n",
            "63/63 [==============================] - 9s 136ms/step - loss: 6.2327e-04 - accuracy: 1.0000 - precision: 1.0000 - recall: 1.0000 - val_loss: 0.4439 - val_accuracy: 0.9394 - val_precision: 0.9394 - val_recall: 0.9394\n",
            "Epoch 66/100\n",
            "63/63 [==============================] - 8s 123ms/step - loss: 5.7763e-04 - accuracy: 1.0000 - precision: 1.0000 - recall: 1.0000 - val_loss: 0.4192 - val_accuracy: 0.9394 - val_precision: 0.9394 - val_recall: 0.9394\n",
            "Epoch 67/100\n",
            "63/63 [==============================] - 8s 133ms/step - loss: 5.3390e-04 - accuracy: 1.0000 - precision: 1.0000 - recall: 1.0000 - val_loss: 0.4250 - val_accuracy: 0.9394 - val_precision: 0.9394 - val_recall: 0.9394\n",
            "Epoch 68/100\n",
            "63/63 [==============================] - 8s 123ms/step - loss: 5.1707e-04 - accuracy: 1.0000 - precision: 1.0000 - recall: 1.0000 - val_loss: 0.4309 - val_accuracy: 0.9394 - val_precision: 0.9394 - val_recall: 0.9394\n",
            "Epoch 69/100\n",
            "63/63 [==============================] - 7s 105ms/step - loss: 4.6213e-04 - accuracy: 1.0000 - precision: 1.0000 - recall: 1.0000 - val_loss: 0.4318 - val_accuracy: 0.9394 - val_precision: 0.9394 - val_recall: 0.9394\n",
            "Epoch 70/100\n",
            "63/63 [==============================] - 8s 134ms/step - loss: 4.3601e-04 - accuracy: 1.0000 - precision: 1.0000 - recall: 1.0000 - val_loss: 0.4390 - val_accuracy: 0.9394 - val_precision: 0.9394 - val_recall: 0.9394\n",
            "Epoch 71/100\n",
            "63/63 [==============================] - 7s 118ms/step - loss: 4.1102e-04 - accuracy: 1.0000 - precision: 1.0000 - recall: 1.0000 - val_loss: 0.4476 - val_accuracy: 0.9394 - val_precision: 0.9394 - val_recall: 0.9394\n",
            "Epoch 72/100\n",
            "63/63 [==============================] - 8s 126ms/step - loss: 3.9303e-04 - accuracy: 1.0000 - precision: 1.0000 - recall: 1.0000 - val_loss: 0.4458 - val_accuracy: 0.9394 - val_precision: 0.9394 - val_recall: 0.9394\n",
            "Epoch 73/100\n",
            "63/63 [==============================] - 7s 114ms/step - loss: 3.8462e-04 - accuracy: 1.0000 - precision: 1.0000 - recall: 1.0000 - val_loss: 0.4576 - val_accuracy: 0.9394 - val_precision: 0.9394 - val_recall: 0.9394\n",
            "Epoch 74/100\n",
            "63/63 [==============================] - 7s 107ms/step - loss: 3.5996e-04 - accuracy: 1.0000 - precision: 1.0000 - recall: 1.0000 - val_loss: 0.4472 - val_accuracy: 0.9394 - val_precision: 0.9394 - val_recall: 0.9394\n",
            "Epoch 75/100\n",
            "63/63 [==============================] - 9s 137ms/step - loss: 3.3993e-04 - accuracy: 1.0000 - precision: 1.0000 - recall: 1.0000 - val_loss: 0.4693 - val_accuracy: 0.9394 - val_precision: 0.9394 - val_recall: 0.9394\n",
            "Epoch 76/100\n",
            "63/63 [==============================] - 7s 109ms/step - loss: 3.2915e-04 - accuracy: 1.0000 - precision: 1.0000 - recall: 1.0000 - val_loss: 0.4592 - val_accuracy: 0.9394 - val_precision: 0.9394 - val_recall: 0.9394\n",
            "Epoch 77/100\n",
            "63/63 [==============================] - 8s 128ms/step - loss: 3.1060e-04 - accuracy: 1.0000 - precision: 1.0000 - recall: 1.0000 - val_loss: 0.4626 - val_accuracy: 0.9394 - val_precision: 0.9394 - val_recall: 0.9394\n",
            "Epoch 78/100\n",
            "63/63 [==============================] - 7s 110ms/step - loss: 2.9839e-04 - accuracy: 1.0000 - precision: 1.0000 - recall: 1.0000 - val_loss: 0.4688 - val_accuracy: 0.9394 - val_precision: 0.9394 - val_recall: 0.9394\n",
            "Epoch 79/100\n",
            "63/63 [==============================] - 9s 141ms/step - loss: 2.8555e-04 - accuracy: 1.0000 - precision: 1.0000 - recall: 1.0000 - val_loss: 0.4817 - val_accuracy: 0.9394 - val_precision: 0.9394 - val_recall: 0.9394\n",
            "Epoch 80/100\n",
            "63/63 [==============================] - 7s 107ms/step - loss: 2.7162e-04 - accuracy: 1.0000 - precision: 1.0000 - recall: 1.0000 - val_loss: 0.4880 - val_accuracy: 0.9394 - val_precision: 0.9394 - val_recall: 0.9394\n",
            "Epoch 81/100\n",
            "63/63 [==============================] - 9s 140ms/step - loss: 2.6669e-04 - accuracy: 1.0000 - precision: 1.0000 - recall: 1.0000 - val_loss: 0.4717 - val_accuracy: 0.9394 - val_precision: 0.9394 - val_recall: 0.9394\n",
            "Epoch 82/100\n",
            "63/63 [==============================] - 7s 111ms/step - loss: 2.5529e-04 - accuracy: 1.0000 - precision: 1.0000 - recall: 1.0000 - val_loss: 0.4645 - val_accuracy: 0.9394 - val_precision: 0.9394 - val_recall: 0.9394\n",
            "Epoch 83/100\n",
            "63/63 [==============================] - 8s 127ms/step - loss: 2.5214e-04 - accuracy: 1.0000 - precision: 1.0000 - recall: 1.0000 - val_loss: 0.4756 - val_accuracy: 0.9394 - val_precision: 0.9394 - val_recall: 0.9394\n",
            "Epoch 84/100\n",
            "63/63 [==============================] - 8s 123ms/step - loss: 2.3742e-04 - accuracy: 1.0000 - precision: 1.0000 - recall: 1.0000 - val_loss: 0.4753 - val_accuracy: 0.9394 - val_precision: 0.9394 - val_recall: 0.9394\n",
            "Epoch 85/100\n",
            "63/63 [==============================] - 7s 112ms/step - loss: 2.3071e-04 - accuracy: 1.0000 - precision: 1.0000 - recall: 1.0000 - val_loss: 0.4918 - val_accuracy: 0.9394 - val_precision: 0.9394 - val_recall: 0.9394\n",
            "Epoch 86/100\n",
            "63/63 [==============================] - 9s 136ms/step - loss: 2.2234e-04 - accuracy: 1.0000 - precision: 1.0000 - recall: 1.0000 - val_loss: 0.4850 - val_accuracy: 0.9394 - val_precision: 0.9394 - val_recall: 0.9394\n",
            "Epoch 87/100\n",
            "63/63 [==============================] - 7s 112ms/step - loss: 2.1606e-04 - accuracy: 1.0000 - precision: 1.0000 - recall: 1.0000 - val_loss: 0.4876 - val_accuracy: 0.9394 - val_precision: 0.9394 - val_recall: 0.9394\n",
            "Epoch 88/100\n",
            "63/63 [==============================] - 9s 142ms/step - loss: 2.1022e-04 - accuracy: 1.0000 - precision: 1.0000 - recall: 1.0000 - val_loss: 0.4853 - val_accuracy: 0.9394 - val_precision: 0.9394 - val_recall: 0.9394\n",
            "Epoch 89/100\n",
            "63/63 [==============================] - 7s 119ms/step - loss: 2.0234e-04 - accuracy: 1.0000 - precision: 1.0000 - recall: 1.0000 - val_loss: 0.4839 - val_accuracy: 0.9394 - val_precision: 0.9394 - val_recall: 0.9394\n",
            "Epoch 90/100\n",
            "63/63 [==============================] - 7s 111ms/step - loss: 1.9835e-04 - accuracy: 1.0000 - precision: 1.0000 - recall: 1.0000 - val_loss: 0.4897 - val_accuracy: 0.9394 - val_precision: 0.9394 - val_recall: 0.9394\n",
            "Epoch 91/100\n",
            "63/63 [==============================] - 9s 138ms/step - loss: 1.9142e-04 - accuracy: 1.0000 - precision: 1.0000 - recall: 1.0000 - val_loss: 0.4941 - val_accuracy: 0.9394 - val_precision: 0.9394 - val_recall: 0.9394\n",
            "Epoch 92/100\n",
            "63/63 [==============================] - 7s 116ms/step - loss: 1.8452e-04 - accuracy: 1.0000 - precision: 1.0000 - recall: 1.0000 - val_loss: 0.5040 - val_accuracy: 0.9394 - val_precision: 0.9394 - val_recall: 0.9394\n",
            "Epoch 93/100\n",
            "63/63 [==============================] - 8s 133ms/step - loss: 1.7851e-04 - accuracy: 1.0000 - precision: 1.0000 - recall: 1.0000 - val_loss: 0.4948 - val_accuracy: 0.9394 - val_precision: 0.9394 - val_recall: 0.9394\n",
            "Epoch 94/100\n",
            "63/63 [==============================] - 7s 106ms/step - loss: 1.7885e-04 - accuracy: 1.0000 - precision: 1.0000 - recall: 1.0000 - val_loss: 0.5029 - val_accuracy: 0.9394 - val_precision: 0.9394 - val_recall: 0.9394\n",
            "Epoch 95/100\n",
            "63/63 [==============================] - 9s 139ms/step - loss: 1.7105e-04 - accuracy: 1.0000 - precision: 1.0000 - recall: 1.0000 - val_loss: 0.5016 - val_accuracy: 0.9394 - val_precision: 0.9394 - val_recall: 0.9394\n",
            "Epoch 96/100\n",
            "63/63 [==============================] - 7s 108ms/step - loss: 1.6729e-04 - accuracy: 1.0000 - precision: 1.0000 - recall: 1.0000 - val_loss: 0.5057 - val_accuracy: 0.9394 - val_precision: 0.9394 - val_recall: 0.9394\n",
            "Epoch 97/100\n",
            "63/63 [==============================] - 8s 134ms/step - loss: 1.6262e-04 - accuracy: 1.0000 - precision: 1.0000 - recall: 1.0000 - val_loss: 0.5054 - val_accuracy: 0.9394 - val_precision: 0.9394 - val_recall: 0.9394\n",
            "Epoch 98/100\n",
            "63/63 [==============================] - 7s 110ms/step - loss: 1.5944e-04 - accuracy: 1.0000 - precision: 1.0000 - recall: 1.0000 - val_loss: 0.5064 - val_accuracy: 0.9394 - val_precision: 0.9394 - val_recall: 0.9394\n",
            "Epoch 99/100\n",
            "63/63 [==============================] - 9s 141ms/step - loss: 1.5368e-04 - accuracy: 1.0000 - precision: 1.0000 - recall: 1.0000 - val_loss: 0.5150 - val_accuracy: 0.9394 - val_precision: 0.9394 - val_recall: 0.9394\n",
            "Epoch 100/100\n",
            "63/63 [==============================] - 7s 113ms/step - loss: 1.5040e-04 - accuracy: 1.0000 - precision: 1.0000 - recall: 1.0000 - val_loss: 0.5205 - val_accuracy: 0.9394 - val_precision: 0.9394 - val_recall: 0.9394\n"
          ]
        }
      ]
    },
    {
      "cell_type": "code",
      "source": [
        "model.save('model.h5')"
      ],
      "metadata": {
        "colab": {
          "base_uri": "https://localhost:8080/"
        },
        "id": "njihy3Ji1Qqd",
        "outputId": "9ee34177-6c01-4718-ce80-0b0fbcfd45dc"
      },
      "execution_count": null,
      "outputs": [
        {
          "output_type": "stream",
          "name": "stderr",
          "text": [
            "/usr/local/lib/python3.10/dist-packages/keras/src/engine/training.py:3079: UserWarning: You are saving your model as an HDF5 file via `model.save()`. This file format is considered legacy. We recommend using instead the native Keras format, e.g. `model.save('my_model.keras')`.\n",
            "  saving_api.save_model(\n"
          ]
        }
      ]
    },
    {
      "cell_type": "code",
      "source": [
        "# Örnek veriler (fit_history kullanımınıza göre ayarlayın)\n",
        "train_accuracy = fit_history.history['accuracy']\n",
        "val_accuracy = fit_history.history['val_accuracy']\n",
        "train_loss = fit_history.history['loss']\n",
        "val_loss = fit_history.history['val_loss']"
      ],
      "metadata": {
        "id": "fKMto-qjddL-"
      },
      "execution_count": null,
      "outputs": []
    },
    {
      "cell_type": "code",
      "source": [
        "# Accuracy grafiği\n",
        "plt.figure(figsize=(12, 4))\n",
        "\n",
        "plt.subplot(1, 2, 1)\n",
        "plt.plot(train_accuracy, label='Eğitim')\n",
        "plt.plot(val_accuracy, label='Doğrulama')\n",
        "plt.title('Model Accuracy')\n",
        "plt.xlabel('Epoch')\n",
        "plt.ylabel('Accuracy')\n",
        "plt.legend(loc='upper left')\n",
        "\n",
        "# Loss grafiği\n",
        "plt.subplot(1, 2, 2)\n",
        "plt.plot(train_loss, label='Eğitim')\n",
        "plt.plot(val_loss, label='Doğrulama')\n",
        "plt.title('Model Loss')\n",
        "plt.xlabel('Epoch')\n",
        "plt.ylabel('Loss')\n",
        "plt.legend(loc='upper right')\n",
        "\n",
        "plt.tight_layout()\n",
        "plt.show()"
      ],
      "metadata": {
        "colab": {
          "base_uri": "https://localhost:8080/",
          "height": 382
        },
        "id": "Ub0RFOiIdnEK",
        "outputId": "a6392c59-0abf-449a-bfe5-d131ea4c2869"
      },
      "execution_count": null,
      "outputs": [
        {
          "output_type": "display_data",
          "data": {
            "text/plain": [
              "<Figure size 1200x400 with 2 Axes>"
            ],
            "image/png": "[encoded data removed]"
          },
          "metadata": {}
        }
      ]
    },
    {
      "cell_type": "code",
      "source": [
        "loss, accuracy, precision, recall = model.evaluate(test_generator)"
      ],
      "metadata": {
        "colab": {
          "base_uri": "https://localhost:8080/"
        },
        "id": "sgszfhNw2HjA",
        "outputId": "a5154057-5479-4ac6-859c-4c3cc03e5696"
      },
      "execution_count": null,
      "outputs": [
        {
          "output_type": "stream",
          "name": "stdout",
          "text": [
            "33/33 [==============================] - 1s 43ms/step - loss: 0.5205 - accuracy: 0.9394 - precision: 0.9394 - recall: 0.9394\n"
          ]
        }
      ]
    },
    {
      "cell_type": "code",
      "source": [
        "F1_Skoru = ((precision * recall) / (precision + recall)) * 2\n",
        "F1_Skoru"
      ],
      "metadata": {
        "colab": {
          "base_uri": "https://localhost:8080/"
        },
        "id": "3zGwA_w52RVk",
        "outputId": "475a314b-363a-4cab-d8cb-f6805cec7734"
      },
      "execution_count": null,
      "outputs": [
        {
          "output_type": "execute_result",
          "data": {
            "text/plain": [
              "0.939393937587738"
            ]
          },
          "metadata": {},
          "execution_count": 22
        }
      ]
    },
    {
      "cell_type": "code",
      "source": [
        "y_true = test_generator.classes\n",
        "pred = model.predict(test_generator)\n",
        "pred = np.argmax(pred, axis=1)\n",
        "\n",
        "cm = confusion_matrix(y_true, pred)"
      ],
      "metadata": {
        "colab": {
          "base_uri": "https://localhost:8080/"
        },
        "id": "F3KTbcfI2Urj",
        "outputId": "fecc1e65-6b11-4209-e5f0-99f73f732c0c"
      },
      "execution_count": null,
      "outputs": [
        {
          "output_type": "stream",
          "name": "stdout",
          "text": [
            "33/33 [==============================] - 1s 27ms/step\n"
          ]
        }
      ]
    },
    {
      "cell_type": "code",
      "source": [
        "cm"
      ],
      "metadata": {
        "colab": {
          "base_uri": "https://localhost:8080/"
        },
        "id": "92mfd8p626ru",
        "outputId": "15595836-7ef9-45b1-f705-47f7930e7c28"
      },
      "execution_count": null,
      "outputs": [
        {
          "output_type": "execute_result",
          "data": {
            "text/plain": [
              "array([[25,  1,  0],\n",
              "       [ 0, 17,  3],\n",
              "       [ 0,  0, 20]])"
            ]
          },
          "metadata": {},
          "execution_count": 24
        }
      ]
    }
  ]
}