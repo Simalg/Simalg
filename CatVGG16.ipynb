{
  "nbformat": 4,
  "nbformat_minor": 0,
  "metadata": {
    "colab": {
      "provenance": [],
      "gpuType": "T4",
      "include_colab_link": true
    },
    "kernelspec": {
      "name": "python3",
      "display_name": "Python 3"
    },
    "language_info": {
      "name": "python"
    },
    "accelerator": "GPU"
  },
  "cells": [
    {
      "cell_type": "markdown",
      "metadata": {
        "id": "view-in-github",
        "colab_type": "text"
      },
      "source": [
        "<a href=\"https://colab.research.google.com/github/Simalg/Simalg/blob/main/CatVGG16.ipynb\" target=\"_parent\"><img src=\"https://colab.research.google.com/assets/colab-badge.svg\" alt=\"Open In Colab\"/></a>"
      ]
    },
    {
      "cell_type": "code",
      "source": [
        "from google.colab import drive\n",
        "drive.mount('/gdrive')"
      ],
      "metadata": {
        "colab": {
          "base_uri": "https://localhost:8080/"
        },
        "id": "xc7mOYAAFYhi",
        "outputId": "e5fd37a7-feb6-4833-c2c0-f8e00f0dae28"
      },
      "execution_count": null,
      "outputs": [
        {
          "output_type": "stream",
          "name": "stdout",
          "text": [
            "Drive already mounted at /gdrive; to attempt to forcibly remount, call drive.mount(\"/gdrive\", force_remount=True).\n"
          ]
        }
      ]
    },
    {
      "cell_type": "code",
      "source": [
        "import tensorflow as tf\n",
        "from tensorflow.keras import layers\n",
        "from tensorflow.keras.callbacks import TensorBoard\n",
        "from tensorflow.keras.models import Model\n",
        "from tensorflow.keras.layers import Input, Dense\n",
        "from tensorflow.keras.applications import VGG16\n",
        "\n",
        "from keras.preprocessing.image import ImageDataGenerator\n",
        "from keras.models import Model, load_model\n",
        "from keras.preprocessing import image\n",
        "from keras.utils import load_img, img_to_array\n",
        "\n",
        "from sklearn.metrics import confusion_matrix"
      ],
      "metadata": {
        "id": "UKTmIi4B30yf"
      },
      "execution_count": null,
      "outputs": []
    },
    {
      "cell_type": "code",
      "source": [
        "import pandas as pd\n",
        "import numpy as np\n",
        "import matplotlib.pyplot as plt"
      ],
      "metadata": {
        "id": "C1rcO6As37vO"
      },
      "execution_count": null,
      "outputs": []
    },
    {
      "cell_type": "code",
      "source": [
        "directory = \"/gdrive/MyDrive/cat database/images\""
      ],
      "metadata": {
        "id": "W7Y1jInrFz09"
      },
      "execution_count": null,
      "outputs": []
    },
    {
      "cell_type": "code",
      "source": [
        "data_gen = ImageDataGenerator(rescale=1./255, validation_split=0.2)"
      ],
      "metadata": {
        "id": "58S4D7iQ4C76"
      },
      "execution_count": null,
      "outputs": []
    },
    {
      "cell_type": "code",
      "source": [
        "train_generator = data_gen.flow_from_directory(\n",
        "  directory,\n",
        "  target_size=(224, 224),\n",
        "  batch_size=16,\n",
        "  class_mode='binary',\n",
        "  subset='training',\n",
        "  shuffle=True)"
      ],
      "metadata": {
        "colab": {
          "base_uri": "https://localhost:8080/"
        },
        "id": "XpEMT8Qa4FPI",
        "outputId": "8ac6b50b-5001-4aa9-d206-5fe38fe5141b"
      },
      "execution_count": null,
      "outputs": [
        {
          "output_type": "stream",
          "name": "stdout",
          "text": [
            "Found 518 images belonging to 2 classes.\n"
          ]
        }
      ]
    },
    {
      "cell_type": "code",
      "source": [
        "val_generator = data_gen.flow_from_directory(\n",
        "  directory,\n",
        "  target_size=(224, 224),\n",
        "  batch_size=8,\n",
        "  class_mode='binary',\n",
        "  subset='validation',\n",
        "  shuffle=False)"
      ],
      "metadata": {
        "colab": {
          "base_uri": "https://localhost:8080/"
        },
        "id": "ajnUnlCx4Hk3",
        "outputId": "f6432abc-6313-48d9-d03e-96f9572b2bfb"
      },
      "execution_count": null,
      "outputs": [
        {
          "output_type": "stream",
          "name": "stdout",
          "text": [
            "Found 128 images belonging to 2 classes.\n"
          ]
        }
      ]
    },
    {
      "cell_type": "code",
      "source": [
        "input_shape, num_classes = (224, 224, 3), 1"
      ],
      "metadata": {
        "id": "5q-5tVII4Jc3"
      },
      "execution_count": null,
      "outputs": []
    },
    {
      "cell_type": "code",
      "source": [
        "input = Input(shape=input_shape)\n",
        "\n",
        "base_model = VGG16(include_top=False, pooling=\"avg\", weights=\"imagenet\")(input)\n",
        "dense_layer = Dense(64, activation='relu')(base_model)\n",
        "output_layer = Dense(num_classes, activation='sigmoid')(dense_layer)\n",
        "\n",
        "model = Model(inputs=input, outputs=output_layer)\n",
        "model.layers[0].trainable = False"
      ],
      "metadata": {
        "id": "yfLkP6Ee4Lc1",
        "colab": {
          "base_uri": "https://localhost:8080/"
        },
        "outputId": "5533d90e-71d4-432f-fb47-09501119050c"
      },
      "execution_count": null,
      "outputs": [
        {
          "output_type": "stream",
          "name": "stdout",
          "text": [
            "Downloading data from https://storage.googleapis.com/tensorflow/keras-applications/vgg16/vgg16_weights_tf_dim_ordering_tf_kernels_notop.h5\n",
            "58889256/58889256 [==============================] - 0s 0us/step\n"
          ]
        }
      ]
    },
    {
      "cell_type": "code",
      "source": [
        "model.summary()"
      ],
      "metadata": {
        "colab": {
          "base_uri": "https://localhost:8080/"
        },
        "id": "iTDY5YCE4OLr",
        "outputId": "7f97f448-daf4-4ac3-87f3-c0a292108160"
      },
      "execution_count": null,
      "outputs": [
        {
          "output_type": "stream",
          "name": "stdout",
          "text": [
            "Model: \"model\"\n",
            "_________________________________________________________________\n",
            " Layer (type)                Output Shape              Param #   \n",
            "=================================================================\n",
            " input_1 (InputLayer)        [(None, 224, 224, 3)]     0         \n",
            "                                                                 \n",
            " vgg16 (Functional)          (None, 512)               14714688  \n",
            "                                                                 \n",
            " dense (Dense)               (None, 64)                32832     \n",
            "                                                                 \n",
            " dense_1 (Dense)             (None, 1)                 65        \n",
            "                                                                 \n",
            "=================================================================\n",
            "Total params: 14747585 (56.26 MB)\n",
            "Trainable params: 14747585 (56.26 MB)\n",
            "Non-trainable params: 0 (0.00 Byte)\n",
            "_________________________________________________________________\n"
          ]
        }
      ]
    },
    {
      "cell_type": "code",
      "source": [
        "optimizer = tf.keras.optimizers.SGD(learning_rate=0.01)"
      ],
      "metadata": {
        "id": "ImG_-haY4QWZ"
      },
      "execution_count": null,
      "outputs": []
    },
    {
      "cell_type": "code",
      "source": [
        "model.compile(optimizer=optimizer, loss=\"binary_crossentropy\", metrics=[\"accuracy\", tf.keras.metrics.Precision(), tf.keras.metrics.Recall()])"
      ],
      "metadata": {
        "id": "ukTQv9Jm4T7B"
      },
      "execution_count": null,
      "outputs": []
    },
    {
      "cell_type": "code",
      "source": [
        "fit_history = model.fit_generator(\n",
        "    train_generator,\n",
        "    epochs=100,\n",
        "    validation_data=val_generator,\n",
        ")"
      ],
      "metadata": {
        "colab": {
          "base_uri": "https://localhost:8080/"
        },
        "id": "AFXcoUiw4UoY",
        "outputId": "76821453-9719-48b1-9ca4-2dc7b9a637b4"
      },
      "execution_count": null,
      "outputs": [
        {
          "output_type": "stream",
          "name": "stderr",
          "text": [
            "<ipython-input-14-6a2829a8601d>:1: UserWarning: `Model.fit_generator` is deprecated and will be removed in a future version. Please use `Model.fit`, which supports generators.\n",
            "  fit_history = model.fit_generator(\n"
          ]
        },
        {
          "output_type": "stream",
          "name": "stdout",
          "text": [
            "Epoch 1/100\n",
            "33/33 [==============================] - 120s 3s/step - loss: 0.6702 - accuracy: 0.6255 - precision: 0.6275 - recall: 0.6178 - val_loss: 0.6991 - val_accuracy: 0.5000 - val_precision: 0.0000e+00 - val_recall: 0.0000e+00\n",
            "Epoch 2/100\n",
            "33/33 [==============================] - 8s 241ms/step - loss: 0.6232 - accuracy: 0.6757 - precision: 0.6743 - recall: 0.6795 - val_loss: 0.5863 - val_accuracy: 0.7344 - val_precision: 0.8947 - val_recall: 0.5312\n",
            "Epoch 3/100\n",
            "33/33 [==============================] - 8s 244ms/step - loss: 0.6517 - accuracy: 0.6467 - precision: 0.6439 - recall: 0.6564 - val_loss: 0.8356 - val_accuracy: 0.5000 - val_precision: 0.0000e+00 - val_recall: 0.0000e+00\n",
            "Epoch 4/100\n",
            "33/33 [==============================] - 8s 249ms/step - loss: 0.5450 - accuracy: 0.7297 - precision: 0.7742 - recall: 0.6486 - val_loss: 0.5653 - val_accuracy: 0.7344 - val_precision: 0.6744 - val_recall: 0.9062\n",
            "Epoch 5/100\n",
            "33/33 [==============================] - 8s 253ms/step - loss: 0.5358 - accuracy: 0.7452 - precision: 0.7635 - recall: 0.7104 - val_loss: 0.4977 - val_accuracy: 0.7734 - val_precision: 0.7778 - val_recall: 0.7656\n",
            "Epoch 6/100\n",
            "33/33 [==============================] - 9s 257ms/step - loss: 0.4742 - accuracy: 0.7973 - precision: 0.7895 - recall: 0.8108 - val_loss: 0.7655 - val_accuracy: 0.5312 - val_precision: 0.5172 - val_recall: 0.9375\n",
            "Epoch 7/100\n",
            "33/33 [==============================] - 8s 253ms/step - loss: 0.4426 - accuracy: 0.7954 - precision: 0.8072 - recall: 0.7761 - val_loss: 0.5210 - val_accuracy: 0.7734 - val_precision: 0.9487 - val_recall: 0.5781\n",
            "Epoch 8/100\n",
            "33/33 [==============================] - 8s 248ms/step - loss: 0.4293 - accuracy: 0.8089 - precision: 0.8053 - recall: 0.8147 - val_loss: 0.5397 - val_accuracy: 0.7812 - val_precision: 0.9737 - val_recall: 0.5781\n",
            "Epoch 9/100\n",
            "33/33 [==============================] - 9s 261ms/step - loss: 0.3959 - accuracy: 0.8398 - precision: 0.8385 - recall: 0.8417 - val_loss: 0.4429 - val_accuracy: 0.8125 - val_precision: 0.8571 - val_recall: 0.7500\n",
            "Epoch 10/100\n",
            "33/33 [==============================] - 8s 243ms/step - loss: 0.3528 - accuracy: 0.8571 - precision: 0.8439 - recall: 0.8764 - val_loss: 0.5678 - val_accuracy: 0.6953 - val_precision: 0.9630 - val_recall: 0.4062\n",
            "Epoch 11/100\n",
            "33/33 [==============================] - 8s 245ms/step - loss: 0.2835 - accuracy: 0.9093 - precision: 0.9046 - recall: 0.9151 - val_loss: 0.5027 - val_accuracy: 0.7734 - val_precision: 0.7108 - val_recall: 0.9219\n",
            "Epoch 12/100\n",
            "33/33 [==============================] - 9s 261ms/step - loss: 0.3195 - accuracy: 0.8822 - precision: 0.8750 - recall: 0.8919 - val_loss: 0.4500 - val_accuracy: 0.8047 - val_precision: 0.8421 - val_recall: 0.7500\n",
            "Epoch 13/100\n",
            "33/33 [==============================] - 8s 251ms/step - loss: 0.3986 - accuracy: 0.8687 - precision: 0.8659 - recall: 0.8726 - val_loss: 0.5274 - val_accuracy: 0.8125 - val_precision: 0.9545 - val_recall: 0.6562\n",
            "Epoch 14/100\n",
            "33/33 [==============================] - 8s 253ms/step - loss: 0.2155 - accuracy: 0.9228 - precision: 0.9294 - recall: 0.9151 - val_loss: 0.4771 - val_accuracy: 0.7891 - val_precision: 0.8033 - val_recall: 0.7656\n",
            "Epoch 15/100\n",
            "33/33 [==============================] - 8s 246ms/step - loss: 0.3497 - accuracy: 0.8417 - precision: 0.8498 - recall: 0.8301 - val_loss: 0.3967 - val_accuracy: 0.7812 - val_precision: 0.8214 - val_recall: 0.7188\n",
            "Epoch 16/100\n",
            "33/33 [==============================] - 8s 249ms/step - loss: 0.2049 - accuracy: 0.9344 - precision: 0.9344 - recall: 0.9344 - val_loss: 0.4039 - val_accuracy: 0.8125 - val_precision: 0.8448 - val_recall: 0.7656\n",
            "Epoch 17/100\n",
            "33/33 [==============================] - 8s 246ms/step - loss: 0.1440 - accuracy: 0.9537 - precision: 0.9644 - recall: 0.9421 - val_loss: 0.4019 - val_accuracy: 0.7656 - val_precision: 0.7833 - val_recall: 0.7344\n",
            "Epoch 18/100\n",
            "33/33 [==============================] - 8s 250ms/step - loss: 0.0386 - accuracy: 0.9961 - precision: 0.9961 - recall: 0.9961 - val_loss: 0.5545 - val_accuracy: 0.8281 - val_precision: 0.9200 - val_recall: 0.7188\n",
            "Epoch 19/100\n",
            "33/33 [==============================] - 8s 246ms/step - loss: 0.0120 - accuracy: 1.0000 - precision: 1.0000 - recall: 1.0000 - val_loss: 0.6539 - val_accuracy: 0.8281 - val_precision: 0.9200 - val_recall: 0.7188\n",
            "Epoch 20/100\n",
            "33/33 [==============================] - 8s 250ms/step - loss: 0.0057 - accuracy: 1.0000 - precision: 1.0000 - recall: 1.0000 - val_loss: 0.6796 - val_accuracy: 0.8125 - val_precision: 0.8704 - val_recall: 0.7344\n",
            "Epoch 21/100\n",
            "33/33 [==============================] - 9s 266ms/step - loss: 0.0026 - accuracy: 1.0000 - precision: 1.0000 - recall: 1.0000 - val_loss: 0.7918 - val_accuracy: 0.8125 - val_precision: 0.8846 - val_recall: 0.7188\n",
            "Epoch 22/100\n",
            "33/33 [==============================] - 8s 249ms/step - loss: 0.0017 - accuracy: 1.0000 - precision: 1.0000 - recall: 1.0000 - val_loss: 0.7816 - val_accuracy: 0.8047 - val_precision: 0.8545 - val_recall: 0.7344\n",
            "Epoch 23/100\n",
            "33/33 [==============================] - 8s 252ms/step - loss: 0.0013 - accuracy: 1.0000 - precision: 1.0000 - recall: 1.0000 - val_loss: 0.8867 - val_accuracy: 0.8203 - val_precision: 0.9020 - val_recall: 0.7188\n",
            "Epoch 24/100\n",
            "33/33 [==============================] - 9s 261ms/step - loss: 0.0010 - accuracy: 1.0000 - precision: 1.0000 - recall: 1.0000 - val_loss: 0.8902 - val_accuracy: 0.8203 - val_precision: 0.8868 - val_recall: 0.7344\n",
            "Epoch 25/100\n",
            "33/33 [==============================] - 8s 250ms/step - loss: 7.7497e-04 - accuracy: 1.0000 - precision: 1.0000 - recall: 1.0000 - val_loss: 0.9320 - val_accuracy: 0.8203 - val_precision: 0.8868 - val_recall: 0.7344\n",
            "Epoch 26/100\n",
            "33/33 [==============================] - 8s 247ms/step - loss: 6.6472e-04 - accuracy: 1.0000 - precision: 1.0000 - recall: 1.0000 - val_loss: 0.9467 - val_accuracy: 0.8125 - val_precision: 0.8704 - val_recall: 0.7344\n",
            "Epoch 27/100\n",
            "33/33 [==============================] - 8s 250ms/step - loss: 5.4921e-04 - accuracy: 1.0000 - precision: 1.0000 - recall: 1.0000 - val_loss: 0.9847 - val_accuracy: 0.8125 - val_precision: 0.8704 - val_recall: 0.7344\n",
            "Epoch 28/100\n",
            "33/33 [==============================] - 8s 246ms/step - loss: 4.7931e-04 - accuracy: 1.0000 - precision: 1.0000 - recall: 1.0000 - val_loss: 1.0002 - val_accuracy: 0.8125 - val_precision: 0.8704 - val_recall: 0.7344\n",
            "Epoch 29/100\n",
            "33/33 [==============================] - 8s 248ms/step - loss: 4.0783e-04 - accuracy: 1.0000 - precision: 1.0000 - recall: 1.0000 - val_loss: 1.0301 - val_accuracy: 0.8125 - val_precision: 0.8704 - val_recall: 0.7344\n",
            "Epoch 30/100\n",
            "33/33 [==============================] - 9s 262ms/step - loss: 3.6002e-04 - accuracy: 1.0000 - precision: 1.0000 - recall: 1.0000 - val_loss: 1.0240 - val_accuracy: 0.8125 - val_precision: 0.8704 - val_recall: 0.7344\n",
            "Epoch 31/100\n",
            "33/33 [==============================] - 8s 247ms/step - loss: 3.2643e-04 - accuracy: 1.0000 - precision: 1.0000 - recall: 1.0000 - val_loss: 1.0492 - val_accuracy: 0.8125 - val_precision: 0.8704 - val_recall: 0.7344\n",
            "Epoch 32/100\n",
            "33/33 [==============================] - 9s 264ms/step - loss: 2.9205e-04 - accuracy: 1.0000 - precision: 1.0000 - recall: 1.0000 - val_loss: 1.0908 - val_accuracy: 0.8125 - val_precision: 0.8704 - val_recall: 0.7344\n",
            "Epoch 33/100\n",
            "33/33 [==============================] - 8s 245ms/step - loss: 2.6708e-04 - accuracy: 1.0000 - precision: 1.0000 - recall: 1.0000 - val_loss: 1.0827 - val_accuracy: 0.8125 - val_precision: 0.8704 - val_recall: 0.7344\n",
            "Epoch 34/100\n",
            "33/33 [==============================] - 8s 249ms/step - loss: 2.4076e-04 - accuracy: 1.0000 - precision: 1.0000 - recall: 1.0000 - val_loss: 1.1026 - val_accuracy: 0.8125 - val_precision: 0.8704 - val_recall: 0.7344\n",
            "Epoch 35/100\n",
            "33/33 [==============================] - 9s 260ms/step - loss: 2.2234e-04 - accuracy: 1.0000 - precision: 1.0000 - recall: 1.0000 - val_loss: 1.1224 - val_accuracy: 0.8125 - val_precision: 0.8704 - val_recall: 0.7344\n",
            "Epoch 36/100\n",
            "33/33 [==============================] - 8s 247ms/step - loss: 2.0520e-04 - accuracy: 1.0000 - precision: 1.0000 - recall: 1.0000 - val_loss: 1.1314 - val_accuracy: 0.8125 - val_precision: 0.8704 - val_recall: 0.7344\n",
            "Epoch 37/100\n",
            "33/33 [==============================] - 9s 262ms/step - loss: 1.8915e-04 - accuracy: 1.0000 - precision: 1.0000 - recall: 1.0000 - val_loss: 1.1510 - val_accuracy: 0.8125 - val_precision: 0.8704 - val_recall: 0.7344\n",
            "Epoch 38/100\n",
            "33/33 [==============================] - 8s 248ms/step - loss: 1.7614e-04 - accuracy: 1.0000 - precision: 1.0000 - recall: 1.0000 - val_loss: 1.1663 - val_accuracy: 0.8125 - val_precision: 0.8704 - val_recall: 0.7344\n",
            "Epoch 39/100\n",
            "33/33 [==============================] - 8s 250ms/step - loss: 1.6535e-04 - accuracy: 1.0000 - precision: 1.0000 - recall: 1.0000 - val_loss: 1.1746 - val_accuracy: 0.8125 - val_precision: 0.8704 - val_recall: 0.7344\n",
            "Epoch 40/100\n",
            "33/33 [==============================] - 8s 245ms/step - loss: 1.5353e-04 - accuracy: 1.0000 - precision: 1.0000 - recall: 1.0000 - val_loss: 1.1813 - val_accuracy: 0.8125 - val_precision: 0.8704 - val_recall: 0.7344\n",
            "Epoch 41/100\n",
            "33/33 [==============================] - 8s 250ms/step - loss: 1.4550e-04 - accuracy: 1.0000 - precision: 1.0000 - recall: 1.0000 - val_loss: 1.1984 - val_accuracy: 0.8125 - val_precision: 0.8704 - val_recall: 0.7344\n",
            "Epoch 42/100\n",
            "33/33 [==============================] - 8s 245ms/step - loss: 1.3708e-04 - accuracy: 1.0000 - precision: 1.0000 - recall: 1.0000 - val_loss: 1.2023 - val_accuracy: 0.8125 - val_precision: 0.8704 - val_recall: 0.7344\n",
            "Epoch 43/100\n",
            "33/33 [==============================] - 8s 249ms/step - loss: 1.3040e-04 - accuracy: 1.0000 - precision: 1.0000 - recall: 1.0000 - val_loss: 1.2150 - val_accuracy: 0.8125 - val_precision: 0.8704 - val_recall: 0.7344\n",
            "Epoch 44/100\n",
            "33/33 [==============================] - 8s 245ms/step - loss: 1.2254e-04 - accuracy: 1.0000 - precision: 1.0000 - recall: 1.0000 - val_loss: 1.2225 - val_accuracy: 0.8125 - val_precision: 0.8704 - val_recall: 0.7344\n",
            "Epoch 45/100\n",
            "33/33 [==============================] - 8s 246ms/step - loss: 1.1689e-04 - accuracy: 1.0000 - precision: 1.0000 - recall: 1.0000 - val_loss: 1.2290 - val_accuracy: 0.8125 - val_precision: 0.8704 - val_recall: 0.7344\n",
            "Epoch 46/100\n",
            "33/33 [==============================] - 9s 263ms/step - loss: 1.1003e-04 - accuracy: 1.0000 - precision: 1.0000 - recall: 1.0000 - val_loss: 1.2374 - val_accuracy: 0.8125 - val_precision: 0.8704 - val_recall: 0.7344\n",
            "Epoch 47/100\n",
            "33/33 [==============================] - 8s 246ms/step - loss: 1.0596e-04 - accuracy: 1.0000 - precision: 1.0000 - recall: 1.0000 - val_loss: 1.2436 - val_accuracy: 0.8125 - val_precision: 0.8704 - val_recall: 0.7344\n",
            "Epoch 48/100\n",
            "33/33 [==============================] - 8s 250ms/step - loss: 1.0150e-04 - accuracy: 1.0000 - precision: 1.0000 - recall: 1.0000 - val_loss: 1.2525 - val_accuracy: 0.8125 - val_precision: 0.8704 - val_recall: 0.7344\n",
            "Epoch 49/100\n",
            "33/33 [==============================] - 9s 261ms/step - loss: 9.6306e-05 - accuracy: 1.0000 - precision: 1.0000 - recall: 1.0000 - val_loss: 1.2652 - val_accuracy: 0.8125 - val_precision: 0.8704 - val_recall: 0.7344\n",
            "Epoch 50/100\n",
            "33/33 [==============================] - 8s 246ms/step - loss: 9.1760e-05 - accuracy: 1.0000 - precision: 1.0000 - recall: 1.0000 - val_loss: 1.2698 - val_accuracy: 0.8125 - val_precision: 0.8704 - val_recall: 0.7344\n",
            "Epoch 51/100\n",
            "33/33 [==============================] - 8s 246ms/step - loss: 8.8318e-05 - accuracy: 1.0000 - precision: 1.0000 - recall: 1.0000 - val_loss: 1.2727 - val_accuracy: 0.8125 - val_precision: 0.8704 - val_recall: 0.7344\n",
            "Epoch 52/100\n",
            "33/33 [==============================] - 8s 245ms/step - loss: 8.4843e-05 - accuracy: 1.0000 - precision: 1.0000 - recall: 1.0000 - val_loss: 1.2861 - val_accuracy: 0.8125 - val_precision: 0.8704 - val_recall: 0.7344\n",
            "Epoch 53/100\n",
            "33/33 [==============================] - 8s 249ms/step - loss: 8.1704e-05 - accuracy: 1.0000 - precision: 1.0000 - recall: 1.0000 - val_loss: 1.2960 - val_accuracy: 0.8125 - val_precision: 0.8704 - val_recall: 0.7344\n",
            "Epoch 54/100\n",
            "33/33 [==============================] - 8s 247ms/step - loss: 7.8519e-05 - accuracy: 1.0000 - precision: 1.0000 - recall: 1.0000 - val_loss: 1.2969 - val_accuracy: 0.8125 - val_precision: 0.8704 - val_recall: 0.7344\n",
            "Epoch 55/100\n",
            "33/33 [==============================] - 8s 250ms/step - loss: 7.4805e-05 - accuracy: 1.0000 - precision: 1.0000 - recall: 1.0000 - val_loss: 1.3108 - val_accuracy: 0.8125 - val_precision: 0.8704 - val_recall: 0.7344\n",
            "Epoch 56/100\n",
            "33/33 [==============================] - 9s 260ms/step - loss: 7.2940e-05 - accuracy: 1.0000 - precision: 1.0000 - recall: 1.0000 - val_loss: 1.3177 - val_accuracy: 0.8125 - val_precision: 0.8704 - val_recall: 0.7344\n",
            "Epoch 57/100\n",
            "33/33 [==============================] - 8s 245ms/step - loss: 7.0188e-05 - accuracy: 1.0000 - precision: 1.0000 - recall: 1.0000 - val_loss: 1.3182 - val_accuracy: 0.8125 - val_precision: 0.8704 - val_recall: 0.7344\n",
            "Epoch 58/100\n",
            "33/33 [==============================] - 8s 246ms/step - loss: 6.7898e-05 - accuracy: 1.0000 - precision: 1.0000 - recall: 1.0000 - val_loss: 1.3257 - val_accuracy: 0.8125 - val_precision: 0.8704 - val_recall: 0.7344\n",
            "Epoch 59/100\n",
            "33/33 [==============================] - 8s 245ms/step - loss: 6.5353e-05 - accuracy: 1.0000 - precision: 1.0000 - recall: 1.0000 - val_loss: 1.3387 - val_accuracy: 0.8125 - val_precision: 0.8704 - val_recall: 0.7344\n",
            "Epoch 60/100\n",
            "33/33 [==============================] - 8s 251ms/step - loss: 6.3631e-05 - accuracy: 1.0000 - precision: 1.0000 - recall: 1.0000 - val_loss: 1.3414 - val_accuracy: 0.8125 - val_precision: 0.8704 - val_recall: 0.7344\n",
            "Epoch 61/100\n",
            "33/33 [==============================] - 8s 245ms/step - loss: 6.1268e-05 - accuracy: 1.0000 - precision: 1.0000 - recall: 1.0000 - val_loss: 1.3478 - val_accuracy: 0.8125 - val_precision: 0.8704 - val_recall: 0.7344\n",
            "Epoch 62/100\n",
            "33/33 [==============================] - 8s 247ms/step - loss: 5.9480e-05 - accuracy: 1.0000 - precision: 1.0000 - recall: 1.0000 - val_loss: 1.3537 - val_accuracy: 0.8125 - val_precision: 0.8704 - val_recall: 0.7344\n",
            "Epoch 63/100\n",
            "33/33 [==============================] - 8s 247ms/step - loss: 5.7662e-05 - accuracy: 1.0000 - precision: 1.0000 - recall: 1.0000 - val_loss: 1.3551 - val_accuracy: 0.8125 - val_precision: 0.8704 - val_recall: 0.7344\n",
            "Epoch 64/100\n",
            "33/33 [==============================] - 8s 246ms/step - loss: 5.5999e-05 - accuracy: 1.0000 - precision: 1.0000 - recall: 1.0000 - val_loss: 1.3638 - val_accuracy: 0.8125 - val_precision: 0.8704 - val_recall: 0.7344\n",
            "Epoch 65/100\n",
            "33/33 [==============================] - 8s 248ms/step - loss: 5.4128e-05 - accuracy: 1.0000 - precision: 1.0000 - recall: 1.0000 - val_loss: 1.3625 - val_accuracy: 0.8125 - val_precision: 0.8704 - val_recall: 0.7344\n",
            "Epoch 66/100\n",
            "33/33 [==============================] - 8s 245ms/step - loss: 5.2400e-05 - accuracy: 1.0000 - precision: 1.0000 - recall: 1.0000 - val_loss: 1.3681 - val_accuracy: 0.8125 - val_precision: 0.8704 - val_recall: 0.7344\n",
            "Epoch 67/100\n",
            "33/33 [==============================] - 8s 250ms/step - loss: 5.1170e-05 - accuracy: 1.0000 - precision: 1.0000 - recall: 1.0000 - val_loss: 1.3746 - val_accuracy: 0.8125 - val_precision: 0.8704 - val_recall: 0.7344\n",
            "Epoch 68/100\n",
            "33/33 [==============================] - 8s 245ms/step - loss: 4.9803e-05 - accuracy: 1.0000 - precision: 1.0000 - recall: 1.0000 - val_loss: 1.3850 - val_accuracy: 0.8125 - val_precision: 0.8704 - val_recall: 0.7344\n",
            "Epoch 69/100\n",
            "33/33 [==============================] - 8s 247ms/step - loss: 4.8660e-05 - accuracy: 1.0000 - precision: 1.0000 - recall: 1.0000 - val_loss: 1.3894 - val_accuracy: 0.8125 - val_precision: 0.8704 - val_recall: 0.7344\n",
            "Epoch 70/100\n",
            "33/33 [==============================] - 9s 259ms/step - loss: 4.6993e-05 - accuracy: 1.0000 - precision: 1.0000 - recall: 1.0000 - val_loss: 1.3912 - val_accuracy: 0.8125 - val_precision: 0.8704 - val_recall: 0.7344\n",
            "Epoch 71/100\n",
            "33/33 [==============================] - 8s 244ms/step - loss: 4.5819e-05 - accuracy: 1.0000 - precision: 1.0000 - recall: 1.0000 - val_loss: 1.3934 - val_accuracy: 0.8125 - val_precision: 0.8704 - val_recall: 0.7344\n",
            "Epoch 72/100\n",
            "33/33 [==============================] - 8s 248ms/step - loss: 4.4690e-05 - accuracy: 1.0000 - precision: 1.0000 - recall: 1.0000 - val_loss: 1.3965 - val_accuracy: 0.8125 - val_precision: 0.8704 - val_recall: 0.7344\n",
            "Epoch 73/100\n",
            "33/33 [==============================] - 8s 246ms/step - loss: 4.3578e-05 - accuracy: 1.0000 - precision: 1.0000 - recall: 1.0000 - val_loss: 1.4067 - val_accuracy: 0.8125 - val_precision: 0.8704 - val_recall: 0.7344\n",
            "Epoch 74/100\n",
            "33/33 [==============================] - 8s 252ms/step - loss: 4.2681e-05 - accuracy: 1.0000 - precision: 1.0000 - recall: 1.0000 - val_loss: 1.4092 - val_accuracy: 0.8125 - val_precision: 0.8704 - val_recall: 0.7344\n",
            "Epoch 75/100\n",
            "33/33 [==============================] - 8s 245ms/step - loss: 4.1583e-05 - accuracy: 1.0000 - precision: 1.0000 - recall: 1.0000 - val_loss: 1.4130 - val_accuracy: 0.8125 - val_precision: 0.8704 - val_recall: 0.7344\n",
            "Epoch 76/100\n",
            "33/33 [==============================] - 8s 249ms/step - loss: 4.0570e-05 - accuracy: 1.0000 - precision: 1.0000 - recall: 1.0000 - val_loss: 1.4147 - val_accuracy: 0.8125 - val_precision: 0.8704 - val_recall: 0.7344\n",
            "Epoch 77/100\n",
            "33/33 [==============================] - 8s 245ms/step - loss: 3.9608e-05 - accuracy: 1.0000 - precision: 1.0000 - recall: 1.0000 - val_loss: 1.4203 - val_accuracy: 0.8125 - val_precision: 0.8704 - val_recall: 0.7344\n",
            "Epoch 78/100\n",
            "33/33 [==============================] - 8s 248ms/step - loss: 3.8681e-05 - accuracy: 1.0000 - precision: 1.0000 - recall: 1.0000 - val_loss: 1.4259 - val_accuracy: 0.8125 - val_precision: 0.8704 - val_recall: 0.7344\n",
            "Epoch 79/100\n",
            "33/33 [==============================] - 8s 244ms/step - loss: 3.7862e-05 - accuracy: 1.0000 - precision: 1.0000 - recall: 1.0000 - val_loss: 1.4283 - val_accuracy: 0.8125 - val_precision: 0.8704 - val_recall: 0.7344\n",
            "Epoch 80/100\n",
            "33/33 [==============================] - 8s 252ms/step - loss: 3.6942e-05 - accuracy: 1.0000 - precision: 1.0000 - recall: 1.0000 - val_loss: 1.4314 - val_accuracy: 0.8125 - val_precision: 0.8704 - val_recall: 0.7344\n",
            "Epoch 81/100\n",
            "33/33 [==============================] - 8s 244ms/step - loss: 3.6155e-05 - accuracy: 1.0000 - precision: 1.0000 - recall: 1.0000 - val_loss: 1.4377 - val_accuracy: 0.8125 - val_precision: 0.8704 - val_recall: 0.7344\n",
            "Epoch 82/100\n",
            "33/33 [==============================] - 8s 249ms/step - loss: 3.5363e-05 - accuracy: 1.0000 - precision: 1.0000 - recall: 1.0000 - val_loss: 1.4411 - val_accuracy: 0.8125 - val_precision: 0.8704 - val_recall: 0.7344\n",
            "Epoch 83/100\n",
            "33/33 [==============================] - 8s 245ms/step - loss: 3.4693e-05 - accuracy: 1.0000 - precision: 1.0000 - recall: 1.0000 - val_loss: 1.4433 - val_accuracy: 0.8125 - val_precision: 0.8704 - val_recall: 0.7344\n",
            "Epoch 84/100\n",
            "33/33 [==============================] - 8s 246ms/step - loss: 3.3905e-05 - accuracy: 1.0000 - precision: 1.0000 - recall: 1.0000 - val_loss: 1.4454 - val_accuracy: 0.8125 - val_precision: 0.8704 - val_recall: 0.7344\n",
            "Epoch 85/100\n",
            "33/33 [==============================] - 9s 260ms/step - loss: 3.3160e-05 - accuracy: 1.0000 - precision: 1.0000 - recall: 1.0000 - val_loss: 1.4534 - val_accuracy: 0.8125 - val_precision: 0.8704 - val_recall: 0.7344\n",
            "Epoch 86/100\n",
            "33/33 [==============================] - 8s 247ms/step - loss: 3.2678e-05 - accuracy: 1.0000 - precision: 1.0000 - recall: 1.0000 - val_loss: 1.4578 - val_accuracy: 0.8125 - val_precision: 0.8704 - val_recall: 0.7344\n",
            "Epoch 87/100\n",
            "33/33 [==============================] - 9s 262ms/step - loss: 3.1880e-05 - accuracy: 1.0000 - precision: 1.0000 - recall: 1.0000 - val_loss: 1.4590 - val_accuracy: 0.8125 - val_precision: 0.8704 - val_recall: 0.7344\n",
            "Epoch 88/100\n",
            "33/33 [==============================] - 8s 247ms/step - loss: 3.1255e-05 - accuracy: 1.0000 - precision: 1.0000 - recall: 1.0000 - val_loss: 1.4662 - val_accuracy: 0.8125 - val_precision: 0.8704 - val_recall: 0.7344\n",
            "Epoch 89/100\n",
            "33/33 [==============================] - 9s 261ms/step - loss: 3.0736e-05 - accuracy: 1.0000 - precision: 1.0000 - recall: 1.0000 - val_loss: 1.4653 - val_accuracy: 0.8125 - val_precision: 0.8704 - val_recall: 0.7344\n",
            "Epoch 90/100\n",
            "33/33 [==============================] - 8s 245ms/step - loss: 3.0131e-05 - accuracy: 1.0000 - precision: 1.0000 - recall: 1.0000 - val_loss: 1.4689 - val_accuracy: 0.8125 - val_precision: 0.8704 - val_recall: 0.7344\n",
            "Epoch 91/100\n",
            "33/33 [==============================] - 8s 250ms/step - loss: 2.9615e-05 - accuracy: 1.0000 - precision: 1.0000 - recall: 1.0000 - val_loss: 1.4748 - val_accuracy: 0.8125 - val_precision: 0.8704 - val_recall: 0.7344\n",
            "Epoch 92/100\n",
            "33/33 [==============================] - 8s 245ms/step - loss: 2.8987e-05 - accuracy: 1.0000 - precision: 1.0000 - recall: 1.0000 - val_loss: 1.4760 - val_accuracy: 0.8125 - val_precision: 0.8704 - val_recall: 0.7344\n",
            "Epoch 93/100\n",
            "33/33 [==============================] - 8s 249ms/step - loss: 2.8568e-05 - accuracy: 1.0000 - precision: 1.0000 - recall: 1.0000 - val_loss: 1.4807 - val_accuracy: 0.8125 - val_precision: 0.8704 - val_recall: 0.7344\n",
            "Epoch 94/100\n",
            "33/33 [==============================] - 8s 245ms/step - loss: 2.8005e-05 - accuracy: 1.0000 - precision: 1.0000 - recall: 1.0000 - val_loss: 1.4848 - val_accuracy: 0.8125 - val_precision: 0.8704 - val_recall: 0.7344\n",
            "Epoch 95/100\n",
            "33/33 [==============================] - 8s 249ms/step - loss: 2.7488e-05 - accuracy: 1.0000 - precision: 1.0000 - recall: 1.0000 - val_loss: 1.4885 - val_accuracy: 0.8125 - val_precision: 0.8704 - val_recall: 0.7344\n",
            "Epoch 96/100\n",
            "33/33 [==============================] - 8s 245ms/step - loss: 2.7044e-05 - accuracy: 1.0000 - precision: 1.0000 - recall: 1.0000 - val_loss: 1.4916 - val_accuracy: 0.8125 - val_precision: 0.8704 - val_recall: 0.7344\n",
            "Epoch 97/100\n",
            "33/33 [==============================] - 8s 246ms/step - loss: 2.6643e-05 - accuracy: 1.0000 - precision: 1.0000 - recall: 1.0000 - val_loss: 1.4939 - val_accuracy: 0.8125 - val_precision: 0.8704 - val_recall: 0.7344\n",
            "Epoch 98/100\n",
            "33/33 [==============================] - 8s 246ms/step - loss: 2.6188e-05 - accuracy: 1.0000 - precision: 1.0000 - recall: 1.0000 - val_loss: 1.4982 - val_accuracy: 0.8125 - val_precision: 0.8704 - val_recall: 0.7344\n",
            "Epoch 99/100\n",
            "33/33 [==============================] - 8s 245ms/step - loss: 2.5770e-05 - accuracy: 1.0000 - precision: 1.0000 - recall: 1.0000 - val_loss: 1.5014 - val_accuracy: 0.8125 - val_precision: 0.8704 - val_recall: 0.7344\n",
            "Epoch 100/100\n",
            "33/33 [==============================] - 8s 248ms/step - loss: 2.5360e-05 - accuracy: 1.0000 - precision: 1.0000 - recall: 1.0000 - val_loss: 1.5045 - val_accuracy: 0.8125 - val_precision: 0.8704 - val_recall: 0.7344\n"
          ]
        }
      ]
    },
    {
      "cell_type": "code",
      "source": [
        "model.save('model.h5')"
      ],
      "metadata": {
        "colab": {
          "base_uri": "https://localhost:8080/"
        },
        "id": "NbO5E7Tx4XG5",
        "outputId": "6888ff73-8aa7-42e0-e752-0f363c0610ba"
      },
      "execution_count": null,
      "outputs": [
        {
          "output_type": "stream",
          "name": "stderr",
          "text": [
            "/usr/local/lib/python3.10/dist-packages/keras/src/engine/training.py:3079: UserWarning: You are saving your model as an HDF5 file via `model.save()`. This file format is considered legacy. We recommend using instead the native Keras format, e.g. `model.save('my_model.keras')`.\n",
            "  saving_api.save_model(\n"
          ]
        }
      ]
    },
    {
      "cell_type": "code",
      "source": [
        "plt.plot(fit_history.history['accuracy'])\n",
        "plt.plot(fit_history.history['val_accuracy'])\n",
        "plt.title('Model Olasılığı')\n",
        "plt.ylabel('Olasılık')\n",
        "plt.xlabel('Epoch')\n",
        "plt.legend(['Eğitim', 'Doğrulama'], loc='upper left')\n",
        "plt.show()"
      ],
      "metadata": {
        "colab": {
          "base_uri": "https://localhost:8080/",
          "height": 472
        },
        "id": "BpSkc-a-4aEf",
        "outputId": "89400431-3be7-42d0-9ec6-03299d3e5f8a"
      },
      "execution_count": null,
      "outputs": [
        {
          "output_type": "display_data",
          "data": {
            "text/plain": [
              "<Figure size 640x480 with 1 Axes>"
            ],
            "image/png": "[encoded data removed]"
          },
          "metadata": {}
        }
      ]
    },
    {
      "cell_type": "code",
      "source": [
        "plt.plot(fit_history.history['loss'])\n",
        "plt.plot(fit_history.history['val_loss'])\n",
        "plt.title('Model Kaybı')\n",
        "plt.ylabel('Kayıp (Loss)')\n",
        "plt.xlabel('Epoch')\n",
        "plt.legend(['Eğitim', 'Doğrulama'], loc='upper left')\n",
        "plt.show()"
      ],
      "metadata": {
        "colab": {
          "base_uri": "https://localhost:8080/",
          "height": 472
        },
        "id": "SNGORhJz4cfH",
        "outputId": "f66b9dd8-0078-4cb6-8444-61dd3370080a"
      },
      "execution_count": null,
      "outputs": [
        {
          "output_type": "display_data",
          "data": {
            "text/plain": [
              "<Figure size 640x480 with 1 Axes>"
            ],
            "image/png": "[encoded data removed]"
          },
          "metadata": {}
        }
      ]
    },
    {
      "cell_type": "code",
      "source": [
        "loss, accuracy, precision, recall = model.evaluate(val_generator)"
      ],
      "metadata": {
        "colab": {
          "base_uri": "https://localhost:8080/"
        },
        "id": "98FuylB24eoS",
        "outputId": "8dbfcb7f-f8d1-4817-9457-a1ee857d7b88"
      },
      "execution_count": null,
      "outputs": [
        {
          "output_type": "stream",
          "name": "stdout",
          "text": [
            "16/16 [==============================] - 1s 52ms/step - loss: 1.5045 - accuracy: 0.8125 - precision: 0.8704 - recall: 0.7344\n"
          ]
        }
      ]
    },
    {
      "cell_type": "code",
      "source": [
        "F1_Skoru = ((precision * recall) / (precision + recall)) * 2\n",
        "F1_Skoru"
      ],
      "metadata": {
        "colab": {
          "base_uri": "https://localhost:8080/"
        },
        "id": "gYC_xTta4g1v",
        "outputId": "349337a5-9fd3-445c-83bb-d8c479819c30"
      },
      "execution_count": null,
      "outputs": [
        {
          "output_type": "execute_result",
          "data": {
            "text/plain": [
              "0.796610176888597"
            ]
          },
          "metadata": {},
          "execution_count": 19
        }
      ]
    },
    {
      "cell_type": "code",
      "source": [
        "y_true = val_generator.classes\n",
        "y_pred = model.predict(val_generator)\n",
        "y_pred = np.round(y_pred)\n",
        "confusion_matrisi = confusion_matrix(y_true, y_pred)\n",
        "print(confusion_matrisi)"
      ],
      "metadata": {
        "colab": {
          "base_uri": "https://localhost:8080/"
        },
        "id": "WhPSDG_AGUWk",
        "outputId": "92d68aef-13d9-4924-c632-dc65fd9a1c7c"
      },
      "execution_count": null,
      "outputs": [
        {
          "output_type": "stream",
          "name": "stdout",
          "text": [
            "16/16 [==============================] - 1s 47ms/step\n",
            "[[57  7]\n",
            " [17 47]]\n"
          ]
        }
      ]
    }
  ]
}