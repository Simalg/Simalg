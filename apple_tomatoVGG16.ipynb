{
  "nbformat": 4,
  "nbformat_minor": 0,
  "metadata": {
    "colab": {
      "provenance": [],
      "gpuType": "T4",
      "include_colab_link": true
    },
    "kernelspec": {
      "name": "python3",
      "display_name": "Python 3"
    },
    "language_info": {
      "name": "python"
    },
    "accelerator": "GPU"
  },
  "cells": [
    {
      "cell_type": "markdown",
      "metadata": {
        "id": "view-in-github",
        "colab_type": "text"
      },
      "source": [
        "<a href=\"https://colab.research.google.com/github/Simalg/Simalg/blob/main/apple_tomatoVGG16.ipynb\" target=\"_parent\"><img src=\"https://colab.research.google.com/assets/colab-badge.svg\" alt=\"Open In Colab\"/></a>"
      ]
    },
    {
      "cell_type": "code",
      "source": [
        "from google.colab import drive\n",
        "drive.mount('/content/drive')"
      ],
      "metadata": {
        "id": "K5G4-1YMtPLp",
        "colab": {
          "base_uri": "https://localhost:8080/"
        },
        "outputId": "e1f19c97-4e89-49f6-bba6-6431633d6d8e"
      },
      "execution_count": null,
      "outputs": [
        {
          "output_type": "stream",
          "name": "stdout",
          "text": [
            "Drive already mounted at /content/drive; to attempt to forcibly remount, call drive.mount(\"/content/drive\", force_remount=True).\n"
          ]
        }
      ]
    },
    {
      "cell_type": "code",
      "source": [
        "import tensorflow as tf\n",
        "from tensorflow.keras import layers\n",
        "from tensorflow.keras.callbacks import TensorBoard\n",
        "from tensorflow.keras.models import Model\n",
        "from tensorflow.keras.layers import Input, Dense\n",
        "from tensorflow.keras.applications import VGG16\n",
        "\n",
        "from keras.preprocessing.image import ImageDataGenerator\n",
        "from keras.models import Model, load_model\n",
        "from keras.preprocessing import image\n",
        "from keras.utils import load_img, img_to_array\n",
        "\n",
        "from sklearn.metrics import confusion_matrix"
      ],
      "metadata": {
        "id": "AYQZFQ5CtnUc"
      },
      "execution_count": null,
      "outputs": []
    },
    {
      "cell_type": "code",
      "source": [
        "import pandas as pd\n",
        "import numpy as np\n",
        "import matplotlib.pyplot as plt"
      ],
      "metadata": {
        "id": "4X8km8SSuJ_9"
      },
      "execution_count": null,
      "outputs": []
    },
    {
      "cell_type": "code",
      "source": [
        "train_path = \"/content/drive/MyDrive/apple-tomato/train\""
      ],
      "metadata": {
        "id": "i19HLl6RudA5"
      },
      "execution_count": null,
      "outputs": []
    },
    {
      "cell_type": "code",
      "source": [
        "val_path = \"/content/drive/MyDrive/apple-tomato/test\""
      ],
      "metadata": {
        "id": "H_y5jJ5uuidR"
      },
      "execution_count": null,
      "outputs": []
    },
    {
      "cell_type": "code",
      "source": [
        "data_gen = ImageDataGenerator(rescale=1./255)"
      ],
      "metadata": {
        "id": "Ctd15YjauxGe"
      },
      "execution_count": null,
      "outputs": []
    },
    {
      "cell_type": "code",
      "source": [
        "train_generator = data_gen.flow_from_directory(\n",
        "  train_path,\n",
        "  target_size=(224, 224),\n",
        "  batch_size=32,\n",
        "  class_mode='binary',\n",
        "  shuffle=True)"
      ],
      "metadata": {
        "colab": {
          "base_uri": "https://localhost:8080/"
        },
        "id": "EV6S1i15u5ar",
        "outputId": "4bf0e205-437b-4989-c00d-c05852b57bea"
      },
      "execution_count": null,
      "outputs": [
        {
          "output_type": "stream",
          "name": "stdout",
          "text": [
            "Found 294 images belonging to 2 classes.\n"
          ]
        }
      ]
    },
    {
      "cell_type": "code",
      "source": [
        "val_generator = data_gen.flow_from_directory(\n",
        "  val_path,\n",
        "  target_size=(224, 224),\n",
        "  batch_size=16,\n",
        "  class_mode='binary',\n",
        "  shuffle=False)"
      ],
      "metadata": {
        "colab": {
          "base_uri": "https://localhost:8080/"
        },
        "id": "qOsuRCc7vDTa",
        "outputId": "7617c7ae-80b8-458b-ad6d-42e389d12ae0"
      },
      "execution_count": null,
      "outputs": [
        {
          "output_type": "stream",
          "name": "stdout",
          "text": [
            "Found 97 images belonging to 2 classes.\n"
          ]
        }
      ]
    },
    {
      "cell_type": "code",
      "source": [
        "input_shape, num_classes = (224, 224, 3), 1"
      ],
      "metadata": {
        "id": "R5O7iv29vRCL"
      },
      "execution_count": null,
      "outputs": []
    },
    {
      "cell_type": "code",
      "source": [
        "input = Input(shape=input_shape)\n",
        "\n",
        "base_model = VGG16(include_top=False, pooling=\"avg\", weights=\"imagenet\")(input)\n",
        "dense_layer = Dense(64, activation='relu')(base_model)\n",
        "output_layer = Dense(num_classes, activation='sigmoid')(dense_layer)\n",
        "\n",
        "model = Model(inputs=input, outputs=output_layer)\n",
        "model.layers[0].trainable = False"
      ],
      "metadata": {
        "id": "uSuP_VX0vaq9",
        "colab": {
          "base_uri": "https://localhost:8080/"
        },
        "outputId": "8cb2cca1-6da6-497d-94d5-d6325f8d3950"
      },
      "execution_count": null,
      "outputs": [
        {
          "output_type": "stream",
          "name": "stdout",
          "text": [
            "Downloading data from https://storage.googleapis.com/tensorflow/keras-applications/vgg16/vgg16_weights_tf_dim_ordering_tf_kernels_notop.h5\n",
            "58889256/58889256 [==============================] - 2s 0us/step\n"
          ]
        }
      ]
    },
    {
      "cell_type": "code",
      "source": [
        "model.summary()"
      ],
      "metadata": {
        "colab": {
          "base_uri": "https://localhost:8080/"
        },
        "id": "-K93SlwUwNkz",
        "outputId": "2b649ed2-ed55-4ea9-f0c2-2279eb8046ad"
      },
      "execution_count": null,
      "outputs": [
        {
          "output_type": "stream",
          "name": "stdout",
          "text": [
            "Model: \"model\"\n",
            "_________________________________________________________________\n",
            " Layer (type)                Output Shape              Param #   \n",
            "=================================================================\n",
            " input_1 (InputLayer)        [(None, 224, 224, 3)]     0         \n",
            "                                                                 \n",
            " vgg16 (Functional)          (None, 512)               14714688  \n",
            "                                                                 \n",
            " dense (Dense)               (None, 64)                32832     \n",
            "                                                                 \n",
            " dense_1 (Dense)             (None, 1)                 65        \n",
            "                                                                 \n",
            "=================================================================\n",
            "Total params: 14747585 (56.26 MB)\n",
            "Trainable params: 14747585 (56.26 MB)\n",
            "Non-trainable params: 0 (0.00 Byte)\n",
            "_________________________________________________________________\n"
          ]
        }
      ]
    },
    {
      "cell_type": "code",
      "source": [
        "optimizer = tf.keras.optimizers.SGD(learning_rate=0.01)"
      ],
      "metadata": {
        "id": "0c8ymnKowlxw"
      },
      "execution_count": null,
      "outputs": []
    },
    {
      "cell_type": "code",
      "source": [
        "model.compile(optimizer=optimizer, loss=\"binary_crossentropy\", metrics=[\"accuracy\", tf.keras.metrics.Precision(), tf.keras.metrics.Recall()])"
      ],
      "metadata": {
        "id": "mnjr7HDWwaXs"
      },
      "execution_count": null,
      "outputs": []
    },
    {
      "cell_type": "code",
      "source": [
        "fit_history = model.fit_generator(\n",
        "    train_generator,\n",
        "    epochs=100,\n",
        "    validation_data=val_generator,\n",
        ")"
      ],
      "metadata": {
        "colab": {
          "base_uri": "https://localhost:8080/"
        },
        "id": "MuayUFoYwtP5",
        "outputId": "b6f17ab7-016d-49bc-fc85-69603404a334"
      },
      "execution_count": null,
      "outputs": [
        {
          "output_type": "stream",
          "name": "stderr",
          "text": [
            "<ipython-input-15-6a2829a8601d>:1: UserWarning: `Model.fit_generator` is deprecated and will be removed in a future version. Please use `Model.fit`, which supports generators.\n",
            "  fit_history = model.fit_generator(\n"
          ]
        },
        {
          "output_type": "stream",
          "name": "stdout",
          "text": [
            "Epoch 1/100\n",
            "10/10 [==============================] - 121s 10s/step - loss: 0.6601 - accuracy: 0.5748 - precision: 0.5175 - recall: 0.5692 - val_loss: 0.5580 - val_accuracy: 0.7629 - val_precision: 0.7273 - val_recall: 0.7442\n",
            "Epoch 2/100\n",
            "10/10 [==============================] - 4s 426ms/step - loss: 0.5716 - accuracy: 0.7313 - precision: 0.7217 - recall: 0.6385 - val_loss: 0.5278 - val_accuracy: 0.7938 - val_precision: 0.7949 - val_recall: 0.7209\n",
            "Epoch 3/100\n",
            "10/10 [==============================] - 4s 435ms/step - loss: 0.5634 - accuracy: 0.6871 - precision: 0.6301 - recall: 0.7077 - val_loss: 0.5272 - val_accuracy: 0.7938 - val_precision: 0.9259 - val_recall: 0.5814\n",
            "Epoch 4/100\n",
            "10/10 [==============================] - 4s 436ms/step - loss: 0.4856 - accuracy: 0.8027 - precision: 0.7812 - recall: 0.7692 - val_loss: 0.4967 - val_accuracy: 0.7732 - val_precision: 0.8889 - val_recall: 0.5581\n",
            "Epoch 5/100\n",
            "10/10 [==============================] - 4s 439ms/step - loss: 0.4735 - accuracy: 0.7857 - precision: 0.8073 - recall: 0.6769 - val_loss: 0.5167 - val_accuracy: 0.7938 - val_precision: 0.6949 - val_recall: 0.9535\n",
            "Epoch 6/100\n",
            "10/10 [==============================] - 5s 466ms/step - loss: 0.3350 - accuracy: 0.8878 - precision: 0.8819 - recall: 0.8615 - val_loss: 0.6090 - val_accuracy: 0.7629 - val_precision: 0.6562 - val_recall: 0.9767\n",
            "Epoch 7/100\n",
            "10/10 [==============================] - 5s 452ms/step - loss: 0.4746 - accuracy: 0.8163 - precision: 0.7879 - recall: 0.8000 - val_loss: 0.4648 - val_accuracy: 0.7732 - val_precision: 0.9565 - val_recall: 0.5116\n",
            "Epoch 8/100\n",
            "10/10 [==============================] - 5s 453ms/step - loss: 0.3169 - accuracy: 0.8707 - precision: 0.8651 - recall: 0.8385 - val_loss: 0.3500 - val_accuracy: 0.8454 - val_precision: 0.7917 - val_recall: 0.8837\n",
            "Epoch 9/100\n",
            "10/10 [==============================] - 5s 454ms/step - loss: 0.2987 - accuracy: 0.8707 - precision: 0.8485 - recall: 0.8615 - val_loss: 0.4409 - val_accuracy: 0.7835 - val_precision: 0.6964 - val_recall: 0.9070\n",
            "Epoch 10/100\n",
            "10/10 [==============================] - 5s 472ms/step - loss: 0.2783 - accuracy: 0.8810 - precision: 0.8926 - recall: 0.8308 - val_loss: 0.3122 - val_accuracy: 0.8557 - val_precision: 0.8372 - val_recall: 0.8372\n",
            "Epoch 11/100\n",
            "10/10 [==============================] - 5s 447ms/step - loss: 0.1412 - accuracy: 0.9524 - precision: 0.9394 - recall: 0.9538 - val_loss: 0.3783 - val_accuracy: 0.8763 - val_precision: 0.9429 - val_recall: 0.7674\n",
            "Epoch 12/100\n",
            "10/10 [==============================] - 4s 442ms/step - loss: 0.6014 - accuracy: 0.7551 - precision: 0.7339 - recall: 0.7000 - val_loss: 0.4755 - val_accuracy: 0.8041 - val_precision: 0.7222 - val_recall: 0.9070\n",
            "Epoch 13/100\n",
            "10/10 [==============================] - 4s 441ms/step - loss: 0.3470 - accuracy: 0.8980 - precision: 0.8676 - recall: 0.9077 - val_loss: 0.3578 - val_accuracy: 0.8454 - val_precision: 0.7917 - val_recall: 0.8837\n",
            "Epoch 14/100\n",
            "10/10 [==============================] - 4s 437ms/step - loss: 0.2816 - accuracy: 0.9048 - precision: 0.8806 - recall: 0.9077 - val_loss: 0.3328 - val_accuracy: 0.8866 - val_precision: 0.9706 - val_recall: 0.7674\n",
            "Epoch 15/100\n",
            "10/10 [==============================] - 4s 436ms/step - loss: 0.2146 - accuracy: 0.9286 - precision: 0.9160 - recall: 0.9231 - val_loss: 0.5057 - val_accuracy: 0.7629 - val_precision: 0.9545 - val_recall: 0.4884\n",
            "Epoch 16/100\n",
            "10/10 [==============================] - 5s 455ms/step - loss: 0.1261 - accuracy: 0.9626 - precision: 0.9612 - recall: 0.9538 - val_loss: 0.3015 - val_accuracy: 0.8969 - val_precision: 0.8837 - val_recall: 0.8837\n",
            "Epoch 17/100\n",
            "10/10 [==============================] - 4s 438ms/step - loss: 0.1518 - accuracy: 0.9422 - precision: 0.9449 - recall: 0.9231 - val_loss: 0.3242 - val_accuracy: 0.8866 - val_precision: 1.0000 - val_recall: 0.7442\n",
            "Epoch 18/100\n",
            "10/10 [==============================] - 4s 433ms/step - loss: 0.1197 - accuracy: 0.9592 - precision: 0.9609 - recall: 0.9462 - val_loss: 0.3394 - val_accuracy: 0.8763 - val_precision: 0.9697 - val_recall: 0.7442\n",
            "Epoch 19/100\n",
            "10/10 [==============================] - 4s 438ms/step - loss: 0.4109 - accuracy: 0.8197 - precision: 0.8182 - recall: 0.7615 - val_loss: 0.4405 - val_accuracy: 0.7732 - val_precision: 0.9565 - val_recall: 0.5116\n",
            "Epoch 20/100\n",
            "10/10 [==============================] - 4s 441ms/step - loss: 0.1883 - accuracy: 0.9422 - precision: 0.9520 - recall: 0.9154 - val_loss: 0.3234 - val_accuracy: 0.8557 - val_precision: 0.9677 - val_recall: 0.6977\n",
            "Epoch 21/100\n",
            "10/10 [==============================] - 4s 435ms/step - loss: 0.2415 - accuracy: 0.8980 - precision: 0.9032 - recall: 0.8615 - val_loss: 0.3067 - val_accuracy: 0.8660 - val_precision: 0.8750 - val_recall: 0.8140\n",
            "Epoch 22/100\n",
            "10/10 [==============================] - 4s 437ms/step - loss: 0.0904 - accuracy: 0.9898 - precision: 0.9847 - recall: 0.9923 - val_loss: 0.2748 - val_accuracy: 0.8969 - val_precision: 0.9231 - val_recall: 0.8372\n",
            "Epoch 23/100\n",
            "10/10 [==============================] - 5s 446ms/step - loss: 0.0495 - accuracy: 0.9932 - precision: 0.9923 - recall: 0.9923 - val_loss: 0.3052 - val_accuracy: 0.8866 - val_precision: 0.8810 - val_recall: 0.8605\n",
            "Epoch 24/100\n",
            "10/10 [==============================] - 5s 446ms/step - loss: 0.0349 - accuracy: 0.9966 - precision: 1.0000 - recall: 0.9923 - val_loss: 0.3100 - val_accuracy: 0.8866 - val_precision: 0.9000 - val_recall: 0.8372\n",
            "Epoch 25/100\n",
            "10/10 [==============================] - 4s 473ms/step - loss: 0.0549 - accuracy: 0.9762 - precision: 0.9843 - recall: 0.9615 - val_loss: 0.3001 - val_accuracy: 0.8866 - val_precision: 0.9000 - val_recall: 0.8372\n",
            "Epoch 26/100\n",
            "10/10 [==============================] - 4s 440ms/step - loss: 0.0195 - accuracy: 0.9966 - precision: 1.0000 - recall: 0.9923 - val_loss: 0.3075 - val_accuracy: 0.8969 - val_precision: 0.9024 - val_recall: 0.8605\n",
            "Epoch 27/100\n",
            "10/10 [==============================] - 5s 450ms/step - loss: 0.0136 - accuracy: 0.9966 - precision: 1.0000 - recall: 0.9923 - val_loss: 0.3351 - val_accuracy: 0.8763 - val_precision: 0.8780 - val_recall: 0.8372\n",
            "Epoch 28/100\n",
            "10/10 [==============================] - 4s 438ms/step - loss: 0.0096 - accuracy: 1.0000 - precision: 1.0000 - recall: 1.0000 - val_loss: 0.3692 - val_accuracy: 0.8866 - val_precision: 0.8636 - val_recall: 0.8837\n",
            "Epoch 29/100\n",
            "10/10 [==============================] - 4s 440ms/step - loss: 0.0073 - accuracy: 1.0000 - precision: 1.0000 - recall: 1.0000 - val_loss: 0.3719 - val_accuracy: 0.8763 - val_precision: 0.8605 - val_recall: 0.8605\n",
            "Epoch 30/100\n",
            "10/10 [==============================] - 5s 449ms/step - loss: 0.0057 - accuracy: 1.0000 - precision: 1.0000 - recall: 1.0000 - val_loss: 0.3834 - val_accuracy: 0.8660 - val_precision: 0.8571 - val_recall: 0.8372\n",
            "Epoch 31/100\n",
            "10/10 [==============================] - 5s 441ms/step - loss: 0.0041 - accuracy: 1.0000 - precision: 1.0000 - recall: 1.0000 - val_loss: 0.4035 - val_accuracy: 0.8660 - val_precision: 0.8571 - val_recall: 0.8372\n",
            "Epoch 32/100\n",
            "10/10 [==============================] - 4s 439ms/step - loss: 0.0035 - accuracy: 1.0000 - precision: 1.0000 - recall: 1.0000 - val_loss: 0.4297 - val_accuracy: 0.8660 - val_precision: 0.8571 - val_recall: 0.8372\n",
            "Epoch 33/100\n",
            "10/10 [==============================] - 4s 442ms/step - loss: 0.0028 - accuracy: 1.0000 - precision: 1.0000 - recall: 1.0000 - val_loss: 0.4535 - val_accuracy: 0.8660 - val_precision: 0.8409 - val_recall: 0.8605\n",
            "Epoch 34/100\n",
            "10/10 [==============================] - 4s 476ms/step - loss: 0.0024 - accuracy: 1.0000 - precision: 1.0000 - recall: 1.0000 - val_loss: 0.4528 - val_accuracy: 0.8660 - val_precision: 0.8571 - val_recall: 0.8372\n",
            "Epoch 35/100\n",
            "10/10 [==============================] - 4s 439ms/step - loss: 0.0021 - accuracy: 1.0000 - precision: 1.0000 - recall: 1.0000 - val_loss: 0.4669 - val_accuracy: 0.8660 - val_precision: 0.8571 - val_recall: 0.8372\n",
            "Epoch 36/100\n",
            "10/10 [==============================] - 4s 437ms/step - loss: 0.0017 - accuracy: 1.0000 - precision: 1.0000 - recall: 1.0000 - val_loss: 0.4780 - val_accuracy: 0.8660 - val_precision: 0.8571 - val_recall: 0.8372\n",
            "Epoch 37/100\n",
            "10/10 [==============================] - 5s 444ms/step - loss: 0.0015 - accuracy: 1.0000 - precision: 1.0000 - recall: 1.0000 - val_loss: 0.4893 - val_accuracy: 0.8763 - val_precision: 0.8780 - val_recall: 0.8372\n",
            "Epoch 38/100\n",
            "10/10 [==============================] - 4s 439ms/step - loss: 0.0013 - accuracy: 1.0000 - precision: 1.0000 - recall: 1.0000 - val_loss: 0.4960 - val_accuracy: 0.8763 - val_precision: 0.8780 - val_recall: 0.8372\n",
            "Epoch 39/100\n",
            "10/10 [==============================] - 4s 439ms/step - loss: 0.0012 - accuracy: 1.0000 - precision: 1.0000 - recall: 1.0000 - val_loss: 0.5048 - val_accuracy: 0.8763 - val_precision: 0.8780 - val_recall: 0.8372\n",
            "Epoch 40/100\n",
            "10/10 [==============================] - 4s 443ms/step - loss: 0.0011 - accuracy: 1.0000 - precision: 1.0000 - recall: 1.0000 - val_loss: 0.5171 - val_accuracy: 0.8763 - val_precision: 0.8780 - val_recall: 0.8372\n",
            "Epoch 41/100\n",
            "10/10 [==============================] - 4s 439ms/step - loss: 8.6797e-04 - accuracy: 1.0000 - precision: 1.0000 - recall: 1.0000 - val_loss: 0.5271 - val_accuracy: 0.8763 - val_precision: 0.8780 - val_recall: 0.8372\n",
            "Epoch 42/100\n",
            "10/10 [==============================] - 4s 436ms/step - loss: 7.9941e-04 - accuracy: 1.0000 - precision: 1.0000 - recall: 1.0000 - val_loss: 0.5346 - val_accuracy: 0.8763 - val_precision: 0.8780 - val_recall: 0.8372\n",
            "Epoch 43/100\n",
            "10/10 [==============================] - 5s 457ms/step - loss: 7.0356e-04 - accuracy: 1.0000 - precision: 1.0000 - recall: 1.0000 - val_loss: 0.5525 - val_accuracy: 0.8660 - val_precision: 0.8571 - val_recall: 0.8372\n",
            "Epoch 44/100\n",
            "10/10 [==============================] - 5s 442ms/step - loss: 6.8531e-04 - accuracy: 1.0000 - precision: 1.0000 - recall: 1.0000 - val_loss: 0.5501 - val_accuracy: 0.8763 - val_precision: 0.8780 - val_recall: 0.8372\n",
            "Epoch 45/100\n",
            "10/10 [==============================] - 4s 438ms/step - loss: 6.2022e-04 - accuracy: 1.0000 - precision: 1.0000 - recall: 1.0000 - val_loss: 0.5583 - val_accuracy: 0.8660 - val_precision: 0.8571 - val_recall: 0.8372\n",
            "Epoch 46/100\n",
            "10/10 [==============================] - 4s 437ms/step - loss: 5.7777e-04 - accuracy: 1.0000 - precision: 1.0000 - recall: 1.0000 - val_loss: 0.5630 - val_accuracy: 0.8763 - val_precision: 0.8780 - val_recall: 0.8372\n",
            "Epoch 47/100\n",
            "10/10 [==============================] - 5s 445ms/step - loss: 5.3660e-04 - accuracy: 1.0000 - precision: 1.0000 - recall: 1.0000 - val_loss: 0.5700 - val_accuracy: 0.8660 - val_precision: 0.8571 - val_recall: 0.8372\n",
            "Epoch 48/100\n",
            "10/10 [==============================] - 4s 442ms/step - loss: 4.8138e-04 - accuracy: 1.0000 - precision: 1.0000 - recall: 1.0000 - val_loss: 0.5807 - val_accuracy: 0.8660 - val_precision: 0.8571 - val_recall: 0.8372\n",
            "Epoch 49/100\n",
            "10/10 [==============================] - 4s 438ms/step - loss: 4.4653e-04 - accuracy: 1.0000 - precision: 1.0000 - recall: 1.0000 - val_loss: 0.5840 - val_accuracy: 0.8763 - val_precision: 0.8780 - val_recall: 0.8372\n",
            "Epoch 50/100\n",
            "10/10 [==============================] - 4s 438ms/step - loss: 4.1756e-04 - accuracy: 1.0000 - precision: 1.0000 - recall: 1.0000 - val_loss: 0.5897 - val_accuracy: 0.8660 - val_precision: 0.8571 - val_recall: 0.8372\n",
            "Epoch 51/100\n",
            "10/10 [==============================] - 5s 463ms/step - loss: 3.9360e-04 - accuracy: 1.0000 - precision: 1.0000 - recall: 1.0000 - val_loss: 0.5937 - val_accuracy: 0.8660 - val_precision: 0.8571 - val_recall: 0.8372\n",
            "Epoch 52/100\n",
            "10/10 [==============================] - 4s 474ms/step - loss: 3.7804e-04 - accuracy: 1.0000 - precision: 1.0000 - recall: 1.0000 - val_loss: 0.5983 - val_accuracy: 0.8660 - val_precision: 0.8571 - val_recall: 0.8372\n",
            "Epoch 53/100\n",
            "10/10 [==============================] - 4s 436ms/step - loss: 3.5451e-04 - accuracy: 1.0000 - precision: 1.0000 - recall: 1.0000 - val_loss: 0.6011 - val_accuracy: 0.8660 - val_precision: 0.8571 - val_recall: 0.8372\n",
            "Epoch 54/100\n",
            "10/10 [==============================] - 5s 459ms/step - loss: 3.3352e-04 - accuracy: 1.0000 - precision: 1.0000 - recall: 1.0000 - val_loss: 0.6060 - val_accuracy: 0.8660 - val_precision: 0.8571 - val_recall: 0.8372\n",
            "Epoch 55/100\n",
            "10/10 [==============================] - 5s 456ms/step - loss: 3.1508e-04 - accuracy: 1.0000 - precision: 1.0000 - recall: 1.0000 - val_loss: 0.6109 - val_accuracy: 0.8660 - val_precision: 0.8571 - val_recall: 0.8372\n",
            "Epoch 56/100\n",
            "10/10 [==============================] - 4s 432ms/step - loss: 3.0340e-04 - accuracy: 1.0000 - precision: 1.0000 - recall: 1.0000 - val_loss: 0.6161 - val_accuracy: 0.8660 - val_precision: 0.8571 - val_recall: 0.8372\n",
            "Epoch 57/100\n",
            "10/10 [==============================] - 5s 458ms/step - loss: 2.8094e-04 - accuracy: 1.0000 - precision: 1.0000 - recall: 1.0000 - val_loss: 0.6186 - val_accuracy: 0.8660 - val_precision: 0.8571 - val_recall: 0.8372\n",
            "Epoch 58/100\n",
            "10/10 [==============================] - 5s 442ms/step - loss: 2.7606e-04 - accuracy: 1.0000 - precision: 1.0000 - recall: 1.0000 - val_loss: 0.6248 - val_accuracy: 0.8660 - val_precision: 0.8571 - val_recall: 0.8372\n",
            "Epoch 59/100\n",
            "10/10 [==============================] - 4s 435ms/step - loss: 2.5755e-04 - accuracy: 1.0000 - precision: 1.0000 - recall: 1.0000 - val_loss: 0.6282 - val_accuracy: 0.8660 - val_precision: 0.8571 - val_recall: 0.8372\n",
            "Epoch 60/100\n",
            "10/10 [==============================] - 4s 434ms/step - loss: 2.4810e-04 - accuracy: 1.0000 - precision: 1.0000 - recall: 1.0000 - val_loss: 0.6313 - val_accuracy: 0.8660 - val_precision: 0.8571 - val_recall: 0.8372\n",
            "Epoch 61/100\n",
            "10/10 [==============================] - 5s 445ms/step - loss: 2.3776e-04 - accuracy: 1.0000 - precision: 1.0000 - recall: 1.0000 - val_loss: 0.6357 - val_accuracy: 0.8660 - val_precision: 0.8571 - val_recall: 0.8372\n",
            "Epoch 62/100\n",
            "10/10 [==============================] - 4s 437ms/step - loss: 2.3198e-04 - accuracy: 1.0000 - precision: 1.0000 - recall: 1.0000 - val_loss: 0.6387 - val_accuracy: 0.8660 - val_precision: 0.8571 - val_recall: 0.8372\n",
            "Epoch 63/100\n",
            "10/10 [==============================] - 4s 439ms/step - loss: 2.2795e-04 - accuracy: 1.0000 - precision: 1.0000 - recall: 1.0000 - val_loss: 0.6413 - val_accuracy: 0.8660 - val_precision: 0.8571 - val_recall: 0.8372\n",
            "Epoch 64/100\n",
            "10/10 [==============================] - 4s 442ms/step - loss: 2.0842e-04 - accuracy: 1.0000 - precision: 1.0000 - recall: 1.0000 - val_loss: 0.6434 - val_accuracy: 0.8660 - val_precision: 0.8571 - val_recall: 0.8372\n",
            "Epoch 65/100\n",
            "10/10 [==============================] - 5s 445ms/step - loss: 2.0677e-04 - accuracy: 1.0000 - precision: 1.0000 - recall: 1.0000 - val_loss: 0.6469 - val_accuracy: 0.8660 - val_precision: 0.8571 - val_recall: 0.8372\n",
            "Epoch 66/100\n",
            "10/10 [==============================] - 4s 440ms/step - loss: 1.9928e-04 - accuracy: 1.0000 - precision: 1.0000 - recall: 1.0000 - val_loss: 0.6505 - val_accuracy: 0.8660 - val_precision: 0.8571 - val_recall: 0.8372\n",
            "Epoch 67/100\n",
            "10/10 [==============================] - 4s 443ms/step - loss: 1.9245e-04 - accuracy: 1.0000 - precision: 1.0000 - recall: 1.0000 - val_loss: 0.6533 - val_accuracy: 0.8660 - val_precision: 0.8571 - val_recall: 0.8372\n",
            "Epoch 68/100\n",
            "10/10 [==============================] - 5s 462ms/step - loss: 1.8683e-04 - accuracy: 1.0000 - precision: 1.0000 - recall: 1.0000 - val_loss: 0.6570 - val_accuracy: 0.8660 - val_precision: 0.8571 - val_recall: 0.8372\n",
            "Epoch 69/100\n",
            "10/10 [==============================] - 4s 437ms/step - loss: 1.8019e-04 - accuracy: 1.0000 - precision: 1.0000 - recall: 1.0000 - val_loss: 0.6592 - val_accuracy: 0.8660 - val_precision: 0.8571 - val_recall: 0.8372\n",
            "Epoch 70/100\n",
            "10/10 [==============================] - 4s 466ms/step - loss: 1.7545e-04 - accuracy: 1.0000 - precision: 1.0000 - recall: 1.0000 - val_loss: 0.6618 - val_accuracy: 0.8660 - val_precision: 0.8571 - val_recall: 0.8372\n",
            "Epoch 71/100\n",
            "10/10 [==============================] - 5s 457ms/step - loss: 1.6897e-04 - accuracy: 1.0000 - precision: 1.0000 - recall: 1.0000 - val_loss: 0.6647 - val_accuracy: 0.8660 - val_precision: 0.8571 - val_recall: 0.8372\n",
            "Epoch 72/100\n",
            "10/10 [==============================] - 5s 457ms/step - loss: 1.6437e-04 - accuracy: 1.0000 - precision: 1.0000 - recall: 1.0000 - val_loss: 0.6677 - val_accuracy: 0.8660 - val_precision: 0.8571 - val_recall: 0.8372\n",
            "Epoch 73/100\n",
            "10/10 [==============================] - 4s 435ms/step - loss: 1.5688e-04 - accuracy: 1.0000 - precision: 1.0000 - recall: 1.0000 - val_loss: 0.6705 - val_accuracy: 0.8660 - val_precision: 0.8571 - val_recall: 0.8372\n",
            "Epoch 74/100\n",
            "10/10 [==============================] - 4s 440ms/step - loss: 1.5445e-04 - accuracy: 1.0000 - precision: 1.0000 - recall: 1.0000 - val_loss: 0.6729 - val_accuracy: 0.8660 - val_precision: 0.8571 - val_recall: 0.8372\n",
            "Epoch 75/100\n",
            "10/10 [==============================] - 5s 462ms/step - loss: 1.5040e-04 - accuracy: 1.0000 - precision: 1.0000 - recall: 1.0000 - val_loss: 0.6750 - val_accuracy: 0.8660 - val_precision: 0.8571 - val_recall: 0.8372\n",
            "Epoch 76/100\n",
            "10/10 [==============================] - 4s 438ms/step - loss: 1.4640e-04 - accuracy: 1.0000 - precision: 1.0000 - recall: 1.0000 - val_loss: 0.6766 - val_accuracy: 0.8660 - val_precision: 0.8571 - val_recall: 0.8372\n",
            "Epoch 77/100\n",
            "10/10 [==============================] - 4s 435ms/step - loss: 1.4236e-04 - accuracy: 1.0000 - precision: 1.0000 - recall: 1.0000 - val_loss: 0.6783 - val_accuracy: 0.8660 - val_precision: 0.8571 - val_recall: 0.8372\n",
            "Epoch 78/100\n",
            "10/10 [==============================] - 4s 442ms/step - loss: 1.3930e-04 - accuracy: 1.0000 - precision: 1.0000 - recall: 1.0000 - val_loss: 0.6817 - val_accuracy: 0.8660 - val_precision: 0.8571 - val_recall: 0.8372\n",
            "Epoch 79/100\n",
            "10/10 [==============================] - 4s 443ms/step - loss: 1.3627e-04 - accuracy: 1.0000 - precision: 1.0000 - recall: 1.0000 - val_loss: 0.6839 - val_accuracy: 0.8660 - val_precision: 0.8571 - val_recall: 0.8372\n",
            "Epoch 80/100\n",
            "10/10 [==============================] - 4s 438ms/step - loss: 1.3088e-04 - accuracy: 1.0000 - precision: 1.0000 - recall: 1.0000 - val_loss: 0.6870 - val_accuracy: 0.8660 - val_precision: 0.8571 - val_recall: 0.8372\n",
            "Epoch 81/100\n",
            "10/10 [==============================] - 5s 457ms/step - loss: 1.2721e-04 - accuracy: 1.0000 - precision: 1.0000 - recall: 1.0000 - val_loss: 0.6894 - val_accuracy: 0.8660 - val_precision: 0.8571 - val_recall: 0.8372\n",
            "Epoch 82/100\n",
            "10/10 [==============================] - 5s 446ms/step - loss: 1.2189e-04 - accuracy: 1.0000 - precision: 1.0000 - recall: 1.0000 - val_loss: 0.6934 - val_accuracy: 0.8660 - val_precision: 0.8571 - val_recall: 0.8372\n",
            "Epoch 83/100\n",
            "10/10 [==============================] - 4s 436ms/step - loss: 1.2057e-04 - accuracy: 1.0000 - precision: 1.0000 - recall: 1.0000 - val_loss: 0.6925 - val_accuracy: 0.8660 - val_precision: 0.8571 - val_recall: 0.8372\n",
            "Epoch 84/100\n",
            "10/10 [==============================] - 5s 455ms/step - loss: 1.1599e-04 - accuracy: 1.0000 - precision: 1.0000 - recall: 1.0000 - val_loss: 0.6972 - val_accuracy: 0.8660 - val_precision: 0.8571 - val_recall: 0.8372\n",
            "Epoch 85/100\n",
            "10/10 [==============================] - 5s 461ms/step - loss: 1.1197e-04 - accuracy: 1.0000 - precision: 1.0000 - recall: 1.0000 - val_loss: 0.7002 - val_accuracy: 0.8660 - val_precision: 0.8571 - val_recall: 0.8372\n",
            "Epoch 86/100\n",
            "10/10 [==============================] - 4s 435ms/step - loss: 1.1029e-04 - accuracy: 1.0000 - precision: 1.0000 - recall: 1.0000 - val_loss: 0.7046 - val_accuracy: 0.8660 - val_precision: 0.8571 - val_recall: 0.8372\n",
            "Epoch 87/100\n",
            "10/10 [==============================] - 4s 432ms/step - loss: 1.0810e-04 - accuracy: 1.0000 - precision: 1.0000 - recall: 1.0000 - val_loss: 0.7079 - val_accuracy: 0.8660 - val_precision: 0.8571 - val_recall: 0.8372\n",
            "Epoch 88/100\n",
            "10/10 [==============================] - 5s 460ms/step - loss: 1.0675e-04 - accuracy: 1.0000 - precision: 1.0000 - recall: 1.0000 - val_loss: 0.7107 - val_accuracy: 0.8660 - val_precision: 0.8571 - val_recall: 0.8372\n",
            "Epoch 89/100\n",
            "10/10 [==============================] - 4s 473ms/step - loss: 1.0457e-04 - accuracy: 1.0000 - precision: 1.0000 - recall: 1.0000 - val_loss: 0.7124 - val_accuracy: 0.8660 - val_precision: 0.8571 - val_recall: 0.8372\n",
            "Epoch 90/100\n",
            "10/10 [==============================] - 4s 435ms/step - loss: 1.0194e-04 - accuracy: 1.0000 - precision: 1.0000 - recall: 1.0000 - val_loss: 0.7138 - val_accuracy: 0.8660 - val_precision: 0.8571 - val_recall: 0.8372\n",
            "Epoch 91/100\n",
            "10/10 [==============================] - 4s 473ms/step - loss: 9.9711e-05 - accuracy: 1.0000 - precision: 1.0000 - recall: 1.0000 - val_loss: 0.7153 - val_accuracy: 0.8660 - val_precision: 0.8571 - val_recall: 0.8372\n",
            "Epoch 92/100\n",
            "10/10 [==============================] - 5s 462ms/step - loss: 9.7404e-05 - accuracy: 1.0000 - precision: 1.0000 - recall: 1.0000 - val_loss: 0.7173 - val_accuracy: 0.8660 - val_precision: 0.8571 - val_recall: 0.8372\n",
            "Epoch 93/100\n",
            "10/10 [==============================] - 4s 471ms/step - loss: 1.0095e-04 - accuracy: 1.0000 - precision: 1.0000 - recall: 1.0000 - val_loss: 0.7185 - val_accuracy: 0.8660 - val_precision: 0.8571 - val_recall: 0.8372\n",
            "Epoch 94/100\n",
            "10/10 [==============================] - 4s 438ms/step - loss: 9.4216e-05 - accuracy: 1.0000 - precision: 1.0000 - recall: 1.0000 - val_loss: 0.7195 - val_accuracy: 0.8660 - val_precision: 0.8571 - val_recall: 0.8372\n",
            "Epoch 95/100\n",
            "10/10 [==============================] - 4s 444ms/step - loss: 9.2859e-05 - accuracy: 1.0000 - precision: 1.0000 - recall: 1.0000 - val_loss: 0.7218 - val_accuracy: 0.8660 - val_precision: 0.8571 - val_recall: 0.8372\n",
            "Epoch 96/100\n",
            "10/10 [==============================] - 4s 436ms/step - loss: 8.9152e-05 - accuracy: 1.0000 - precision: 1.0000 - recall: 1.0000 - val_loss: 0.7230 - val_accuracy: 0.8660 - val_precision: 0.8571 - val_recall: 0.8372\n",
            "Epoch 97/100\n",
            "10/10 [==============================] - 4s 437ms/step - loss: 8.7564e-05 - accuracy: 1.0000 - precision: 1.0000 - recall: 1.0000 - val_loss: 0.7252 - val_accuracy: 0.8660 - val_precision: 0.8571 - val_recall: 0.8372\n",
            "Epoch 98/100\n",
            "10/10 [==============================] - 5s 458ms/step - loss: 8.4752e-05 - accuracy: 1.0000 - precision: 1.0000 - recall: 1.0000 - val_loss: 0.7266 - val_accuracy: 0.8660 - val_precision: 0.8571 - val_recall: 0.8372\n",
            "Epoch 99/100\n",
            "10/10 [==============================] - 5s 462ms/step - loss: 8.2891e-05 - accuracy: 1.0000 - precision: 1.0000 - recall: 1.0000 - val_loss: 0.7285 - val_accuracy: 0.8660 - val_precision: 0.8571 - val_recall: 0.8372\n",
            "Epoch 100/100\n",
            "10/10 [==============================] - 4s 437ms/step - loss: 8.3720e-05 - accuracy: 1.0000 - precision: 1.0000 - recall: 1.0000 - val_loss: 0.7301 - val_accuracy: 0.8660 - val_precision: 0.8571 - val_recall: 0.8372\n"
          ]
        }
      ]
    },
    {
      "cell_type": "code",
      "source": [
        "model.save('model.h5')"
      ],
      "metadata": {
        "colab": {
          "base_uri": "https://localhost:8080/"
        },
        "id": "njihy3Ji1Qqd",
        "outputId": "533c9afa-a34c-48c0-e2f3-9e137e64c664"
      },
      "execution_count": null,
      "outputs": [
        {
          "output_type": "stream",
          "name": "stderr",
          "text": [
            "/usr/local/lib/python3.10/dist-packages/keras/src/engine/training.py:3079: UserWarning: You are saving your model as an HDF5 file via `model.save()`. This file format is considered legacy. We recommend using instead the native Keras format, e.g. `model.save('my_model.keras')`.\n",
            "  saving_api.save_model(\n"
          ]
        }
      ]
    },
    {
      "cell_type": "code",
      "source": [
        "plt.plot(fit_history.history['accuracy'])\n",
        "plt.plot(fit_history.history['val_accuracy'])\n",
        "plt.title('Model Olasılığı')\n",
        "plt.ylabel('Olasılık')\n",
        "plt.xlabel('Epoch')\n",
        "plt.legend(['Eğitim', 'Doğrulama'], loc='upper left')\n",
        "plt.show()"
      ],
      "metadata": {
        "colab": {
          "base_uri": "https://localhost:8080/",
          "height": 472
        },
        "id": "cWfnXchO1igz",
        "outputId": "eb04a2a6-45f0-4322-9d23-94de39986b22"
      },
      "execution_count": null,
      "outputs": [
        {
          "output_type": "display_data",
          "data": {
            "text/plain": [
              "<Figure size 640x480 with 1 Axes>"
            ],
            "image/png": "[encoded data removed]"
          },
          "metadata": {}
        }
      ]
    },
    {
      "cell_type": "code",
      "source": [
        "plt.plot(fit_history.history['loss'])\n",
        "plt.plot(fit_history.history['val_loss'])\n",
        "plt.title('Model Kaybı')\n",
        "plt.ylabel('Kayıp (Loss)')\n",
        "plt.xlabel('Epoch')\n",
        "plt.legend(['Eğitim', 'Doğrulama'], loc='upper left')\n",
        "plt.show()"
      ],
      "metadata": {
        "colab": {
          "base_uri": "https://localhost:8080/",
          "height": 472
        },
        "id": "LV_PsV1x13Dt",
        "outputId": "603150b1-59c3-43c7-f618-ec5a3ac3edd0"
      },
      "execution_count": null,
      "outputs": [
        {
          "output_type": "display_data",
          "data": {
            "text/plain": [
              "<Figure size 640x480 with 1 Axes>"
            ],
            "image/png": "[encoded data removed]"
          },
          "metadata": {}
        }
      ]
    },
    {
      "cell_type": "code",
      "source": [
        "loss, accuracy, precision, recall = model.evaluate(val_generator)"
      ],
      "metadata": {
        "colab": {
          "base_uri": "https://localhost:8080/"
        },
        "id": "sgszfhNw2HjA",
        "outputId": "091d0d09-15aa-4752-9695-5b7ebfcf11cc"
      },
      "execution_count": null,
      "outputs": [
        {
          "output_type": "stream",
          "name": "stdout",
          "text": [
            "7/7 [==============================] - 0s 59ms/step - loss: 0.7301 - accuracy: 0.8660 - precision: 0.8571 - recall: 0.8372\n"
          ]
        }
      ]
    },
    {
      "cell_type": "code",
      "source": [
        "F1_Skoru = ((precision * recall) / (precision + recall)) * 2\n",
        "F1_Skoru"
      ],
      "metadata": {
        "colab": {
          "base_uri": "https://localhost:8080/"
        },
        "id": "3zGwA_w52RVk",
        "outputId": "fe6a2105-67c2-4caf-b45e-fd884856839c"
      },
      "execution_count": null,
      "outputs": [
        {
          "output_type": "execute_result",
          "data": {
            "text/plain": [
              "0.847058818464048"
            ]
          },
          "metadata": {},
          "execution_count": 20
        }
      ]
    },
    {
      "cell_type": "code",
      "source": [
        "y_true = val_generator.classes\n",
        "y_pred = model.predict(val_generator)\n",
        "y_pred = np.round(y_pred)\n",
        "confusion_matrisi = confusion_matrix(y_true, y_pred)\n",
        "print(confusion_matrisi)"
      ],
      "metadata": {
        "colab": {
          "base_uri": "https://localhost:8080/"
        },
        "id": "Pb17S71CDg22",
        "outputId": "1e953d70-e974-4904-9b7a-300e297c4c10"
      },
      "execution_count": null,
      "outputs": [
        {
          "output_type": "stream",
          "name": "stdout",
          "text": [
            "7/7 [==============================] - 1s 62ms/step\n",
            "[[48  6]\n",
            " [ 7 36]]\n"
          ]
        }
      ]
    }
  ]
}