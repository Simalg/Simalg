{
  "nbformat": 4,
  "nbformat_minor": 0,
  "metadata": {
    "colab": {
      "provenance": [],
      "gpuType": "T4",
      "include_colab_link": true
    },
    "kernelspec": {
      "name": "python3",
      "display_name": "Python 3"
    },
    "language_info": {
      "name": "python"
    },
    "accelerator": "GPU"
  },
  "cells": [
    {
      "cell_type": "markdown",
      "metadata": {
        "id": "view-in-github",
        "colab_type": "text"
      },
      "source": [
        "<a href=\"https://colab.research.google.com/github/Simalg/Simalg/blob/main/CatResNet.ipynb\" target=\"_parent\"><img src=\"https://colab.research.google.com/assets/colab-badge.svg\" alt=\"Open In Colab\"/></a>"
      ]
    },
    {
      "cell_type": "code",
      "source": [
        "from google.colab import drive\n",
        "drive.mount('/gdrive')"
      ],
      "metadata": {
        "id": "xc7mOYAAFYhi",
        "colab": {
          "base_uri": "https://localhost:8080/"
        },
        "outputId": "a619edda-1964-4f8d-ad45-ef589878afce"
      },
      "execution_count": null,
      "outputs": [
        {
          "output_type": "stream",
          "name": "stdout",
          "text": [
            "Drive already mounted at /gdrive; to attempt to forcibly remount, call drive.mount(\"/gdrive\", force_remount=True).\n"
          ]
        }
      ]
    },
    {
      "cell_type": "code",
      "source": [
        "import tensorflow as tf\n",
        "from tensorflow.keras import layers\n",
        "from tensorflow.keras.callbacks import TensorBoard\n",
        "from tensorflow.keras.models import Model\n",
        "from tensorflow.keras.layers import Input, Dense\n",
        "from tensorflow.keras.applications import ResNet50\n",
        "\n",
        "from keras.preprocessing.image import ImageDataGenerator\n",
        "from keras.models import Model, load_model\n",
        "from keras.preprocessing import image\n",
        "from keras.utils import load_img, img_to_array\n",
        "\n",
        "from sklearn.metrics import confusion_matrix"
      ],
      "metadata": {
        "id": "UKTmIi4B30yf"
      },
      "execution_count": null,
      "outputs": []
    },
    {
      "cell_type": "code",
      "source": [
        "import pandas as pd\n",
        "import numpy as np\n",
        "import matplotlib.pyplot as plt"
      ],
      "metadata": {
        "id": "C1rcO6As37vO"
      },
      "execution_count": null,
      "outputs": []
    },
    {
      "cell_type": "code",
      "source": [
        "directory = \"/gdrive/MyDrive/cat database/images\""
      ],
      "metadata": {
        "id": "W7Y1jInrFz09"
      },
      "execution_count": null,
      "outputs": []
    },
    {
      "cell_type": "code",
      "source": [
        "data_gen = ImageDataGenerator(rescale=1./255, validation_split=0.2)"
      ],
      "metadata": {
        "id": "58S4D7iQ4C76"
      },
      "execution_count": null,
      "outputs": []
    },
    {
      "cell_type": "code",
      "source": [
        "train_generator = data_gen.flow_from_directory(\n",
        "  directory,\n",
        "  target_size=(224, 224),\n",
        "  batch_size=16,\n",
        "  class_mode='binary',\n",
        "  subset='training',\n",
        "  shuffle=True)"
      ],
      "metadata": {
        "colab": {
          "base_uri": "https://localhost:8080/"
        },
        "id": "XpEMT8Qa4FPI",
        "outputId": "ca9e02b8-ee3d-4e5a-e32d-9ae5c7816e27"
      },
      "execution_count": null,
      "outputs": [
        {
          "output_type": "stream",
          "name": "stdout",
          "text": [
            "Found 518 images belonging to 2 classes.\n"
          ]
        }
      ]
    },
    {
      "cell_type": "code",
      "source": [
        "val_generator = data_gen.flow_from_directory(\n",
        "  directory,\n",
        "  target_size=(224, 224),\n",
        "  batch_size=8,\n",
        "  class_mode='binary',\n",
        "  subset='validation',\n",
        "  shuffle=False)"
      ],
      "metadata": {
        "colab": {
          "base_uri": "https://localhost:8080/"
        },
        "id": "ajnUnlCx4Hk3",
        "outputId": "878f3fe8-f34e-44af-be13-e5d84640109a"
      },
      "execution_count": null,
      "outputs": [
        {
          "output_type": "stream",
          "name": "stdout",
          "text": [
            "Found 128 images belonging to 2 classes.\n"
          ]
        }
      ]
    },
    {
      "cell_type": "code",
      "source": [
        "input_shape, num_classes = (224, 224, 3), 1"
      ],
      "metadata": {
        "id": "5q-5tVII4Jc3"
      },
      "execution_count": null,
      "outputs": []
    },
    {
      "cell_type": "code",
      "source": [
        "input = Input(shape=input_shape)\n",
        "\n",
        "base_model = ResNet50(include_top=False, pooling=\"avg\", weights=\"imagenet\")(input)\n",
        "dense_layer = Dense(64, activation='relu')(base_model)\n",
        "output_layer = Dense(num_classes, activation='sigmoid')(dense_layer)\n",
        "\n",
        "model = Model(inputs=input, outputs=output_layer)\n",
        "model.layers[0].trainable = False"
      ],
      "metadata": {
        "id": "yfLkP6Ee4Lc1",
        "colab": {
          "base_uri": "https://localhost:8080/"
        },
        "outputId": "a3142e84-6f5a-4e36-8aa5-7d3068c58a58"
      },
      "execution_count": null,
      "outputs": [
        {
          "output_type": "stream",
          "name": "stdout",
          "text": [
            "Downloading data from https://storage.googleapis.com/tensorflow/keras-applications/resnet/resnet50_weights_tf_dim_ordering_tf_kernels_notop.h5\n",
            "94765736/94765736 [==============================] - 3s 0us/step\n"
          ]
        }
      ]
    },
    {
      "cell_type": "code",
      "source": [
        "model.summary()"
      ],
      "metadata": {
        "colab": {
          "base_uri": "https://localhost:8080/"
        },
        "id": "iTDY5YCE4OLr",
        "outputId": "ad951aef-ddcf-4741-fe41-f524f3eae18b"
      },
      "execution_count": null,
      "outputs": [
        {
          "output_type": "stream",
          "name": "stdout",
          "text": [
            "Model: \"model\"\n",
            "_________________________________________________________________\n",
            " Layer (type)                Output Shape              Param #   \n",
            "=================================================================\n",
            " input_1 (InputLayer)        [(None, 224, 224, 3)]     0         \n",
            "                                                                 \n",
            " resnet50 (Functional)       (None, 2048)              23587712  \n",
            "                                                                 \n",
            " dense (Dense)               (None, 64)                131136    \n",
            "                                                                 \n",
            " dense_1 (Dense)             (None, 1)                 65        \n",
            "                                                                 \n",
            "=================================================================\n",
            "Total params: 23718913 (90.48 MB)\n",
            "Trainable params: 23665793 (90.28 MB)\n",
            "Non-trainable params: 53120 (207.50 KB)\n",
            "_________________________________________________________________\n"
          ]
        }
      ]
    },
    {
      "cell_type": "code",
      "source": [
        "optimizer = tf.keras.optimizers.SGD(learning_rate=0.01)"
      ],
      "metadata": {
        "id": "ImG_-haY4QWZ"
      },
      "execution_count": null,
      "outputs": []
    },
    {
      "cell_type": "code",
      "source": [
        "model.compile(optimizer=optimizer, loss=\"binary_crossentropy\", metrics=[\"accuracy\", tf.keras.metrics.Precision(), tf.keras.metrics.Recall()])"
      ],
      "metadata": {
        "id": "ukTQv9Jm4T7B"
      },
      "execution_count": null,
      "outputs": []
    },
    {
      "cell_type": "code",
      "source": [
        "fit_history = model.fit_generator(\n",
        "    train_generator,\n",
        "    epochs=100,\n",
        "    validation_data=val_generator,\n",
        ")"
      ],
      "metadata": {
        "colab": {
          "base_uri": "https://localhost:8080/"
        },
        "id": "AFXcoUiw4UoY",
        "outputId": "1f2e3b9a-74f3-499d-cccf-906cc803fc9e"
      },
      "execution_count": null,
      "outputs": [
        {
          "output_type": "stream",
          "name": "stderr",
          "text": [
            "<ipython-input-14-6a2829a8601d>:1: UserWarning: `Model.fit_generator` is deprecated and will be removed in a future version. Please use `Model.fit`, which supports generators.\n",
            "  fit_history = model.fit_generator(\n"
          ]
        },
        {
          "output_type": "stream",
          "name": "stdout",
          "text": [
            "Epoch 1/100\n",
            "33/33 [==============================] - 169s 4s/step - loss: 0.5089 - accuracy: 0.7394 - precision: 0.7168 - recall: 0.7915 - val_loss: 0.7027 - val_accuracy: 0.5234 - val_precision: 0.5172 - val_recall: 0.7031\n",
            "Epoch 2/100\n",
            "33/33 [==============================] - 7s 212ms/step - loss: 0.1657 - accuracy: 0.9575 - precision: 0.9611 - recall: 0.9537 - val_loss: 0.7317 - val_accuracy: 0.4844 - val_precision: 0.0000e+00 - val_recall: 0.0000e+00\n",
            "Epoch 3/100\n",
            "33/33 [==============================] - 6s 190ms/step - loss: 0.0684 - accuracy: 0.9942 - precision: 0.9961 - recall: 0.9923 - val_loss: 1.0432 - val_accuracy: 0.5000 - val_precision: 0.0000e+00 - val_recall: 0.0000e+00\n",
            "Epoch 4/100\n",
            "33/33 [==============================] - 7s 198ms/step - loss: 0.0440 - accuracy: 0.9961 - precision: 0.9923 - recall: 1.0000 - val_loss: 1.2854 - val_accuracy: 0.5000 - val_precision: 0.0000e+00 - val_recall: 0.0000e+00\n",
            "Epoch 5/100\n",
            "33/33 [==============================] - 6s 190ms/step - loss: 0.0324 - accuracy: 1.0000 - precision: 1.0000 - recall: 1.0000 - val_loss: 1.2395 - val_accuracy: 0.5000 - val_precision: 0.0000e+00 - val_recall: 0.0000e+00\n",
            "Epoch 6/100\n",
            "33/33 [==============================] - 7s 203ms/step - loss: 0.0181 - accuracy: 0.9981 - precision: 1.0000 - recall: 0.9961 - val_loss: 1.1179 - val_accuracy: 0.5000 - val_precision: 0.0000e+00 - val_recall: 0.0000e+00\n",
            "Epoch 7/100\n",
            "33/33 [==============================] - 6s 195ms/step - loss: 0.0113 - accuracy: 1.0000 - precision: 1.0000 - recall: 1.0000 - val_loss: 1.0243 - val_accuracy: 0.5000 - val_precision: 0.0000e+00 - val_recall: 0.0000e+00\n",
            "Epoch 8/100\n",
            "33/33 [==============================] - 6s 194ms/step - loss: 0.0089 - accuracy: 1.0000 - precision: 1.0000 - recall: 1.0000 - val_loss: 1.0415 - val_accuracy: 0.4922 - val_precision: 0.0000e+00 - val_recall: 0.0000e+00\n",
            "Epoch 9/100\n",
            "33/33 [==============================] - 6s 193ms/step - loss: 0.0070 - accuracy: 1.0000 - precision: 1.0000 - recall: 1.0000 - val_loss: 1.0091 - val_accuracy: 0.4922 - val_precision: 0.0000e+00 - val_recall: 0.0000e+00\n",
            "Epoch 10/100\n",
            "33/33 [==============================] - 7s 224ms/step - loss: 0.0043 - accuracy: 1.0000 - precision: 1.0000 - recall: 1.0000 - val_loss: 1.0068 - val_accuracy: 0.4766 - val_precision: 0.0000e+00 - val_recall: 0.0000e+00\n",
            "Epoch 11/100\n",
            "33/33 [==============================] - 6s 193ms/step - loss: 0.0047 - accuracy: 1.0000 - precision: 1.0000 - recall: 1.0000 - val_loss: 1.0249 - val_accuracy: 0.4922 - val_precision: 0.4000 - val_recall: 0.0312\n",
            "Epoch 12/100\n",
            "33/33 [==============================] - 7s 205ms/step - loss: 0.0076 - accuracy: 1.0000 - precision: 1.0000 - recall: 1.0000 - val_loss: 1.0080 - val_accuracy: 0.4688 - val_precision: 0.2500 - val_recall: 0.0312\n",
            "Epoch 13/100\n",
            "33/33 [==============================] - 6s 194ms/step - loss: 0.0110 - accuracy: 1.0000 - precision: 1.0000 - recall: 1.0000 - val_loss: 1.0392 - val_accuracy: 0.4688 - val_precision: 0.3000 - val_recall: 0.0469\n",
            "Epoch 14/100\n",
            "33/33 [==============================] - 7s 197ms/step - loss: 0.0051 - accuracy: 1.0000 - precision: 1.0000 - recall: 1.0000 - val_loss: 1.0495 - val_accuracy: 0.4688 - val_precision: 0.3333 - val_recall: 0.0625\n",
            "Epoch 15/100\n",
            "33/33 [==============================] - 7s 202ms/step - loss: 0.0074 - accuracy: 1.0000 - precision: 1.0000 - recall: 1.0000 - val_loss: 0.9848 - val_accuracy: 0.5078 - val_precision: 0.5172 - val_recall: 0.2344\n",
            "Epoch 16/100\n",
            "33/33 [==============================] - 6s 195ms/step - loss: 0.0048 - accuracy: 1.0000 - precision: 1.0000 - recall: 1.0000 - val_loss: 0.9400 - val_accuracy: 0.4922 - val_precision: 0.4865 - val_recall: 0.2812\n",
            "Epoch 17/100\n",
            "33/33 [==============================] - 7s 195ms/step - loss: 0.0022 - accuracy: 1.0000 - precision: 1.0000 - recall: 1.0000 - val_loss: 0.9710 - val_accuracy: 0.5156 - val_precision: 0.5294 - val_recall: 0.2812\n",
            "Epoch 18/100\n",
            "33/33 [==============================] - 7s 206ms/step - loss: 0.0018 - accuracy: 1.0000 - precision: 1.0000 - recall: 1.0000 - val_loss: 1.0013 - val_accuracy: 0.5312 - val_precision: 0.5625 - val_recall: 0.2812\n",
            "Epoch 19/100\n",
            "33/33 [==============================] - 6s 195ms/step - loss: 0.0054 - accuracy: 0.9981 - precision: 1.0000 - recall: 0.9961 - val_loss: 1.0774 - val_accuracy: 0.5625 - val_precision: 0.6429 - val_recall: 0.2812\n",
            "Epoch 20/100\n",
            "33/33 [==============================] - 7s 222ms/step - loss: 0.0035 - accuracy: 1.0000 - precision: 1.0000 - recall: 1.0000 - val_loss: 1.0990 - val_accuracy: 0.5547 - val_precision: 0.6296 - val_recall: 0.2656\n",
            "Epoch 21/100\n",
            "33/33 [==============================] - 7s 198ms/step - loss: 0.0015 - accuracy: 1.0000 - precision: 1.0000 - recall: 1.0000 - val_loss: 1.1155 - val_accuracy: 0.6094 - val_precision: 0.7917 - val_recall: 0.2969\n",
            "Epoch 22/100\n",
            "33/33 [==============================] - 7s 198ms/step - loss: 0.0028 - accuracy: 1.0000 - precision: 1.0000 - recall: 1.0000 - val_loss: 1.1411 - val_accuracy: 0.6172 - val_precision: 0.8261 - val_recall: 0.2969\n",
            "Epoch 23/100\n",
            "33/33 [==============================] - 7s 205ms/step - loss: 0.0012 - accuracy: 1.0000 - precision: 1.0000 - recall: 1.0000 - val_loss: 1.0722 - val_accuracy: 0.6641 - val_precision: 0.8621 - val_recall: 0.3906\n",
            "Epoch 24/100\n",
            "33/33 [==============================] - 7s 201ms/step - loss: 0.0062 - accuracy: 0.9981 - precision: 0.9962 - recall: 1.0000 - val_loss: 1.5616 - val_accuracy: 0.5703 - val_precision: 0.9091 - val_recall: 0.1562\n",
            "Epoch 25/100\n",
            "33/33 [==============================] - 7s 196ms/step - loss: 0.0104 - accuracy: 0.9981 - precision: 1.0000 - recall: 0.9961 - val_loss: 0.9586 - val_accuracy: 0.6797 - val_precision: 0.8485 - val_recall: 0.4375\n",
            "Epoch 26/100\n",
            "33/33 [==============================] - 7s 202ms/step - loss: 0.0051 - accuracy: 1.0000 - precision: 1.0000 - recall: 1.0000 - val_loss: 0.8216 - val_accuracy: 0.7031 - val_precision: 0.7955 - val_recall: 0.5469\n",
            "Epoch 27/100\n",
            "33/33 [==============================] - 6s 195ms/step - loss: 0.0040 - accuracy: 1.0000 - precision: 1.0000 - recall: 1.0000 - val_loss: 0.7267 - val_accuracy: 0.7344 - val_precision: 0.7885 - val_recall: 0.6406\n",
            "Epoch 28/100\n",
            "33/33 [==============================] - 7s 197ms/step - loss: 0.0050 - accuracy: 0.9981 - precision: 0.9962 - recall: 1.0000 - val_loss: 0.6612 - val_accuracy: 0.8125 - val_precision: 0.9000 - val_recall: 0.7031\n",
            "Epoch 29/100\n",
            "33/33 [==============================] - 7s 206ms/step - loss: 0.0036 - accuracy: 1.0000 - precision: 1.0000 - recall: 1.0000 - val_loss: 0.6506 - val_accuracy: 0.8125 - val_precision: 0.8846 - val_recall: 0.7188\n",
            "Epoch 30/100\n",
            "33/33 [==============================] - 7s 196ms/step - loss: 0.0024 - accuracy: 1.0000 - precision: 1.0000 - recall: 1.0000 - val_loss: 0.6600 - val_accuracy: 0.8047 - val_precision: 0.8421 - val_recall: 0.7500\n",
            "Epoch 31/100\n",
            "33/33 [==============================] - 7s 205ms/step - loss: 0.0014 - accuracy: 1.0000 - precision: 1.0000 - recall: 1.0000 - val_loss: 0.6098 - val_accuracy: 0.8203 - val_precision: 0.8475 - val_recall: 0.7812\n",
            "Epoch 32/100\n",
            "33/33 [==============================] - 7s 200ms/step - loss: 0.0053 - accuracy: 0.9981 - precision: 0.9962 - recall: 1.0000 - val_loss: 0.6355 - val_accuracy: 0.8281 - val_precision: 0.9038 - val_recall: 0.7344\n",
            "Epoch 33/100\n",
            "33/33 [==============================] - 7s 221ms/step - loss: 0.0037 - accuracy: 1.0000 - precision: 1.0000 - recall: 1.0000 - val_loss: 0.6118 - val_accuracy: 0.8516 - val_precision: 0.9091 - val_recall: 0.7812\n",
            "Epoch 34/100\n",
            "33/33 [==============================] - 7s 197ms/step - loss: 0.0080 - accuracy: 0.9961 - precision: 0.9923 - recall: 1.0000 - val_loss: 1.5645 - val_accuracy: 0.7500 - val_precision: 1.0000 - val_recall: 0.5000\n",
            "Epoch 35/100\n",
            "33/33 [==============================] - 7s 207ms/step - loss: 0.0199 - accuracy: 0.9923 - precision: 0.9961 - recall: 0.9884 - val_loss: 0.5649 - val_accuracy: 0.8750 - val_precision: 0.9444 - val_recall: 0.7969\n",
            "Epoch 36/100\n",
            "33/33 [==============================] - 7s 197ms/step - loss: 0.0070 - accuracy: 0.9981 - precision: 0.9962 - recall: 1.0000 - val_loss: 0.6690 - val_accuracy: 0.8594 - val_precision: 0.9792 - val_recall: 0.7344\n",
            "Epoch 37/100\n",
            "33/33 [==============================] - 7s 208ms/step - loss: 0.0030 - accuracy: 1.0000 - precision: 1.0000 - recall: 1.0000 - val_loss: 0.5974 - val_accuracy: 0.8672 - val_precision: 0.9434 - val_recall: 0.7812\n",
            "Epoch 38/100\n",
            "33/33 [==============================] - 7s 198ms/step - loss: 0.0015 - accuracy: 1.0000 - precision: 1.0000 - recall: 1.0000 - val_loss: 0.5583 - val_accuracy: 0.8750 - val_precision: 0.9800 - val_recall: 0.7656\n",
            "Epoch 39/100\n",
            "33/33 [==============================] - 7s 203ms/step - loss: 0.0028 - accuracy: 1.0000 - precision: 1.0000 - recall: 1.0000 - val_loss: 0.5263 - val_accuracy: 0.8828 - val_precision: 0.9623 - val_recall: 0.7969\n",
            "Epoch 40/100\n",
            "33/33 [==============================] - 7s 198ms/step - loss: 0.0071 - accuracy: 1.0000 - precision: 1.0000 - recall: 1.0000 - val_loss: 0.4615 - val_accuracy: 0.8828 - val_precision: 0.9455 - val_recall: 0.8125\n",
            "Epoch 41/100\n",
            "33/33 [==============================] - 7s 207ms/step - loss: 0.0034 - accuracy: 1.0000 - precision: 1.0000 - recall: 1.0000 - val_loss: 0.3819 - val_accuracy: 0.8594 - val_precision: 0.8966 - val_recall: 0.8125\n",
            "Epoch 42/100\n",
            "33/33 [==============================] - 7s 197ms/step - loss: 0.0011 - accuracy: 1.0000 - precision: 1.0000 - recall: 1.0000 - val_loss: 0.4490 - val_accuracy: 0.8750 - val_precision: 0.9615 - val_recall: 0.7812\n",
            "Epoch 43/100\n",
            "33/33 [==============================] - 7s 209ms/step - loss: 0.0112 - accuracy: 0.9961 - precision: 0.9961 - recall: 0.9961 - val_loss: 0.7053 - val_accuracy: 0.8125 - val_precision: 0.9545 - val_recall: 0.6562\n",
            "Epoch 44/100\n",
            "33/33 [==============================] - 7s 198ms/step - loss: 0.0117 - accuracy: 0.9981 - precision: 1.0000 - recall: 0.9961 - val_loss: 0.5696 - val_accuracy: 0.8281 - val_precision: 0.9375 - val_recall: 0.7031\n",
            "Epoch 45/100\n",
            "33/33 [==============================] - 7s 204ms/step - loss: 0.0036 - accuracy: 0.9981 - precision: 0.9962 - recall: 1.0000 - val_loss: 0.5631 - val_accuracy: 0.8438 - val_precision: 0.9583 - val_recall: 0.7188\n",
            "Epoch 46/100\n",
            "33/33 [==============================] - 7s 198ms/step - loss: 0.0043 - accuracy: 0.9981 - precision: 0.9962 - recall: 1.0000 - val_loss: 0.4788 - val_accuracy: 0.8750 - val_precision: 0.9800 - val_recall: 0.7656\n",
            "Epoch 47/100\n",
            "33/33 [==============================] - 8s 229ms/step - loss: 0.0015 - accuracy: 1.0000 - precision: 1.0000 - recall: 1.0000 - val_loss: 0.4831 - val_accuracy: 0.8750 - val_precision: 0.9800 - val_recall: 0.7656\n",
            "Epoch 48/100\n",
            "33/33 [==============================] - 7s 198ms/step - loss: 0.0021 - accuracy: 1.0000 - precision: 1.0000 - recall: 1.0000 - val_loss: 0.5149 - val_accuracy: 0.8750 - val_precision: 0.9800 - val_recall: 0.7656\n",
            "Epoch 49/100\n",
            "33/33 [==============================] - 7s 204ms/step - loss: 9.0812e-04 - accuracy: 1.0000 - precision: 1.0000 - recall: 1.0000 - val_loss: 0.5109 - val_accuracy: 0.8750 - val_precision: 0.9800 - val_recall: 0.7656\n",
            "Epoch 50/100\n",
            "33/33 [==============================] - 7s 198ms/step - loss: 0.0036 - accuracy: 0.9981 - precision: 1.0000 - recall: 0.9961 - val_loss: 0.4514 - val_accuracy: 0.8672 - val_precision: 0.9608 - val_recall: 0.7656\n",
            "Epoch 51/100\n",
            "33/33 [==============================] - 7s 210ms/step - loss: 0.0016 - accuracy: 1.0000 - precision: 1.0000 - recall: 1.0000 - val_loss: 0.4714 - val_accuracy: 0.8750 - val_precision: 0.9800 - val_recall: 0.7656\n",
            "Epoch 52/100\n",
            "33/33 [==============================] - 7s 198ms/step - loss: 9.9963e-04 - accuracy: 1.0000 - precision: 1.0000 - recall: 1.0000 - val_loss: 0.4849 - val_accuracy: 0.8750 - val_precision: 0.9800 - val_recall: 0.7656\n",
            "Epoch 53/100\n",
            "33/33 [==============================] - 7s 210ms/step - loss: 8.1070e-04 - accuracy: 1.0000 - precision: 1.0000 - recall: 1.0000 - val_loss: 0.4840 - val_accuracy: 0.8750 - val_precision: 0.9800 - val_recall: 0.7656\n",
            "Epoch 54/100\n",
            "33/33 [==============================] - 7s 199ms/step - loss: 0.0021 - accuracy: 1.0000 - precision: 1.0000 - recall: 1.0000 - val_loss: 0.4364 - val_accuracy: 0.8594 - val_precision: 0.9423 - val_recall: 0.7656\n",
            "Epoch 55/100\n",
            "33/33 [==============================] - 7s 198ms/step - loss: 6.6619e-04 - accuracy: 1.0000 - precision: 1.0000 - recall: 1.0000 - val_loss: 0.4683 - val_accuracy: 0.8594 - val_precision: 0.9423 - val_recall: 0.7656\n",
            "Epoch 56/100\n",
            "33/33 [==============================] - 7s 203ms/step - loss: 0.0019 - accuracy: 1.0000 - precision: 1.0000 - recall: 1.0000 - val_loss: 0.4982 - val_accuracy: 0.8672 - val_precision: 0.9608 - val_recall: 0.7656\n",
            "Epoch 57/100\n",
            "33/33 [==============================] - 7s 201ms/step - loss: 0.0020 - accuracy: 1.0000 - precision: 1.0000 - recall: 1.0000 - val_loss: 0.4153 - val_accuracy: 0.8672 - val_precision: 0.9273 - val_recall: 0.7969\n",
            "Epoch 58/100\n",
            "33/33 [==============================] - 7s 200ms/step - loss: 0.0016 - accuracy: 1.0000 - precision: 1.0000 - recall: 1.0000 - val_loss: 0.5188 - val_accuracy: 0.8594 - val_precision: 0.9423 - val_recall: 0.7656\n",
            "Epoch 59/100\n",
            "33/33 [==============================] - 7s 209ms/step - loss: 5.3574e-04 - accuracy: 1.0000 - precision: 1.0000 - recall: 1.0000 - val_loss: 0.5301 - val_accuracy: 0.8516 - val_precision: 0.9245 - val_recall: 0.7656\n",
            "Epoch 60/100\n",
            "33/33 [==============================] - 7s 198ms/step - loss: 0.0016 - accuracy: 1.0000 - precision: 1.0000 - recall: 1.0000 - val_loss: 0.5798 - val_accuracy: 0.8672 - val_precision: 0.9608 - val_recall: 0.7656\n",
            "Epoch 61/100\n",
            "33/33 [==============================] - 7s 207ms/step - loss: 4.1766e-04 - accuracy: 1.0000 - precision: 1.0000 - recall: 1.0000 - val_loss: 0.5627 - val_accuracy: 0.8672 - val_precision: 0.9608 - val_recall: 0.7656\n",
            "Epoch 62/100\n",
            "33/33 [==============================] - 7s 200ms/step - loss: 4.2233e-04 - accuracy: 1.0000 - precision: 1.0000 - recall: 1.0000 - val_loss: 0.5412 - val_accuracy: 0.8594 - val_precision: 0.9423 - val_recall: 0.7656\n",
            "Epoch 63/100\n",
            "33/33 [==============================] - 7s 202ms/step - loss: 0.0015 - accuracy: 1.0000 - precision: 1.0000 - recall: 1.0000 - val_loss: 0.4881 - val_accuracy: 0.8594 - val_precision: 0.9423 - val_recall: 0.7656\n",
            "Epoch 64/100\n",
            "33/33 [==============================] - 7s 207ms/step - loss: 3.9658e-04 - accuracy: 1.0000 - precision: 1.0000 - recall: 1.0000 - val_loss: 0.5128 - val_accuracy: 0.8594 - val_precision: 0.9423 - val_recall: 0.7656\n",
            "Epoch 65/100\n",
            "33/33 [==============================] - 7s 223ms/step - loss: 0.0013 - accuracy: 1.0000 - precision: 1.0000 - recall: 1.0000 - val_loss: 0.5708 - val_accuracy: 0.8594 - val_precision: 0.9423 - val_recall: 0.7656\n",
            "Epoch 66/100\n",
            "33/33 [==============================] - 7s 203ms/step - loss: 4.9663e-04 - accuracy: 1.0000 - precision: 1.0000 - recall: 1.0000 - val_loss: 0.5626 - val_accuracy: 0.8672 - val_precision: 0.9608 - val_recall: 0.7656\n",
            "Epoch 67/100\n",
            "33/33 [==============================] - 7s 201ms/step - loss: 8.3157e-04 - accuracy: 1.0000 - precision: 1.0000 - recall: 1.0000 - val_loss: 0.6102 - val_accuracy: 0.8594 - val_precision: 0.9600 - val_recall: 0.7500\n",
            "Epoch 68/100\n",
            "33/33 [==============================] - 7s 198ms/step - loss: 3.9166e-04 - accuracy: 1.0000 - precision: 1.0000 - recall: 1.0000 - val_loss: 0.5880 - val_accuracy: 0.8594 - val_precision: 0.9600 - val_recall: 0.7500\n",
            "Epoch 69/100\n",
            "33/33 [==============================] - 7s 206ms/step - loss: 6.4380e-04 - accuracy: 1.0000 - precision: 1.0000 - recall: 1.0000 - val_loss: 0.5918 - val_accuracy: 0.8594 - val_precision: 0.9600 - val_recall: 0.7500\n",
            "Epoch 70/100\n",
            "33/33 [==============================] - 7s 198ms/step - loss: 0.0068 - accuracy: 0.9981 - precision: 1.0000 - recall: 0.9961 - val_loss: 0.3900 - val_accuracy: 0.8750 - val_precision: 0.8871 - val_recall: 0.8594\n",
            "Epoch 71/100\n",
            "33/33 [==============================] - 7s 203ms/step - loss: 3.4900e-04 - accuracy: 1.0000 - precision: 1.0000 - recall: 1.0000 - val_loss: 0.4086 - val_accuracy: 0.8594 - val_precision: 0.8966 - val_recall: 0.8125\n",
            "Epoch 72/100\n",
            "33/33 [==============================] - 7s 203ms/step - loss: 0.0040 - accuracy: 0.9981 - precision: 0.9962 - recall: 1.0000 - val_loss: 0.4284 - val_accuracy: 0.8750 - val_precision: 0.9615 - val_recall: 0.7812\n",
            "Epoch 73/100\n",
            "33/33 [==============================] - 7s 208ms/step - loss: 0.0022 - accuracy: 1.0000 - precision: 1.0000 - recall: 1.0000 - val_loss: 0.4547 - val_accuracy: 0.8594 - val_precision: 0.9423 - val_recall: 0.7656\n",
            "Epoch 74/100\n",
            "33/33 [==============================] - 7s 200ms/step - loss: 9.8828e-04 - accuracy: 1.0000 - precision: 1.0000 - recall: 1.0000 - val_loss: 0.5213 - val_accuracy: 0.8516 - val_precision: 0.9412 - val_recall: 0.7500\n",
            "Epoch 75/100\n",
            "33/33 [==============================] - 7s 227ms/step - loss: 5.4965e-04 - accuracy: 1.0000 - precision: 1.0000 - recall: 1.0000 - val_loss: 0.5412 - val_accuracy: 0.8594 - val_precision: 0.9600 - val_recall: 0.7500\n",
            "Epoch 76/100\n",
            "33/33 [==============================] - 7s 200ms/step - loss: 0.0015 - accuracy: 1.0000 - precision: 1.0000 - recall: 1.0000 - val_loss: 0.5626 - val_accuracy: 0.8594 - val_precision: 0.9600 - val_recall: 0.7500\n",
            "Epoch 77/100\n",
            "33/33 [==============================] - 7s 207ms/step - loss: 5.7830e-04 - accuracy: 1.0000 - precision: 1.0000 - recall: 1.0000 - val_loss: 0.5458 - val_accuracy: 0.8672 - val_precision: 0.9608 - val_recall: 0.7656\n",
            "Epoch 78/100\n",
            "33/33 [==============================] - 7s 199ms/step - loss: 0.0028 - accuracy: 1.0000 - precision: 1.0000 - recall: 1.0000 - val_loss: 0.4837 - val_accuracy: 0.8672 - val_precision: 0.9796 - val_recall: 0.7500\n",
            "Epoch 79/100\n",
            "33/33 [==============================] - 8s 229ms/step - loss: 0.0074 - accuracy: 0.9981 - precision: 1.0000 - recall: 0.9961 - val_loss: 0.5024 - val_accuracy: 0.8516 - val_precision: 0.8261 - val_recall: 0.8906\n",
            "Epoch 80/100\n",
            "33/33 [==============================] - 7s 199ms/step - loss: 3.7229e-04 - accuracy: 1.0000 - precision: 1.0000 - recall: 1.0000 - val_loss: 0.4725 - val_accuracy: 0.8438 - val_precision: 0.8548 - val_recall: 0.8281\n",
            "Epoch 81/100\n",
            "33/33 [==============================] - 7s 209ms/step - loss: 0.0023 - accuracy: 0.9981 - precision: 0.9962 - recall: 1.0000 - val_loss: 0.4529 - val_accuracy: 0.8438 - val_precision: 0.8929 - val_recall: 0.7812\n",
            "Epoch 82/100\n",
            "33/33 [==============================] - 7s 198ms/step - loss: 0.0017 - accuracy: 1.0000 - precision: 1.0000 - recall: 1.0000 - val_loss: 0.4539 - val_accuracy: 0.8750 - val_precision: 0.9444 - val_recall: 0.7969\n",
            "Epoch 83/100\n",
            "33/33 [==============================] - 8s 228ms/step - loss: 2.5134e-04 - accuracy: 1.0000 - precision: 1.0000 - recall: 1.0000 - val_loss: 0.4870 - val_accuracy: 0.8672 - val_precision: 0.9608 - val_recall: 0.7656\n",
            "Epoch 84/100\n",
            "33/33 [==============================] - 7s 198ms/step - loss: 9.5484e-04 - accuracy: 1.0000 - precision: 1.0000 - recall: 1.0000 - val_loss: 0.4479 - val_accuracy: 0.8750 - val_precision: 0.9615 - val_recall: 0.7812\n",
            "Epoch 85/100\n",
            "33/33 [==============================] - 7s 201ms/step - loss: 0.0012 - accuracy: 1.0000 - precision: 1.0000 - recall: 1.0000 - val_loss: 0.4600 - val_accuracy: 0.8750 - val_precision: 0.9615 - val_recall: 0.7812\n",
            "Epoch 86/100\n",
            "33/33 [==============================] - 7s 203ms/step - loss: 0.0019 - accuracy: 1.0000 - precision: 1.0000 - recall: 1.0000 - val_loss: 0.3950 - val_accuracy: 0.8594 - val_precision: 0.8833 - val_recall: 0.8281\n",
            "Epoch 87/100\n",
            "33/33 [==============================] - 7s 206ms/step - loss: 6.2695e-04 - accuracy: 1.0000 - precision: 1.0000 - recall: 1.0000 - val_loss: 0.4069 - val_accuracy: 0.8359 - val_precision: 0.8772 - val_recall: 0.7812\n",
            "Epoch 88/100\n",
            "33/33 [==============================] - 7s 199ms/step - loss: 0.0017 - accuracy: 1.0000 - precision: 1.0000 - recall: 1.0000 - val_loss: 0.4739 - val_accuracy: 0.8438 - val_precision: 0.9231 - val_recall: 0.7500\n",
            "Epoch 89/100\n",
            "33/33 [==============================] - 8s 230ms/step - loss: 5.4910e-04 - accuracy: 1.0000 - precision: 1.0000 - recall: 1.0000 - val_loss: 0.4933 - val_accuracy: 0.8594 - val_precision: 0.9423 - val_recall: 0.7656\n",
            "Epoch 90/100\n",
            "33/33 [==============================] - 7s 200ms/step - loss: 0.0023 - accuracy: 1.0000 - precision: 1.0000 - recall: 1.0000 - val_loss: 0.5768 - val_accuracy: 0.8594 - val_precision: 0.9792 - val_recall: 0.7344\n",
            "Epoch 91/100\n",
            "33/33 [==============================] - 8s 228ms/step - loss: 0.0016 - accuracy: 1.0000 - precision: 1.0000 - recall: 1.0000 - val_loss: 0.5801 - val_accuracy: 0.8672 - val_precision: 0.9796 - val_recall: 0.7500\n",
            "Epoch 92/100\n",
            "33/33 [==============================] - 7s 200ms/step - loss: 2.7532e-04 - accuracy: 1.0000 - precision: 1.0000 - recall: 1.0000 - val_loss: 0.5836 - val_accuracy: 0.8672 - val_precision: 0.9796 - val_recall: 0.7500\n",
            "Epoch 93/100\n",
            "33/33 [==============================] - 7s 207ms/step - loss: 9.6639e-04 - accuracy: 1.0000 - precision: 1.0000 - recall: 1.0000 - val_loss: 0.6000 - val_accuracy: 0.8672 - val_precision: 0.9796 - val_recall: 0.7500\n",
            "Epoch 94/100\n",
            "33/33 [==============================] - 7s 207ms/step - loss: 3.5150e-04 - accuracy: 1.0000 - precision: 1.0000 - recall: 1.0000 - val_loss: 0.6119 - val_accuracy: 0.8516 - val_precision: 0.9412 - val_recall: 0.7500\n",
            "Epoch 95/100\n",
            "33/33 [==============================] - 7s 200ms/step - loss: 5.4571e-04 - accuracy: 1.0000 - precision: 1.0000 - recall: 1.0000 - val_loss: 0.5584 - val_accuracy: 0.8516 - val_precision: 0.9412 - val_recall: 0.7500\n",
            "Epoch 96/100\n",
            "33/33 [==============================] - 7s 201ms/step - loss: 4.0466e-04 - accuracy: 1.0000 - precision: 1.0000 - recall: 1.0000 - val_loss: 0.5481 - val_accuracy: 0.8516 - val_precision: 0.9412 - val_recall: 0.7500\n",
            "Epoch 97/100\n",
            "33/33 [==============================] - 7s 224ms/step - loss: 0.0028 - accuracy: 0.9981 - precision: 1.0000 - recall: 0.9961 - val_loss: 0.4604 - val_accuracy: 0.8359 - val_precision: 0.8909 - val_recall: 0.7656\n",
            "Epoch 98/100\n",
            "33/33 [==============================] - 7s 204ms/step - loss: 6.4490e-04 - accuracy: 1.0000 - precision: 1.0000 - recall: 1.0000 - val_loss: 0.4833 - val_accuracy: 0.8359 - val_precision: 0.8909 - val_recall: 0.7656\n",
            "Epoch 99/100\n",
            "33/33 [==============================] - 7s 199ms/step - loss: 0.0023 - accuracy: 1.0000 - precision: 1.0000 - recall: 1.0000 - val_loss: 0.4632 - val_accuracy: 0.8438 - val_precision: 0.8667 - val_recall: 0.8125\n",
            "Epoch 100/100\n",
            "33/33 [==============================] - 7s 211ms/step - loss: 0.0054 - accuracy: 0.9961 - precision: 0.9923 - recall: 1.0000 - val_loss: 0.4541 - val_accuracy: 0.8594 - val_precision: 0.9423 - val_recall: 0.7656\n"
          ]
        }
      ]
    },
    {
      "cell_type": "code",
      "source": [
        "model.save('model.h5')"
      ],
      "metadata": {
        "colab": {
          "base_uri": "https://localhost:8080/"
        },
        "id": "NbO5E7Tx4XG5",
        "outputId": "5dbe164e-6236-43ff-a31d-e0fb5307c3c5"
      },
      "execution_count": null,
      "outputs": [
        {
          "output_type": "stream",
          "name": "stderr",
          "text": [
            "/usr/local/lib/python3.10/dist-packages/keras/src/engine/training.py:3079: UserWarning: You are saving your model as an HDF5 file via `model.save()`. This file format is considered legacy. We recommend using instead the native Keras format, e.g. `model.save('my_model.keras')`.\n",
            "  saving_api.save_model(\n"
          ]
        }
      ]
    },
    {
      "cell_type": "code",
      "source": [
        "plt.plot(fit_history.history['accuracy'])\n",
        "plt.plot(fit_history.history['val_accuracy'])\n",
        "plt.title('Model Olasılığı')\n",
        "plt.ylabel('Olasılık')\n",
        "plt.xlabel('Epoch')\n",
        "plt.legend(['Eğitim', 'Doğrulama'], loc='upper left')\n",
        "plt.show()"
      ],
      "metadata": {
        "colab": {
          "base_uri": "https://localhost:8080/",
          "height": 472
        },
        "id": "BpSkc-a-4aEf",
        "outputId": "e513592a-2b0e-42c3-9fa7-ba932e09baa8"
      },
      "execution_count": null,
      "outputs": [
        {
          "output_type": "display_data",
          "data": {
            "text/plain": [
              "<Figure size 640x480 with 1 Axes>"
            ],
            "image/png": "[encoded data removed]"
          },
          "metadata": {}
        }
      ]
    },
    {
      "cell_type": "code",
      "source": [
        "plt.plot(fit_history.history['loss'])\n",
        "plt.plot(fit_history.history['val_loss'])\n",
        "plt.title('Model Kaybı')\n",
        "plt.ylabel('Kayıp (Loss)')\n",
        "plt.xlabel('Epoch')\n",
        "plt.legend(['Eğitim', 'Doğrulama'], loc='upper left')\n",
        "plt.show()"
      ],
      "metadata": {
        "colab": {
          "base_uri": "https://localhost:8080/",
          "height": 472
        },
        "id": "SNGORhJz4cfH",
        "outputId": "1b6bfef3-6ea6-4323-cad9-6216b7dd57a1"
      },
      "execution_count": null,
      "outputs": [
        {
          "output_type": "display_data",
          "data": {
            "text/plain": [
              "<Figure size 640x480 with 1 Axes>"
            ],
            "image/png": "[encoded data removed]"
          },
          "metadata": {}
        }
      ]
    },
    {
      "cell_type": "code",
      "source": [
        "loss, accuracy, precision, recall = model.evaluate(val_generator)"
      ],
      "metadata": {
        "colab": {
          "base_uri": "https://localhost:8080/"
        },
        "id": "98FuylB24eoS",
        "outputId": "2159107e-f71a-423a-c49a-b98730ac27b9"
      },
      "execution_count": null,
      "outputs": [
        {
          "output_type": "stream",
          "name": "stdout",
          "text": [
            "16/16 [==============================] - 1s 43ms/step - loss: 0.4541 - accuracy: 0.8594 - precision: 0.9423 - recall: 0.7656\n"
          ]
        }
      ]
    },
    {
      "cell_type": "code",
      "source": [
        "F1_Skoru = ((precision * recall) / (precision + recall)) * 2\n",
        "F1_Skoru"
      ],
      "metadata": {
        "colab": {
          "base_uri": "https://localhost:8080/"
        },
        "id": "gYC_xTta4g1v",
        "outputId": "f227d66b-f6fa-45e9-e6f4-7843ca7dd5a2"
      },
      "execution_count": null,
      "outputs": [
        {
          "output_type": "execute_result",
          "data": {
            "text/plain": [
              "0.8448275935777443"
            ]
          },
          "metadata": {},
          "execution_count": 19
        }
      ]
    },
    {
      "cell_type": "code",
      "source": [
        "y_true = val_generator.classes\n",
        "y_pred = model.predict(val_generator)\n",
        "y_pred = np.round(y_pred)\n",
        "confusion_matrisi = confusion_matrix(y_true, y_pred)\n",
        "print(confusion_matrisi)"
      ],
      "metadata": {
        "id": "WhPSDG_AGUWk",
        "colab": {
          "base_uri": "https://localhost:8080/"
        },
        "outputId": "d816a80c-2dfa-4c72-d925-4447a4a3a97b"
      },
      "execution_count": null,
      "outputs": [
        {
          "output_type": "stream",
          "name": "stdout",
          "text": [
            "16/16 [==============================] - 1s 33ms/step\n",
            "[[61  3]\n",
            " [15 49]]\n"
          ]
        }
      ]
    }
  ]
}